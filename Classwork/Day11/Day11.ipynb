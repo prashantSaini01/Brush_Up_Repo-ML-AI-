{
 "cells": [
  {
   "cell_type": "markdown",
   "id": "bb72db29",
   "metadata": {},
   "source": [
    "# Decision Tree using Cart(Classification and Regression Tree) Algo"
   ]
  },
  {
   "cell_type": "code",
   "execution_count": 1,
   "id": "1d063abb",
   "metadata": {},
   "outputs": [],
   "source": [
    "import pandas as pd\n",
    "import numpy as np\n",
    "from sklearn.model_selection import train_test_split\n",
    "from sklearn.tree import DecisionTreeClassifier\n",
    "from sklearn.ensemble import RandomForestClassifier"
   ]
  },
  {
   "cell_type": "code",
   "execution_count": 2,
   "id": "4cabc2bd",
   "metadata": {},
   "outputs": [
    {
     "data": {
      "text/html": [
       "<div>\n",
       "<style scoped>\n",
       "    .dataframe tbody tr th:only-of-type {\n",
       "        vertical-align: middle;\n",
       "    }\n",
       "\n",
       "    .dataframe tbody tr th {\n",
       "        vertical-align: top;\n",
       "    }\n",
       "\n",
       "    .dataframe thead th {\n",
       "        text-align: right;\n",
       "    }\n",
       "</style>\n",
       "<table border=\"1\" class=\"dataframe\">\n",
       "  <thead>\n",
       "    <tr style=\"text-align: right;\">\n",
       "      <th></th>\n",
       "      <th>mpg</th>\n",
       "      <th>cylinders</th>\n",
       "      <th>cubicinches</th>\n",
       "      <th>hp</th>\n",
       "      <th>weightlbs</th>\n",
       "      <th>time-to-60</th>\n",
       "      <th>year</th>\n",
       "      <th>brand</th>\n",
       "    </tr>\n",
       "  </thead>\n",
       "  <tbody>\n",
       "    <tr>\n",
       "      <th>0</th>\n",
       "      <td>14.0</td>\n",
       "      <td>8</td>\n",
       "      <td>350</td>\n",
       "      <td>165</td>\n",
       "      <td>4209</td>\n",
       "      <td>12</td>\n",
       "      <td>1972</td>\n",
       "      <td>US.</td>\n",
       "    </tr>\n",
       "    <tr>\n",
       "      <th>1</th>\n",
       "      <td>31.9</td>\n",
       "      <td>4</td>\n",
       "      <td>89</td>\n",
       "      <td>71</td>\n",
       "      <td>1925</td>\n",
       "      <td>14</td>\n",
       "      <td>1980</td>\n",
       "      <td>Europe.</td>\n",
       "    </tr>\n",
       "    <tr>\n",
       "      <th>2</th>\n",
       "      <td>17.0</td>\n",
       "      <td>8</td>\n",
       "      <td>302</td>\n",
       "      <td>140</td>\n",
       "      <td>3449</td>\n",
       "      <td>11</td>\n",
       "      <td>1971</td>\n",
       "      <td>US.</td>\n",
       "    </tr>\n",
       "    <tr>\n",
       "      <th>3</th>\n",
       "      <td>15.0</td>\n",
       "      <td>8</td>\n",
       "      <td>400</td>\n",
       "      <td>150</td>\n",
       "      <td>3761</td>\n",
       "      <td>10</td>\n",
       "      <td>1971</td>\n",
       "      <td>US.</td>\n",
       "    </tr>\n",
       "    <tr>\n",
       "      <th>4</th>\n",
       "      <td>30.5</td>\n",
       "      <td>4</td>\n",
       "      <td>98</td>\n",
       "      <td>63</td>\n",
       "      <td>2051</td>\n",
       "      <td>17</td>\n",
       "      <td>1978</td>\n",
       "      <td>US.</td>\n",
       "    </tr>\n",
       "    <tr>\n",
       "      <th>...</th>\n",
       "      <td>...</td>\n",
       "      <td>...</td>\n",
       "      <td>...</td>\n",
       "      <td>...</td>\n",
       "      <td>...</td>\n",
       "      <td>...</td>\n",
       "      <td>...</td>\n",
       "      <td>...</td>\n",
       "    </tr>\n",
       "    <tr>\n",
       "      <th>256</th>\n",
       "      <td>17.0</td>\n",
       "      <td>8</td>\n",
       "      <td>305</td>\n",
       "      <td>130</td>\n",
       "      <td>3840</td>\n",
       "      <td>15</td>\n",
       "      <td>1980</td>\n",
       "      <td>US.</td>\n",
       "    </tr>\n",
       "    <tr>\n",
       "      <th>257</th>\n",
       "      <td>36.1</td>\n",
       "      <td>4</td>\n",
       "      <td>91</td>\n",
       "      <td>60</td>\n",
       "      <td>1800</td>\n",
       "      <td>16</td>\n",
       "      <td>1979</td>\n",
       "      <td>Japan.</td>\n",
       "    </tr>\n",
       "    <tr>\n",
       "      <th>258</th>\n",
       "      <td>22.0</td>\n",
       "      <td>6</td>\n",
       "      <td>232</td>\n",
       "      <td>112</td>\n",
       "      <td>2835</td>\n",
       "      <td>15</td>\n",
       "      <td>1983</td>\n",
       "      <td>US.</td>\n",
       "    </tr>\n",
       "    <tr>\n",
       "      <th>259</th>\n",
       "      <td>18.0</td>\n",
       "      <td>6</td>\n",
       "      <td>232</td>\n",
       "      <td>100</td>\n",
       "      <td>3288</td>\n",
       "      <td>16</td>\n",
       "      <td>1972</td>\n",
       "      <td>US.</td>\n",
       "    </tr>\n",
       "    <tr>\n",
       "      <th>260</th>\n",
       "      <td>22.0</td>\n",
       "      <td>6</td>\n",
       "      <td>250</td>\n",
       "      <td>105</td>\n",
       "      <td>3353</td>\n",
       "      <td>15</td>\n",
       "      <td>1977</td>\n",
       "      <td>US.</td>\n",
       "    </tr>\n",
       "  </tbody>\n",
       "</table>\n",
       "<p>261 rows × 8 columns</p>\n",
       "</div>"
      ],
      "text/plain": [
       "      mpg  cylinders  cubicinches   hp  weightlbs  time-to-60  year     brand\n",
       "0    14.0          8          350  165       4209          12  1972       US.\n",
       "1    31.9          4           89   71       1925          14  1980   Europe.\n",
       "2    17.0          8          302  140       3449          11  1971       US.\n",
       "3    15.0          8          400  150       3761          10  1971       US.\n",
       "4    30.5          4           98   63       2051          17  1978       US.\n",
       "..    ...        ...          ...  ...        ...         ...   ...       ...\n",
       "256  17.0          8          305  130       3840          15  1980       US.\n",
       "257  36.1          4           91   60       1800          16  1979    Japan.\n",
       "258  22.0          6          232  112       2835          15  1983       US.\n",
       "259  18.0          6          232  100       3288          16  1972       US.\n",
       "260  22.0          6          250  105       3353          15  1977       US.\n",
       "\n",
       "[261 rows x 8 columns]"
      ]
     },
     "execution_count": 2,
     "metadata": {},
     "output_type": "execute_result"
    }
   ],
   "source": [
    "df = pd.read_csv(\"cars.csv\")\n",
    "df"
   ]
  },
  {
   "cell_type": "code",
   "execution_count": 3,
   "id": "c0756cd0",
   "metadata": {},
   "outputs": [
    {
     "data": {
      "text/plain": [
       "(261, 8)"
      ]
     },
     "execution_count": 3,
     "metadata": {},
     "output_type": "execute_result"
    }
   ],
   "source": [
    "df.shape"
   ]
  },
  {
   "cell_type": "code",
   "execution_count": 4,
   "id": "c5f32edc",
   "metadata": {},
   "outputs": [
    {
     "data": {
      "text/plain": [
       "mpg            0\n",
       "cylinders      0\n",
       "cubicinches    0\n",
       "hp             0\n",
       "weightlbs      0\n",
       "time-to-60     0\n",
       "year           0\n",
       "brand          0\n",
       "dtype: int64"
      ]
     },
     "execution_count": 4,
     "metadata": {},
     "output_type": "execute_result"
    }
   ],
   "source": [
    "df.isnull().sum()"
   ]
  },
  {
   "cell_type": "code",
   "execution_count": 5,
   "id": "36f1c4ec",
   "metadata": {},
   "outputs": [
    {
     "data": {
      "text/plain": [
       "0           US.\n",
       "1       Europe.\n",
       "2           US.\n",
       "3           US.\n",
       "4           US.\n",
       "         ...   \n",
       "256         US.\n",
       "257      Japan.\n",
       "258         US.\n",
       "259         US.\n",
       "260         US.\n",
       "Name: brand, Length: 261, dtype: object"
      ]
     },
     "execution_count": 5,
     "metadata": {},
     "output_type": "execute_result"
    }
   ],
   "source": [
    "df[\"brand\"]"
   ]
  },
  {
   "cell_type": "code",
   "execution_count": 6,
   "id": "5ec4a364",
   "metadata": {},
   "outputs": [
    {
     "data": {
      "text/html": [
       "<style>#sk-container-id-1 {color: black;background-color: white;}#sk-container-id-1 pre{padding: 0;}#sk-container-id-1 div.sk-toggleable {background-color: white;}#sk-container-id-1 label.sk-toggleable__label {cursor: pointer;display: block;width: 100%;margin-bottom: 0;padding: 0.3em;box-sizing: border-box;text-align: center;}#sk-container-id-1 label.sk-toggleable__label-arrow:before {content: \"▸\";float: left;margin-right: 0.25em;color: #696969;}#sk-container-id-1 label.sk-toggleable__label-arrow:hover:before {color: black;}#sk-container-id-1 div.sk-estimator:hover label.sk-toggleable__label-arrow:before {color: black;}#sk-container-id-1 div.sk-toggleable__content {max-height: 0;max-width: 0;overflow: hidden;text-align: left;background-color: #f0f8ff;}#sk-container-id-1 div.sk-toggleable__content pre {margin: 0.2em;color: black;border-radius: 0.25em;background-color: #f0f8ff;}#sk-container-id-1 input.sk-toggleable__control:checked~div.sk-toggleable__content {max-height: 200px;max-width: 100%;overflow: auto;}#sk-container-id-1 input.sk-toggleable__control:checked~label.sk-toggleable__label-arrow:before {content: \"▾\";}#sk-container-id-1 div.sk-estimator input.sk-toggleable__control:checked~label.sk-toggleable__label {background-color: #d4ebff;}#sk-container-id-1 div.sk-label input.sk-toggleable__control:checked~label.sk-toggleable__label {background-color: #d4ebff;}#sk-container-id-1 input.sk-hidden--visually {border: 0;clip: rect(1px 1px 1px 1px);clip: rect(1px, 1px, 1px, 1px);height: 1px;margin: -1px;overflow: hidden;padding: 0;position: absolute;width: 1px;}#sk-container-id-1 div.sk-estimator {font-family: monospace;background-color: #f0f8ff;border: 1px dotted black;border-radius: 0.25em;box-sizing: border-box;margin-bottom: 0.5em;}#sk-container-id-1 div.sk-estimator:hover {background-color: #d4ebff;}#sk-container-id-1 div.sk-parallel-item::after {content: \"\";width: 100%;border-bottom: 1px solid gray;flex-grow: 1;}#sk-container-id-1 div.sk-label:hover label.sk-toggleable__label {background-color: #d4ebff;}#sk-container-id-1 div.sk-serial::before {content: \"\";position: absolute;border-left: 1px solid gray;box-sizing: border-box;top: 0;bottom: 0;left: 50%;z-index: 0;}#sk-container-id-1 div.sk-serial {display: flex;flex-direction: column;align-items: center;background-color: white;padding-right: 0.2em;padding-left: 0.2em;position: relative;}#sk-container-id-1 div.sk-item {position: relative;z-index: 1;}#sk-container-id-1 div.sk-parallel {display: flex;align-items: stretch;justify-content: center;background-color: white;position: relative;}#sk-container-id-1 div.sk-item::before, #sk-container-id-1 div.sk-parallel-item::before {content: \"\";position: absolute;border-left: 1px solid gray;box-sizing: border-box;top: 0;bottom: 0;left: 50%;z-index: -1;}#sk-container-id-1 div.sk-parallel-item {display: flex;flex-direction: column;z-index: 1;position: relative;background-color: white;}#sk-container-id-1 div.sk-parallel-item:first-child::after {align-self: flex-end;width: 50%;}#sk-container-id-1 div.sk-parallel-item:last-child::after {align-self: flex-start;width: 50%;}#sk-container-id-1 div.sk-parallel-item:only-child::after {width: 0;}#sk-container-id-1 div.sk-dashed-wrapped {border: 1px dashed gray;margin: 0 0.4em 0.5em 0.4em;box-sizing: border-box;padding-bottom: 0.4em;background-color: white;}#sk-container-id-1 div.sk-label label {font-family: monospace;font-weight: bold;display: inline-block;line-height: 1.2em;}#sk-container-id-1 div.sk-label-container {text-align: center;}#sk-container-id-1 div.sk-container {/* jupyter's `normalize.less` sets `[hidden] { display: none; }` but bootstrap.min.css set `[hidden] { display: none !important; }` so we also need the `!important` here to be able to override the default hidden behavior on the sphinx rendered scikit-learn.org. See: https://github.com/scikit-learn/scikit-learn/issues/21755 */display: inline-block !important;position: relative;}#sk-container-id-1 div.sk-text-repr-fallback {display: none;}</style><div id=\"sk-container-id-1\" class=\"sk-top-container\"><div class=\"sk-text-repr-fallback\"><pre>LabelEncoder()</pre><b>In a Jupyter environment, please rerun this cell to show the HTML representation or trust the notebook. <br />On GitHub, the HTML representation is unable to render, please try loading this page with nbviewer.org.</b></div><div class=\"sk-container\" hidden><div class=\"sk-item\"><div class=\"sk-estimator sk-toggleable\"><input class=\"sk-toggleable__control sk-hidden--visually\" id=\"sk-estimator-id-1\" type=\"checkbox\" checked><label for=\"sk-estimator-id-1\" class=\"sk-toggleable__label sk-toggleable__label-arrow\">LabelEncoder</label><div class=\"sk-toggleable__content\"><pre>LabelEncoder()</pre></div></div></div></div></div>"
      ],
      "text/plain": [
       "LabelEncoder()"
      ]
     },
     "execution_count": 6,
     "metadata": {},
     "output_type": "execute_result"
    }
   ],
   "source": [
    "from sklearn.preprocessing import LabelEncoder\n",
    "le = LabelEncoder()\n",
    "le.fit(df[\"brand\"])"
   ]
  },
  {
   "cell_type": "code",
   "execution_count": 7,
   "id": "8792e66d",
   "metadata": {},
   "outputs": [],
   "source": [
    "df[\"brand\"] = le.transform(df[\"brand\"])"
   ]
  },
  {
   "cell_type": "code",
   "execution_count": 8,
   "id": "3b269469",
   "metadata": {
    "scrolled": true
   },
   "outputs": [
    {
     "data": {
      "text/plain": [
       "0      2\n",
       "1      0\n",
       "2      2\n",
       "3      2\n",
       "4      2\n",
       "      ..\n",
       "256    2\n",
       "257    1\n",
       "258    2\n",
       "259    2\n",
       "260    2\n",
       "Name: brand, Length: 261, dtype: int32"
      ]
     },
     "execution_count": 8,
     "metadata": {},
     "output_type": "execute_result"
    }
   ],
   "source": [
    "df[\"brand\"]"
   ]
  },
  {
   "cell_type": "code",
   "execution_count": 9,
   "id": "58027dfa",
   "metadata": {},
   "outputs": [],
   "source": [
    "# Divide into x and y\n",
    "x= df.drop(\"brand\",axis=1)\n",
    "y=df.brand"
   ]
  },
  {
   "cell_type": "code",
   "execution_count": 10,
   "id": "61b0413f",
   "metadata": {},
   "outputs": [],
   "source": [
    "#Train Test Split\n",
    "x_train,x_test,y_train,y_test = train_test_split(x,y,random_state=1,test_size=0.2)"
   ]
  },
  {
   "cell_type": "code",
   "execution_count": 11,
   "id": "864aa57f",
   "metadata": {},
   "outputs": [
    {
     "data": {
      "text/plain": [
       "((208, 7), (53, 7), (208,), (53,))"
      ]
     },
     "execution_count": 11,
     "metadata": {},
     "output_type": "execute_result"
    }
   ],
   "source": [
    "(x_train.shape,x_test.shape,y_train.shape,y_test.shape)"
   ]
  },
  {
   "cell_type": "code",
   "execution_count": 12,
   "id": "4de3dc2e",
   "metadata": {},
   "outputs": [],
   "source": [
    "# Decision Tree\n",
    "dtree = DecisionTreeClassifier(criterion=\"gini\",max_features=3,max_depth=3)"
   ]
  },
  {
   "cell_type": "code",
   "execution_count": 13,
   "id": "04531444",
   "metadata": {},
   "outputs": [
    {
     "data": {
      "text/html": [
       "<style>#sk-container-id-2 {color: black;background-color: white;}#sk-container-id-2 pre{padding: 0;}#sk-container-id-2 div.sk-toggleable {background-color: white;}#sk-container-id-2 label.sk-toggleable__label {cursor: pointer;display: block;width: 100%;margin-bottom: 0;padding: 0.3em;box-sizing: border-box;text-align: center;}#sk-container-id-2 label.sk-toggleable__label-arrow:before {content: \"▸\";float: left;margin-right: 0.25em;color: #696969;}#sk-container-id-2 label.sk-toggleable__label-arrow:hover:before {color: black;}#sk-container-id-2 div.sk-estimator:hover label.sk-toggleable__label-arrow:before {color: black;}#sk-container-id-2 div.sk-toggleable__content {max-height: 0;max-width: 0;overflow: hidden;text-align: left;background-color: #f0f8ff;}#sk-container-id-2 div.sk-toggleable__content pre {margin: 0.2em;color: black;border-radius: 0.25em;background-color: #f0f8ff;}#sk-container-id-2 input.sk-toggleable__control:checked~div.sk-toggleable__content {max-height: 200px;max-width: 100%;overflow: auto;}#sk-container-id-2 input.sk-toggleable__control:checked~label.sk-toggleable__label-arrow:before {content: \"▾\";}#sk-container-id-2 div.sk-estimator input.sk-toggleable__control:checked~label.sk-toggleable__label {background-color: #d4ebff;}#sk-container-id-2 div.sk-label input.sk-toggleable__control:checked~label.sk-toggleable__label {background-color: #d4ebff;}#sk-container-id-2 input.sk-hidden--visually {border: 0;clip: rect(1px 1px 1px 1px);clip: rect(1px, 1px, 1px, 1px);height: 1px;margin: -1px;overflow: hidden;padding: 0;position: absolute;width: 1px;}#sk-container-id-2 div.sk-estimator {font-family: monospace;background-color: #f0f8ff;border: 1px dotted black;border-radius: 0.25em;box-sizing: border-box;margin-bottom: 0.5em;}#sk-container-id-2 div.sk-estimator:hover {background-color: #d4ebff;}#sk-container-id-2 div.sk-parallel-item::after {content: \"\";width: 100%;border-bottom: 1px solid gray;flex-grow: 1;}#sk-container-id-2 div.sk-label:hover label.sk-toggleable__label {background-color: #d4ebff;}#sk-container-id-2 div.sk-serial::before {content: \"\";position: absolute;border-left: 1px solid gray;box-sizing: border-box;top: 0;bottom: 0;left: 50%;z-index: 0;}#sk-container-id-2 div.sk-serial {display: flex;flex-direction: column;align-items: center;background-color: white;padding-right: 0.2em;padding-left: 0.2em;position: relative;}#sk-container-id-2 div.sk-item {position: relative;z-index: 1;}#sk-container-id-2 div.sk-parallel {display: flex;align-items: stretch;justify-content: center;background-color: white;position: relative;}#sk-container-id-2 div.sk-item::before, #sk-container-id-2 div.sk-parallel-item::before {content: \"\";position: absolute;border-left: 1px solid gray;box-sizing: border-box;top: 0;bottom: 0;left: 50%;z-index: -1;}#sk-container-id-2 div.sk-parallel-item {display: flex;flex-direction: column;z-index: 1;position: relative;background-color: white;}#sk-container-id-2 div.sk-parallel-item:first-child::after {align-self: flex-end;width: 50%;}#sk-container-id-2 div.sk-parallel-item:last-child::after {align-self: flex-start;width: 50%;}#sk-container-id-2 div.sk-parallel-item:only-child::after {width: 0;}#sk-container-id-2 div.sk-dashed-wrapped {border: 1px dashed gray;margin: 0 0.4em 0.5em 0.4em;box-sizing: border-box;padding-bottom: 0.4em;background-color: white;}#sk-container-id-2 div.sk-label label {font-family: monospace;font-weight: bold;display: inline-block;line-height: 1.2em;}#sk-container-id-2 div.sk-label-container {text-align: center;}#sk-container-id-2 div.sk-container {/* jupyter's `normalize.less` sets `[hidden] { display: none; }` but bootstrap.min.css set `[hidden] { display: none !important; }` so we also need the `!important` here to be able to override the default hidden behavior on the sphinx rendered scikit-learn.org. See: https://github.com/scikit-learn/scikit-learn/issues/21755 */display: inline-block !important;position: relative;}#sk-container-id-2 div.sk-text-repr-fallback {display: none;}</style><div id=\"sk-container-id-2\" class=\"sk-top-container\"><div class=\"sk-text-repr-fallback\"><pre>DecisionTreeClassifier(max_depth=3, max_features=3)</pre><b>In a Jupyter environment, please rerun this cell to show the HTML representation or trust the notebook. <br />On GitHub, the HTML representation is unable to render, please try loading this page with nbviewer.org.</b></div><div class=\"sk-container\" hidden><div class=\"sk-item\"><div class=\"sk-estimator sk-toggleable\"><input class=\"sk-toggleable__control sk-hidden--visually\" id=\"sk-estimator-id-2\" type=\"checkbox\" checked><label for=\"sk-estimator-id-2\" class=\"sk-toggleable__label sk-toggleable__label-arrow\">DecisionTreeClassifier</label><div class=\"sk-toggleable__content\"><pre>DecisionTreeClassifier(max_depth=3, max_features=3)</pre></div></div></div></div></div>"
      ],
      "text/plain": [
       "DecisionTreeClassifier(max_depth=3, max_features=3)"
      ]
     },
     "execution_count": 13,
     "metadata": {},
     "output_type": "execute_result"
    }
   ],
   "source": [
    "dtree.fit(x_train,y_train)"
   ]
  },
  {
   "cell_type": "code",
   "execution_count": 14,
   "id": "e53e612f",
   "metadata": {},
   "outputs": [
    {
     "data": {
      "text/plain": [
       "array([2, 2, 0, 1, 2, 0, 0, 1, 2, 2, 2, 2, 2, 1, 1, 1, 1, 2, 1, 2, 1, 2,\n",
       "       2, 2, 2, 0, 0, 2, 0, 2, 0, 2, 1, 0, 2, 2, 2, 0, 0, 2, 2, 1, 1, 1,\n",
       "       2, 0, 0, 0, 2, 0, 1, 2, 2])"
      ]
     },
     "execution_count": 14,
     "metadata": {},
     "output_type": "execute_result"
    }
   ],
   "source": [
    "y_pred = dtree.predict(x_test)\n",
    "y_pred"
   ]
  },
  {
   "cell_type": "code",
   "execution_count": 15,
   "id": "ef9746db",
   "metadata": {},
   "outputs": [
    {
     "data": {
      "text/plain": [
       "0.7547169811320755"
      ]
     },
     "execution_count": 15,
     "metadata": {},
     "output_type": "execute_result"
    }
   ],
   "source": [
    "from sklearn.metrics import accuracy_score\n",
    "accuracy_score(y_pred,y_test)"
   ]
  },
  {
   "cell_type": "code",
   "execution_count": 16,
   "id": "29f0fdc4",
   "metadata": {},
   "outputs": [
    {
     "data": {
      "image/png": "[encoded data removed]",
      "text/plain": [
       "<Figure size 864x432 with 1 Axes>"
      ]
     },
     "metadata": {
      "needs_background": "light"
     },
     "output_type": "display_data"
    }
   ],
   "source": [
    "#Plot\n",
    "import matplotlib.pyplot as plt\n",
    "from sklearn.tree import plot_tree\n",
    "plt.figure(figsize=(12,6))\n",
    "plot_tree(dtree,class_names=list(le.classes_),feature_names=list(x_train.columns))\n",
    "plt.show()"
   ]
  },
  {
   "cell_type": "code",
   "execution_count": 17,
   "id": "c83729c3",
   "metadata": {},
   "outputs": [
    {
     "data": {
      "text/plain": [
       "array([0.09714505, 0.56664147, 0.20157778, 0.        , 0.1346357 ,\n",
       "       0.        , 0.        ])"
      ]
     },
     "execution_count": 17,
     "metadata": {},
     "output_type": "execute_result"
    }
   ],
   "source": [
    "dtree.feature_importances_"
   ]
  },
  {
   "cell_type": "code",
   "execution_count": 18,
   "id": "a9916343",
   "metadata": {},
   "outputs": [
    {
     "data": {
      "text/html": [
       "<div>\n",
       "<style scoped>\n",
       "    .dataframe tbody tr th:only-of-type {\n",
       "        vertical-align: middle;\n",
       "    }\n",
       "\n",
       "    .dataframe tbody tr th {\n",
       "        vertical-align: top;\n",
       "    }\n",
       "\n",
       "    .dataframe thead th {\n",
       "        text-align: right;\n",
       "    }\n",
       "</style>\n",
       "<table border=\"1\" class=\"dataframe\">\n",
       "  <thead>\n",
       "    <tr style=\"text-align: right;\">\n",
       "      <th></th>\n",
       "      <th>features</th>\n",
       "      <th>Importance</th>\n",
       "    </tr>\n",
       "  </thead>\n",
       "  <tbody>\n",
       "    <tr>\n",
       "      <th>0</th>\n",
       "      <td>mpg</td>\n",
       "      <td>0.097145</td>\n",
       "    </tr>\n",
       "    <tr>\n",
       "      <th>1</th>\n",
       "      <td>cylinders</td>\n",
       "      <td>0.566641</td>\n",
       "    </tr>\n",
       "    <tr>\n",
       "      <th>2</th>\n",
       "      <td>cubicinches</td>\n",
       "      <td>0.201578</td>\n",
       "    </tr>\n",
       "    <tr>\n",
       "      <th>3</th>\n",
       "      <td>hp</td>\n",
       "      <td>0.000000</td>\n",
       "    </tr>\n",
       "    <tr>\n",
       "      <th>4</th>\n",
       "      <td>weightlbs</td>\n",
       "      <td>0.134636</td>\n",
       "    </tr>\n",
       "    <tr>\n",
       "      <th>5</th>\n",
       "      <td>time-to-60</td>\n",
       "      <td>0.000000</td>\n",
       "    </tr>\n",
       "    <tr>\n",
       "      <th>6</th>\n",
       "      <td>year</td>\n",
       "      <td>0.000000</td>\n",
       "    </tr>\n",
       "  </tbody>\n",
       "</table>\n",
       "</div>"
      ],
      "text/plain": [
       "      features  Importance\n",
       "0          mpg    0.097145\n",
       "1    cylinders    0.566641\n",
       "2  cubicinches    0.201578\n",
       "3           hp    0.000000\n",
       "4    weightlbs    0.134636\n",
       "5   time-to-60    0.000000\n",
       "6         year    0.000000"
      ]
     },
     "execution_count": 18,
     "metadata": {},
     "output_type": "execute_result"
    }
   ],
   "source": [
    "pd.DataFrame({\"features\":x_train.columns,\n",
    "              \"Importance\":dtree.feature_importances_})"
   ]
  },
  {
   "cell_type": "markdown",
   "id": "3cc02d94",
   "metadata": {},
   "source": [
    "# Random Forest Classifier"
   ]
  },
  {
   "cell_type": "code",
   "execution_count": 19,
   "id": "952b4c0a",
   "metadata": {},
   "outputs": [],
   "source": [
    "rf = RandomForestClassifier(criterion=\"gini\",n_estimators=200)"
   ]
  },
  {
   "cell_type": "code",
   "execution_count": 20,
   "id": "365183fb",
   "metadata": {},
   "outputs": [
    {
     "data": {
      "text/html": [
       "<style>#sk-container-id-3 {color: black;background-color: white;}#sk-container-id-3 pre{padding: 0;}#sk-container-id-3 div.sk-toggleable {background-color: white;}#sk-container-id-3 label.sk-toggleable__label {cursor: pointer;display: block;width: 100%;margin-bottom: 0;padding: 0.3em;box-sizing: border-box;text-align: center;}#sk-container-id-3 label.sk-toggleable__label-arrow:before {content: \"▸\";float: left;margin-right: 0.25em;color: #696969;}#sk-container-id-3 label.sk-toggleable__label-arrow:hover:before {color: black;}#sk-container-id-3 div.sk-estimator:hover label.sk-toggleable__label-arrow:before {color: black;}#sk-container-id-3 div.sk-toggleable__content {max-height: 0;max-width: 0;overflow: hidden;text-align: left;background-color: #f0f8ff;}#sk-container-id-3 div.sk-toggleable__content pre {margin: 0.2em;color: black;border-radius: 0.25em;background-color: #f0f8ff;}#sk-container-id-3 input.sk-toggleable__control:checked~div.sk-toggleable__content {max-height: 200px;max-width: 100%;overflow: auto;}#sk-container-id-3 input.sk-toggleable__control:checked~label.sk-toggleable__label-arrow:before {content: \"▾\";}#sk-container-id-3 div.sk-estimator input.sk-toggleable__control:checked~label.sk-toggleable__label {background-color: #d4ebff;}#sk-container-id-3 div.sk-label input.sk-toggleable__control:checked~label.sk-toggleable__label {background-color: #d4ebff;}#sk-container-id-3 input.sk-hidden--visually {border: 0;clip: rect(1px 1px 1px 1px);clip: rect(1px, 1px, 1px, 1px);height: 1px;margin: -1px;overflow: hidden;padding: 0;position: absolute;width: 1px;}#sk-container-id-3 div.sk-estimator {font-family: monospace;background-color: #f0f8ff;border: 1px dotted black;border-radius: 0.25em;box-sizing: border-box;margin-bottom: 0.5em;}#sk-container-id-3 div.sk-estimator:hover {background-color: #d4ebff;}#sk-container-id-3 div.sk-parallel-item::after {content: \"\";width: 100%;border-bottom: 1px solid gray;flex-grow: 1;}#sk-container-id-3 div.sk-label:hover label.sk-toggleable__label {background-color: #d4ebff;}#sk-container-id-3 div.sk-serial::before {content: \"\";position: absolute;border-left: 1px solid gray;box-sizing: border-box;top: 0;bottom: 0;left: 50%;z-index: 0;}#sk-container-id-3 div.sk-serial {display: flex;flex-direction: column;align-items: center;background-color: white;padding-right: 0.2em;padding-left: 0.2em;position: relative;}#sk-container-id-3 div.sk-item {position: relative;z-index: 1;}#sk-container-id-3 div.sk-parallel {display: flex;align-items: stretch;justify-content: center;background-color: white;position: relative;}#sk-container-id-3 div.sk-item::before, #sk-container-id-3 div.sk-parallel-item::before {content: \"\";position: absolute;border-left: 1px solid gray;box-sizing: border-box;top: 0;bottom: 0;left: 50%;z-index: -1;}#sk-container-id-3 div.sk-parallel-item {display: flex;flex-direction: column;z-index: 1;position: relative;background-color: white;}#sk-container-id-3 div.sk-parallel-item:first-child::after {align-self: flex-end;width: 50%;}#sk-container-id-3 div.sk-parallel-item:last-child::after {align-self: flex-start;width: 50%;}#sk-container-id-3 div.sk-parallel-item:only-child::after {width: 0;}#sk-container-id-3 div.sk-dashed-wrapped {border: 1px dashed gray;margin: 0 0.4em 0.5em 0.4em;box-sizing: border-box;padding-bottom: 0.4em;background-color: white;}#sk-container-id-3 div.sk-label label {font-family: monospace;font-weight: bold;display: inline-block;line-height: 1.2em;}#sk-container-id-3 div.sk-label-container {text-align: center;}#sk-container-id-3 div.sk-container {/* jupyter's `normalize.less` sets `[hidden] { display: none; }` but bootstrap.min.css set `[hidden] { display: none !important; }` so we also need the `!important` here to be able to override the default hidden behavior on the sphinx rendered scikit-learn.org. See: https://github.com/scikit-learn/scikit-learn/issues/21755 */display: inline-block !important;position: relative;}#sk-container-id-3 div.sk-text-repr-fallback {display: none;}</style><div id=\"sk-container-id-3\" class=\"sk-top-container\"><div class=\"sk-text-repr-fallback\"><pre>RandomForestClassifier(n_estimators=200)</pre><b>In a Jupyter environment, please rerun this cell to show the HTML representation or trust the notebook. <br />On GitHub, the HTML representation is unable to render, please try loading this page with nbviewer.org.</b></div><div class=\"sk-container\" hidden><div class=\"sk-item\"><div class=\"sk-estimator sk-toggleable\"><input class=\"sk-toggleable__control sk-hidden--visually\" id=\"sk-estimator-id-3\" type=\"checkbox\" checked><label for=\"sk-estimator-id-3\" class=\"sk-toggleable__label sk-toggleable__label-arrow\">RandomForestClassifier</label><div class=\"sk-toggleable__content\"><pre>RandomForestClassifier(n_estimators=200)</pre></div></div></div></div></div>"
      ],
      "text/plain": [
       "RandomForestClassifier(n_estimators=200)"
      ]
     },
     "execution_count": 20,
     "metadata": {},
     "output_type": "execute_result"
    }
   ],
   "source": [
    "rf.fit(x_train,y_train)"
   ]
  },
  {
   "cell_type": "code",
   "execution_count": 21,
   "id": "9d017c21",
   "metadata": {},
   "outputs": [
    {
     "data": {
      "text/plain": [
       "array([2, 2, 1, 0, 2, 0, 1, 2, 2, 2, 2, 2, 2, 1, 1, 1, 1, 2, 0, 2, 1, 2,\n",
       "       2, 2, 2, 0, 1, 2, 0, 2, 0, 2, 1, 0, 2, 2, 2, 2, 0, 2, 2, 1, 1, 1,\n",
       "       2, 1, 1, 0, 2, 1, 1, 2, 2])"
      ]
     },
     "execution_count": 21,
     "metadata": {},
     "output_type": "execute_result"
    }
   ],
   "source": [
    "y_pred = rf.predict(x_test)\n",
    "y_pred"
   ]
  },
  {
   "cell_type": "code",
   "execution_count": 22,
   "id": "7f8a7d67",
   "metadata": {},
   "outputs": [
    {
     "data": {
      "text/plain": [
       "0.8301886792452831"
      ]
     },
     "execution_count": 22,
     "metadata": {},
     "output_type": "execute_result"
    }
   ],
   "source": [
    "accuracy_score(y_test,y_pred)"
   ]
  },
  {
   "cell_type": "code",
   "execution_count": 23,
   "id": "47eba990",
   "metadata": {},
   "outputs": [
    {
     "data": {
      "text/plain": [
       "[DecisionTreeClassifier(max_features='sqrt', random_state=239788147),\n",
       " DecisionTreeClassifier(max_features='sqrt', random_state=1772329488),\n",
       " DecisionTreeClassifier(max_features='sqrt', random_state=2010374573),\n",
       " DecisionTreeClassifier(max_features='sqrt', random_state=1696838983),\n",
       " DecisionTreeClassifier(max_features='sqrt', random_state=290629884),\n",
       " DecisionTreeClassifier(max_features='sqrt', random_state=2013450947),\n",
       " DecisionTreeClassifier(max_features='sqrt', random_state=164824937),\n",
       " DecisionTreeClassifier(max_features='sqrt', random_state=1387797473),\n",
       " DecisionTreeClassifier(max_features='sqrt', random_state=1493457883),\n",
       " DecisionTreeClassifier(max_features='sqrt', random_state=691984031),\n",
       " DecisionTreeClassifier(max_features='sqrt', random_state=1135253060),\n",
       " DecisionTreeClassifier(max_features='sqrt', random_state=815139060),\n",
       " DecisionTreeClassifier(max_features='sqrt', random_state=1103634319),\n",
       " DecisionTreeClassifier(max_features='sqrt', random_state=1003869741),\n",
       " DecisionTreeClassifier(max_features='sqrt', random_state=650501321),\n",
       " DecisionTreeClassifier(max_features='sqrt', random_state=1814881087),\n",
       " DecisionTreeClassifier(max_features='sqrt', random_state=1557842309),\n",
       " DecisionTreeClassifier(max_features='sqrt', random_state=1968993547),\n",
       " DecisionTreeClassifier(max_features='sqrt', random_state=159045594),\n",
       " DecisionTreeClassifier(max_features='sqrt', random_state=126995699),\n",
       " DecisionTreeClassifier(max_features='sqrt', random_state=645824023),\n",
       " DecisionTreeClassifier(max_features='sqrt', random_state=1472574722),\n",
       " DecisionTreeClassifier(max_features='sqrt', random_state=2144049468),\n",
       " DecisionTreeClassifier(max_features='sqrt', random_state=1098376809),\n",
       " DecisionTreeClassifier(max_features='sqrt', random_state=1589975010),\n",
       " DecisionTreeClassifier(max_features='sqrt', random_state=1859725908),\n",
       " DecisionTreeClassifier(max_features='sqrt', random_state=481376913),\n",
       " DecisionTreeClassifier(max_features='sqrt', random_state=1751978539),\n",
       " DecisionTreeClassifier(max_features='sqrt', random_state=302391523),\n",
       " DecisionTreeClassifier(max_features='sqrt', random_state=425844653),\n",
       " DecisionTreeClassifier(max_features='sqrt', random_state=671827878),\n",
       " DecisionTreeClassifier(max_features='sqrt', random_state=741563146),\n",
       " DecisionTreeClassifier(max_features='sqrt', random_state=768779303),\n",
       " DecisionTreeClassifier(max_features='sqrt', random_state=1489277312),\n",
       " DecisionTreeClassifier(max_features='sqrt', random_state=828372572),\n",
       " DecisionTreeClassifier(max_features='sqrt', random_state=283951466),\n",
       " DecisionTreeClassifier(max_features='sqrt', random_state=1350420334),\n",
       " DecisionTreeClassifier(max_features='sqrt', random_state=843376631),\n",
       " DecisionTreeClassifier(max_features='sqrt', random_state=673498534),\n",
       " DecisionTreeClassifier(max_features='sqrt', random_state=1687422562),\n",
       " DecisionTreeClassifier(max_features='sqrt', random_state=1748087178),\n",
       " DecisionTreeClassifier(max_features='sqrt', random_state=157322230),\n",
       " DecisionTreeClassifier(max_features='sqrt', random_state=2017581334),\n",
       " DecisionTreeClassifier(max_features='sqrt', random_state=1057913506),\n",
       " DecisionTreeClassifier(max_features='sqrt', random_state=883934333),\n",
       " DecisionTreeClassifier(max_features='sqrt', random_state=564463575),\n",
       " DecisionTreeClassifier(max_features='sqrt', random_state=1677506408),\n",
       " DecisionTreeClassifier(max_features='sqrt', random_state=710752624),\n",
       " DecisionTreeClassifier(max_features='sqrt', random_state=1487452875),\n",
       " DecisionTreeClassifier(max_features='sqrt', random_state=94725254),\n",
       " DecisionTreeClassifier(max_features='sqrt', random_state=205707195),\n",
       " DecisionTreeClassifier(max_features='sqrt', random_state=2016088801),\n",
       " DecisionTreeClassifier(max_features='sqrt', random_state=1796247753),\n",
       " DecisionTreeClassifier(max_features='sqrt', random_state=197163458),\n",
       " DecisionTreeClassifier(max_features='sqrt', random_state=1261045464),\n",
       " DecisionTreeClassifier(max_features='sqrt', random_state=1092269114),\n",
       " DecisionTreeClassifier(max_features='sqrt', random_state=1922697342),\n",
       " DecisionTreeClassifier(max_features='sqrt', random_state=258783036),\n",
       " DecisionTreeClassifier(max_features='sqrt', random_state=895676770),\n",
       " DecisionTreeClassifier(max_features='sqrt', random_state=786824530),\n",
       " DecisionTreeClassifier(max_features='sqrt', random_state=206747287),\n",
       " DecisionTreeClassifier(max_features='sqrt', random_state=845952293),\n",
       " DecisionTreeClassifier(max_features='sqrt', random_state=2096568440),\n",
       " DecisionTreeClassifier(max_features='sqrt', random_state=1209859173),\n",
       " DecisionTreeClassifier(max_features='sqrt', random_state=122931973),\n",
       " DecisionTreeClassifier(max_features='sqrt', random_state=57502864),\n",
       " DecisionTreeClassifier(max_features='sqrt', random_state=303021436),\n",
       " DecisionTreeClassifier(max_features='sqrt', random_state=643867170),\n",
       " DecisionTreeClassifier(max_features='sqrt', random_state=176553113),\n",
       " DecisionTreeClassifier(max_features='sqrt', random_state=1124522011),\n",
       " DecisionTreeClassifier(max_features='sqrt', random_state=950914107),\n",
       " DecisionTreeClassifier(max_features='sqrt', random_state=729301101),\n",
       " DecisionTreeClassifier(max_features='sqrt', random_state=242477880),\n",
       " DecisionTreeClassifier(max_features='sqrt', random_state=803273146),\n",
       " DecisionTreeClassifier(max_features='sqrt', random_state=385852366),\n",
       " DecisionTreeClassifier(max_features='sqrt', random_state=1327273705),\n",
       " DecisionTreeClassifier(max_features='sqrt', random_state=1762588140),\n",
       " DecisionTreeClassifier(max_features='sqrt', random_state=2129689651),\n",
       " DecisionTreeClassifier(max_features='sqrt', random_state=503909281),\n",
       " DecisionTreeClassifier(max_features='sqrt', random_state=10761264),\n",
       " DecisionTreeClassifier(max_features='sqrt', random_state=1409702673),\n",
       " DecisionTreeClassifier(max_features='sqrt', random_state=36531267),\n",
       " DecisionTreeClassifier(max_features='sqrt', random_state=1255804483),\n",
       " DecisionTreeClassifier(max_features='sqrt', random_state=1997148605),\n",
       " DecisionTreeClassifier(max_features='sqrt', random_state=132838501),\n",
       " DecisionTreeClassifier(max_features='sqrt', random_state=1901232134),\n",
       " DecisionTreeClassifier(max_features='sqrt', random_state=1601508054),\n",
       " DecisionTreeClassifier(max_features='sqrt', random_state=1549992988),\n",
       " DecisionTreeClassifier(max_features='sqrt', random_state=680471309),\n",
       " DecisionTreeClassifier(max_features='sqrt', random_state=2045802126),\n",
       " DecisionTreeClassifier(max_features='sqrt', random_state=1028499932),\n",
       " DecisionTreeClassifier(max_features='sqrt', random_state=1047415354),\n",
       " DecisionTreeClassifier(max_features='sqrt', random_state=2020555482),\n",
       " DecisionTreeClassifier(max_features='sqrt', random_state=357219589),\n",
       " DecisionTreeClassifier(max_features='sqrt', random_state=673783713),\n",
       " DecisionTreeClassifier(max_features='sqrt', random_state=1271973860),\n",
       " DecisionTreeClassifier(max_features='sqrt', random_state=464334833),\n",
       " DecisionTreeClassifier(max_features='sqrt', random_state=480792132),\n",
       " DecisionTreeClassifier(max_features='sqrt', random_state=934393879),\n",
       " DecisionTreeClassifier(max_features='sqrt', random_state=1906690422),\n",
       " DecisionTreeClassifier(max_features='sqrt', random_state=745058939),\n",
       " DecisionTreeClassifier(max_features='sqrt', random_state=808974496),\n",
       " DecisionTreeClassifier(max_features='sqrt', random_state=1974278732),\n",
       " DecisionTreeClassifier(max_features='sqrt', random_state=1438926630),\n",
       " DecisionTreeClassifier(max_features='sqrt', random_state=1825500080),\n",
       " DecisionTreeClassifier(max_features='sqrt', random_state=1386972431),\n",
       " DecisionTreeClassifier(max_features='sqrt', random_state=619907528),\n",
       " DecisionTreeClassifier(max_features='sqrt', random_state=2136302275),\n",
       " DecisionTreeClassifier(max_features='sqrt', random_state=855127961),\n",
       " DecisionTreeClassifier(max_features='sqrt', random_state=2036982990),\n",
       " DecisionTreeClassifier(max_features='sqrt', random_state=1892606061),\n",
       " DecisionTreeClassifier(max_features='sqrt', random_state=1418657766),\n",
       " DecisionTreeClassifier(max_features='sqrt', random_state=1899681460),\n",
       " DecisionTreeClassifier(max_features='sqrt', random_state=1061119759),\n",
       " DecisionTreeClassifier(max_features='sqrt', random_state=1573490668),\n",
       " DecisionTreeClassifier(max_features='sqrt', random_state=213954924),\n",
       " DecisionTreeClassifier(max_features='sqrt', random_state=71043189),\n",
       " DecisionTreeClassifier(max_features='sqrt', random_state=2065287250),\n",
       " DecisionTreeClassifier(max_features='sqrt', random_state=763382665),\n",
       " DecisionTreeClassifier(max_features='sqrt', random_state=1145290323),\n",
       " DecisionTreeClassifier(max_features='sqrt', random_state=1030786808),\n",
       " DecisionTreeClassifier(max_features='sqrt', random_state=1990534220),\n",
       " DecisionTreeClassifier(max_features='sqrt', random_state=2055986963),\n",
       " DecisionTreeClassifier(max_features='sqrt', random_state=1815633632),\n",
       " DecisionTreeClassifier(max_features='sqrt', random_state=654024984),\n",
       " DecisionTreeClassifier(max_features='sqrt', random_state=1579395462),\n",
       " DecisionTreeClassifier(max_features='sqrt', random_state=265538627),\n",
       " DecisionTreeClassifier(max_features='sqrt', random_state=1280381669),\n",
       " DecisionTreeClassifier(max_features='sqrt', random_state=1449192197),\n",
       " DecisionTreeClassifier(max_features='sqrt', random_state=327529219),\n",
       " DecisionTreeClassifier(max_features='sqrt', random_state=18310077),\n",
       " DecisionTreeClassifier(max_features='sqrt', random_state=1519063637),\n",
       " DecisionTreeClassifier(max_features='sqrt', random_state=1130820982),\n",
       " DecisionTreeClassifier(max_features='sqrt', random_state=586419121),\n",
       " DecisionTreeClassifier(max_features='sqrt', random_state=1971654770),\n",
       " DecisionTreeClassifier(max_features='sqrt', random_state=1372191312),\n",
       " DecisionTreeClassifier(max_features='sqrt', random_state=436859351),\n",
       " DecisionTreeClassifier(max_features='sqrt', random_state=1813855922),\n",
       " DecisionTreeClassifier(max_features='sqrt', random_state=725624726),\n",
       " DecisionTreeClassifier(max_features='sqrt', random_state=1642249551),\n",
       " DecisionTreeClassifier(max_features='sqrt', random_state=500828615),\n",
       " DecisionTreeClassifier(max_features='sqrt', random_state=1436839886),\n",
       " DecisionTreeClassifier(max_features='sqrt', random_state=393687417),\n",
       " DecisionTreeClassifier(max_features='sqrt', random_state=829424252),\n",
       " DecisionTreeClassifier(max_features='sqrt', random_state=503453737),\n",
       " DecisionTreeClassifier(max_features='sqrt', random_state=1907390667),\n",
       " DecisionTreeClassifier(max_features='sqrt', random_state=1884716484),\n",
       " DecisionTreeClassifier(max_features='sqrt', random_state=1754908940),\n",
       " DecisionTreeClassifier(max_features='sqrt', random_state=41750235),\n",
       " DecisionTreeClassifier(max_features='sqrt', random_state=263266326),\n",
       " DecisionTreeClassifier(max_features='sqrt', random_state=951494736),\n",
       " DecisionTreeClassifier(max_features='sqrt', random_state=308669627),\n",
       " DecisionTreeClassifier(max_features='sqrt', random_state=774118179),\n",
       " DecisionTreeClassifier(max_features='sqrt', random_state=2055145141),\n",
       " DecisionTreeClassifier(max_features='sqrt', random_state=1002964078),\n",
       " DecisionTreeClassifier(max_features='sqrt', random_state=1448818927),\n",
       " DecisionTreeClassifier(max_features='sqrt', random_state=229539245),\n",
       " DecisionTreeClassifier(max_features='sqrt', random_state=1363164103),\n",
       " DecisionTreeClassifier(max_features='sqrt', random_state=237032518),\n",
       " DecisionTreeClassifier(max_features='sqrt', random_state=1279130652),\n",
       " DecisionTreeClassifier(max_features='sqrt', random_state=1403244859),\n",
       " DecisionTreeClassifier(max_features='sqrt', random_state=361891289),\n",
       " DecisionTreeClassifier(max_features='sqrt', random_state=1483392666),\n",
       " DecisionTreeClassifier(max_features='sqrt', random_state=1963532707),\n",
       " DecisionTreeClassifier(max_features='sqrt', random_state=1452815415),\n",
       " DecisionTreeClassifier(max_features='sqrt', random_state=1857652641),\n",
       " DecisionTreeClassifier(max_features='sqrt', random_state=980698452),\n",
       " DecisionTreeClassifier(max_features='sqrt', random_state=603464486),\n",
       " DecisionTreeClassifier(max_features='sqrt', random_state=416944359),\n",
       " DecisionTreeClassifier(max_features='sqrt', random_state=1301452852),\n",
       " DecisionTreeClassifier(max_features='sqrt', random_state=2050214148),\n",
       " DecisionTreeClassifier(max_features='sqrt', random_state=525415277),\n",
       " DecisionTreeClassifier(max_features='sqrt', random_state=541351100),\n",
       " DecisionTreeClassifier(max_features='sqrt', random_state=815751333),\n",
       " DecisionTreeClassifier(max_features='sqrt', random_state=1583407697),\n",
       " DecisionTreeClassifier(max_features='sqrt', random_state=1559249839),\n",
       " DecisionTreeClassifier(max_features='sqrt', random_state=1048893892),\n",
       " DecisionTreeClassifier(max_features='sqrt', random_state=923650232),\n",
       " DecisionTreeClassifier(max_features='sqrt', random_state=1620997796),\n",
       " DecisionTreeClassifier(max_features='sqrt', random_state=359825590),\n",
       " DecisionTreeClassifier(max_features='sqrt', random_state=2040552058),\n",
       " DecisionTreeClassifier(max_features='sqrt', random_state=2102524942),\n",
       " DecisionTreeClassifier(max_features='sqrt', random_state=1686385729),\n",
       " DecisionTreeClassifier(max_features='sqrt', random_state=1059185874),\n",
       " DecisionTreeClassifier(max_features='sqrt', random_state=1719261180),\n",
       " DecisionTreeClassifier(max_features='sqrt', random_state=1000326417),\n",
       " DecisionTreeClassifier(max_features='sqrt', random_state=26116997),\n",
       " DecisionTreeClassifier(max_features='sqrt', random_state=170036925),\n",
       " DecisionTreeClassifier(max_features='sqrt', random_state=1488631500),\n",
       " DecisionTreeClassifier(max_features='sqrt', random_state=365332392),\n",
       " DecisionTreeClassifier(max_features='sqrt', random_state=108189223),\n",
       " DecisionTreeClassifier(max_features='sqrt', random_state=872045478),\n",
       " DecisionTreeClassifier(max_features='sqrt', random_state=2055759168),\n",
       " DecisionTreeClassifier(max_features='sqrt', random_state=1894707591),\n",
       " DecisionTreeClassifier(max_features='sqrt', random_state=740216192),\n",
       " DecisionTreeClassifier(max_features='sqrt', random_state=491569412),\n",
       " DecisionTreeClassifier(max_features='sqrt', random_state=735540600),\n",
       " DecisionTreeClassifier(max_features='sqrt', random_state=19996759),\n",
       " DecisionTreeClassifier(max_features='sqrt', random_state=523098633),\n",
       " DecisionTreeClassifier(max_features='sqrt', random_state=1181551969)]"
      ]
     },
     "execution_count": 23,
     "metadata": {},
     "output_type": "execute_result"
    }
   ],
   "source": [
    "rf.estimators_"
   ]
  },
  {
   "cell_type": "code",
   "execution_count": 24,
   "id": "a79cf964",
   "metadata": {},
   "outputs": [
    {
     "data": {
      "image/png": "[encoded data removed]",
      "text/plain": [
       "<Figure size 432x288 with 1 Axes>"
      ]
     },
     "metadata": {
      "needs_background": "light"
     },
     "output_type": "display_data"
    }
   ],
   "source": [
    "plot_tree(rf.estimators_[2])\n",
    "plt.show()"
   ]
  },
  {
   "cell_type": "markdown",
   "id": "da585369",
   "metadata": {},
   "source": [
    "# K-Means Clustering"
   ]
  },
  {
   "cell_type": "code",
   "execution_count": 25,
   "id": "31de10e5",
   "metadata": {},
   "outputs": [
    {
     "data": {
      "text/html": [
       "<div>\n",
       "<style scoped>\n",
       "    .dataframe tbody tr th:only-of-type {\n",
       "        vertical-align: middle;\n",
       "    }\n",
       "\n",
       "    .dataframe tbody tr th {\n",
       "        vertical-align: top;\n",
       "    }\n",
       "\n",
       "    .dataframe thead th {\n",
       "        text-align: right;\n",
       "    }\n",
       "</style>\n",
       "<table border=\"1\" class=\"dataframe\">\n",
       "  <thead>\n",
       "    <tr style=\"text-align: right;\">\n",
       "      <th></th>\n",
       "      <th>Num_flights</th>\n",
       "      <th>Avg_fare</th>\n",
       "    </tr>\n",
       "  </thead>\n",
       "  <tbody>\n",
       "    <tr>\n",
       "      <th>0</th>\n",
       "      <td>12</td>\n",
       "      <td>39</td>\n",
       "    </tr>\n",
       "    <tr>\n",
       "      <th>1</th>\n",
       "      <td>20</td>\n",
       "      <td>36</td>\n",
       "    </tr>\n",
       "    <tr>\n",
       "      <th>2</th>\n",
       "      <td>28</td>\n",
       "      <td>30</td>\n",
       "    </tr>\n",
       "    <tr>\n",
       "      <th>3</th>\n",
       "      <td>18</td>\n",
       "      <td>52</td>\n",
       "    </tr>\n",
       "    <tr>\n",
       "      <th>4</th>\n",
       "      <td>29</td>\n",
       "      <td>54</td>\n",
       "    </tr>\n",
       "  </tbody>\n",
       "</table>\n",
       "</div>"
      ],
      "text/plain": [
       "   Num_flights  Avg_fare\n",
       "0           12        39\n",
       "1           20        36\n",
       "2           28        30\n",
       "3           18        52\n",
       "4           29        54"
      ]
     },
     "execution_count": 25,
     "metadata": {},
     "output_type": "execute_result"
    }
   ],
   "source": [
    "df=pd.DataFrame({\n",
    "                'Num_flights': [12, 20, 28, 18, 29, 33, 24, 45, 45, 52, 51, 52, 55, 53, 55, 61, 64, 69, 72], \n",
    "                 'Avg_fare': [39, 36, 30, 52, 54, 46, 55, 59, 63, 70, 66, 63, 58, 23, 14, 8, 19, 7, 24]})\n",
    "df=df[['Num_flights','Avg_fare']]\n",
    "df.head()"
   ]
  },
  {
   "cell_type": "code",
   "execution_count": 26,
   "id": "fea488e7",
   "metadata": {},
   "outputs": [
    {
     "data": {
      "text/html": [
       "<style>#sk-container-id-4 {color: black;background-color: white;}#sk-container-id-4 pre{padding: 0;}#sk-container-id-4 div.sk-toggleable {background-color: white;}#sk-container-id-4 label.sk-toggleable__label {cursor: pointer;display: block;width: 100%;margin-bottom: 0;padding: 0.3em;box-sizing: border-box;text-align: center;}#sk-container-id-4 label.sk-toggleable__label-arrow:before {content: \"▸\";float: left;margin-right: 0.25em;color: #696969;}#sk-container-id-4 label.sk-toggleable__label-arrow:hover:before {color: black;}#sk-container-id-4 div.sk-estimator:hover label.sk-toggleable__label-arrow:before {color: black;}#sk-container-id-4 div.sk-toggleable__content {max-height: 0;max-width: 0;overflow: hidden;text-align: left;background-color: #f0f8ff;}#sk-container-id-4 div.sk-toggleable__content pre {margin: 0.2em;color: black;border-radius: 0.25em;background-color: #f0f8ff;}#sk-container-id-4 input.sk-toggleable__control:checked~div.sk-toggleable__content {max-height: 200px;max-width: 100%;overflow: auto;}#sk-container-id-4 input.sk-toggleable__control:checked~label.sk-toggleable__label-arrow:before {content: \"▾\";}#sk-container-id-4 div.sk-estimator input.sk-toggleable__control:checked~label.sk-toggleable__label {background-color: #d4ebff;}#sk-container-id-4 div.sk-label input.sk-toggleable__control:checked~label.sk-toggleable__label {background-color: #d4ebff;}#sk-container-id-4 input.sk-hidden--visually {border: 0;clip: rect(1px 1px 1px 1px);clip: rect(1px, 1px, 1px, 1px);height: 1px;margin: -1px;overflow: hidden;padding: 0;position: absolute;width: 1px;}#sk-container-id-4 div.sk-estimator {font-family: monospace;background-color: #f0f8ff;border: 1px dotted black;border-radius: 0.25em;box-sizing: border-box;margin-bottom: 0.5em;}#sk-container-id-4 div.sk-estimator:hover {background-color: #d4ebff;}#sk-container-id-4 div.sk-parallel-item::after {content: \"\";width: 100%;border-bottom: 1px solid gray;flex-grow: 1;}#sk-container-id-4 div.sk-label:hover label.sk-toggleable__label {background-color: #d4ebff;}#sk-container-id-4 div.sk-serial::before {content: \"\";position: absolute;border-left: 1px solid gray;box-sizing: border-box;top: 0;bottom: 0;left: 50%;z-index: 0;}#sk-container-id-4 div.sk-serial {display: flex;flex-direction: column;align-items: center;background-color: white;padding-right: 0.2em;padding-left: 0.2em;position: relative;}#sk-container-id-4 div.sk-item {position: relative;z-index: 1;}#sk-container-id-4 div.sk-parallel {display: flex;align-items: stretch;justify-content: center;background-color: white;position: relative;}#sk-container-id-4 div.sk-item::before, #sk-container-id-4 div.sk-parallel-item::before {content: \"\";position: absolute;border-left: 1px solid gray;box-sizing: border-box;top: 0;bottom: 0;left: 50%;z-index: -1;}#sk-container-id-4 div.sk-parallel-item {display: flex;flex-direction: column;z-index: 1;position: relative;background-color: white;}#sk-container-id-4 div.sk-parallel-item:first-child::after {align-self: flex-end;width: 50%;}#sk-container-id-4 div.sk-parallel-item:last-child::after {align-self: flex-start;width: 50%;}#sk-container-id-4 div.sk-parallel-item:only-child::after {width: 0;}#sk-container-id-4 div.sk-dashed-wrapped {border: 1px dashed gray;margin: 0 0.4em 0.5em 0.4em;box-sizing: border-box;padding-bottom: 0.4em;background-color: white;}#sk-container-id-4 div.sk-label label {font-family: monospace;font-weight: bold;display: inline-block;line-height: 1.2em;}#sk-container-id-4 div.sk-label-container {text-align: center;}#sk-container-id-4 div.sk-container {/* jupyter's `normalize.less` sets `[hidden] { display: none; }` but bootstrap.min.css set `[hidden] { display: none !important; }` so we also need the `!important` here to be able to override the default hidden behavior on the sphinx rendered scikit-learn.org. See: https://github.com/scikit-learn/scikit-learn/issues/21755 */display: inline-block !important;position: relative;}#sk-container-id-4 div.sk-text-repr-fallback {display: none;}</style><div id=\"sk-container-id-4\" class=\"sk-top-container\"><div class=\"sk-text-repr-fallback\"><pre>KMeans(n_clusters=3)</pre><b>In a Jupyter environment, please rerun this cell to show the HTML representation or trust the notebook. <br />On GitHub, the HTML representation is unable to render, please try loading this page with nbviewer.org.</b></div><div class=\"sk-container\" hidden><div class=\"sk-item\"><div class=\"sk-estimator sk-toggleable\"><input class=\"sk-toggleable__control sk-hidden--visually\" id=\"sk-estimator-id-4\" type=\"checkbox\" checked><label for=\"sk-estimator-id-4\" class=\"sk-toggleable__label sk-toggleable__label-arrow\">KMeans</label><div class=\"sk-toggleable__content\"><pre>KMeans(n_clusters=3)</pre></div></div></div></div></div>"
      ],
      "text/plain": [
       "KMeans(n_clusters=3)"
      ]
     },
     "execution_count": 26,
     "metadata": {},
     "output_type": "execute_result"
    }
   ],
   "source": [
    "from sklearn.cluster import KMeans\n",
    "kmeans = KMeans(n_clusters=3)\n",
    "kmeans"
   ]
  },
  {
   "cell_type": "code",
   "execution_count": 27,
   "id": "91f3ca4e",
   "metadata": {},
   "outputs": [
    {
     "name": "stderr",
     "output_type": "stream",
     "text": [
      "C:\\Users\\ASUS\\anaconda03\\lib\\site-packages\\sklearn\\cluster\\_kmeans.py:870: FutureWarning: The default value of `n_init` will change from 10 to 'auto' in 1.4. Set the value of `n_init` explicitly to suppress the warning\n",
      "  warnings.warn(\n",
      "C:\\Users\\ASUS\\anaconda03\\lib\\site-packages\\sklearn\\cluster\\_kmeans.py:1382: UserWarning: KMeans is known to have a memory leak on Windows with MKL, when there are less chunks than available threads. You can avoid it by setting the environment variable OMP_NUM_THREADS=1.\n",
      "  warnings.warn(\n"
     ]
    },
    {
     "data": {
      "text/html": [
       "<style>#sk-container-id-5 {color: black;background-color: white;}#sk-container-id-5 pre{padding: 0;}#sk-container-id-5 div.sk-toggleable {background-color: white;}#sk-container-id-5 label.sk-toggleable__label {cursor: pointer;display: block;width: 100%;margin-bottom: 0;padding: 0.3em;box-sizing: border-box;text-align: center;}#sk-container-id-5 label.sk-toggleable__label-arrow:before {content: \"▸\";float: left;margin-right: 0.25em;color: #696969;}#sk-container-id-5 label.sk-toggleable__label-arrow:hover:before {color: black;}#sk-container-id-5 div.sk-estimator:hover label.sk-toggleable__label-arrow:before {color: black;}#sk-container-id-5 div.sk-toggleable__content {max-height: 0;max-width: 0;overflow: hidden;text-align: left;background-color: #f0f8ff;}#sk-container-id-5 div.sk-toggleable__content pre {margin: 0.2em;color: black;border-radius: 0.25em;background-color: #f0f8ff;}#sk-container-id-5 input.sk-toggleable__control:checked~div.sk-toggleable__content {max-height: 200px;max-width: 100%;overflow: auto;}#sk-container-id-5 input.sk-toggleable__control:checked~label.sk-toggleable__label-arrow:before {content: \"▾\";}#sk-container-id-5 div.sk-estimator input.sk-toggleable__control:checked~label.sk-toggleable__label {background-color: #d4ebff;}#sk-container-id-5 div.sk-label input.sk-toggleable__control:checked~label.sk-toggleable__label {background-color: #d4ebff;}#sk-container-id-5 input.sk-hidden--visually {border: 0;clip: rect(1px 1px 1px 1px);clip: rect(1px, 1px, 1px, 1px);height: 1px;margin: -1px;overflow: hidden;padding: 0;position: absolute;width: 1px;}#sk-container-id-5 div.sk-estimator {font-family: monospace;background-color: #f0f8ff;border: 1px dotted black;border-radius: 0.25em;box-sizing: border-box;margin-bottom: 0.5em;}#sk-container-id-5 div.sk-estimator:hover {background-color: #d4ebff;}#sk-container-id-5 div.sk-parallel-item::after {content: \"\";width: 100%;border-bottom: 1px solid gray;flex-grow: 1;}#sk-container-id-5 div.sk-label:hover label.sk-toggleable__label {background-color: #d4ebff;}#sk-container-id-5 div.sk-serial::before {content: \"\";position: absolute;border-left: 1px solid gray;box-sizing: border-box;top: 0;bottom: 0;left: 50%;z-index: 0;}#sk-container-id-5 div.sk-serial {display: flex;flex-direction: column;align-items: center;background-color: white;padding-right: 0.2em;padding-left: 0.2em;position: relative;}#sk-container-id-5 div.sk-item {position: relative;z-index: 1;}#sk-container-id-5 div.sk-parallel {display: flex;align-items: stretch;justify-content: center;background-color: white;position: relative;}#sk-container-id-5 div.sk-item::before, #sk-container-id-5 div.sk-parallel-item::before {content: \"\";position: absolute;border-left: 1px solid gray;box-sizing: border-box;top: 0;bottom: 0;left: 50%;z-index: -1;}#sk-container-id-5 div.sk-parallel-item {display: flex;flex-direction: column;z-index: 1;position: relative;background-color: white;}#sk-container-id-5 div.sk-parallel-item:first-child::after {align-self: flex-end;width: 50%;}#sk-container-id-5 div.sk-parallel-item:last-child::after {align-self: flex-start;width: 50%;}#sk-container-id-5 div.sk-parallel-item:only-child::after {width: 0;}#sk-container-id-5 div.sk-dashed-wrapped {border: 1px dashed gray;margin: 0 0.4em 0.5em 0.4em;box-sizing: border-box;padding-bottom: 0.4em;background-color: white;}#sk-container-id-5 div.sk-label label {font-family: monospace;font-weight: bold;display: inline-block;line-height: 1.2em;}#sk-container-id-5 div.sk-label-container {text-align: center;}#sk-container-id-5 div.sk-container {/* jupyter's `normalize.less` sets `[hidden] { display: none; }` but bootstrap.min.css set `[hidden] { display: none !important; }` so we also need the `!important` here to be able to override the default hidden behavior on the sphinx rendered scikit-learn.org. See: https://github.com/scikit-learn/scikit-learn/issues/21755 */display: inline-block !important;position: relative;}#sk-container-id-5 div.sk-text-repr-fallback {display: none;}</style><div id=\"sk-container-id-5\" class=\"sk-top-container\"><div class=\"sk-text-repr-fallback\"><pre>KMeans(n_clusters=3)</pre><b>In a Jupyter environment, please rerun this cell to show the HTML representation or trust the notebook. <br />On GitHub, the HTML representation is unable to render, please try loading this page with nbviewer.org.</b></div><div class=\"sk-container\" hidden><div class=\"sk-item\"><div class=\"sk-estimator sk-toggleable\"><input class=\"sk-toggleable__control sk-hidden--visually\" id=\"sk-estimator-id-5\" type=\"checkbox\" checked><label for=\"sk-estimator-id-5\" class=\"sk-toggleable__label sk-toggleable__label-arrow\">KMeans</label><div class=\"sk-toggleable__content\"><pre>KMeans(n_clusters=3)</pre></div></div></div></div></div>"
      ],
      "text/plain": [
       "KMeans(n_clusters=3)"
      ]
     },
     "execution_count": 27,
     "metadata": {},
     "output_type": "execute_result"
    }
   ],
   "source": [
    "kmeans.fit(df)"
   ]
  },
  {
   "cell_type": "code",
   "execution_count": 28,
   "id": "affe9c49",
   "metadata": {},
   "outputs": [
    {
     "data": {
      "text/plain": [
       "array([1, 1, 1, 1, 1, 1, 1, 2, 2, 2, 2, 2, 2, 0, 0, 0, 0, 0, 0])"
      ]
     },
     "execution_count": 28,
     "metadata": {},
     "output_type": "execute_result"
    }
   ],
   "source": [
    "labels = kmeans.predict(df)\n",
    "labels"
   ]
  },
  {
   "cell_type": "code",
   "execution_count": 29,
   "id": "c364a1e6",
   "metadata": {},
   "outputs": [
    {
     "data": {
      "text/plain": [
       "array([[62.33333333, 15.83333333],\n",
       "       [23.42857143, 44.57142857],\n",
       "       [50.        , 63.16666667]])"
      ]
     },
     "execution_count": 29,
     "metadata": {},
     "output_type": "execute_result"
    }
   ],
   "source": [
    "kmeans.cluster_centers_"
   ]
  },
  {
   "cell_type": "code",
   "execution_count": 30,
   "id": "cf11810d",
   "metadata": {},
   "outputs": [
    {
     "data": {
      "text/plain": [
       "1624.4285714285716"
      ]
     },
     "execution_count": 30,
     "metadata": {},
     "output_type": "execute_result"
    }
   ],
   "source": [
    "kmeans.inertia_   #WCSS"
   ]
  },
  {
   "cell_type": "code",
   "execution_count": 31,
   "id": "c7896944",
   "metadata": {},
   "outputs": [
    {
     "data": {
      "text/plain": [
       "<matplotlib.collections.PathCollection at 0x1eb80aae760>"
      ]
     },
     "execution_count": 31,
     "metadata": {},
     "output_type": "execute_result"
    },
    {
     "data": {
      "image/png": "[encoded data removed]",
      "text/plain": [
       "<Figure size 432x288 with 1 Axes>"
      ]
     },
     "metadata": {
      "needs_background": "light"
     },
     "output_type": "display_data"
    }
   ],
   "source": [
    "plt.scatter(df.Num_flights,df.Avg_fare) # Before Clustering"
   ]
  },
  {
   "cell_type": "code",
   "execution_count": 32,
   "id": "d368f7bb",
   "metadata": {},
   "outputs": [
    {
     "data": {
      "text/plain": [
       "<matplotlib.collections.PathCollection at 0x1eb80b28220>"
      ]
     },
     "execution_count": 32,
     "metadata": {},
     "output_type": "execute_result"
    },
    {
     "data": {
      "image/png": "[encoded data removed]",
      "text/plain": [
       "<Figure size 432x288 with 1 Axes>"
      ]
     },
     "metadata": {
      "needs_background": "light"
     },
     "output_type": "display_data"
    }
   ],
   "source": [
    "plt.scatter(df.Num_flights,df.Avg_fare,c=labels) # After Clustering"
   ]
  },
  {
   "cell_type": "code",
   "execution_count": 33,
   "id": "6cc9eebd",
   "metadata": {},
   "outputs": [],
   "source": [
    "k = [i for i in range(1,11)]"
   ]
  },
  {
   "cell_type": "code",
   "execution_count": 34,
   "id": "bb73fe05",
   "metadata": {},
   "outputs": [
    {
     "data": {
      "text/plain": [
       "[1, 2, 3, 4, 5, 6, 7, 8, 9, 10]"
      ]
     },
     "execution_count": 34,
     "metadata": {},
     "output_type": "execute_result"
    }
   ],
   "source": [
    "k"
   ]
  },
  {
   "cell_type": "code",
   "execution_count": 35,
   "id": "433147ed",
   "metadata": {},
   "outputs": [
    {
     "name": "stderr",
     "output_type": "stream",
     "text": [
      "C:\\Users\\ASUS\\anaconda03\\lib\\site-packages\\sklearn\\cluster\\_kmeans.py:870: FutureWarning: The default value of `n_init` will change from 10 to 'auto' in 1.4. Set the value of `n_init` explicitly to suppress the warning\n",
      "  warnings.warn(\n",
      "C:\\Users\\ASUS\\anaconda03\\lib\\site-packages\\sklearn\\cluster\\_kmeans.py:1382: UserWarning: KMeans is known to have a memory leak on Windows with MKL, when there are less chunks than available threads. You can avoid it by setting the environment variable OMP_NUM_THREADS=1.\n",
      "  warnings.warn(\n",
      "C:\\Users\\ASUS\\anaconda03\\lib\\site-packages\\sklearn\\cluster\\_kmeans.py:870: FutureWarning: The default value of `n_init` will change from 10 to 'auto' in 1.4. Set the value of `n_init` explicitly to suppress the warning\n",
      "  warnings.warn(\n",
      "C:\\Users\\ASUS\\anaconda03\\lib\\site-packages\\sklearn\\cluster\\_kmeans.py:1382: UserWarning: KMeans is known to have a memory leak on Windows with MKL, when there are less chunks than available threads. You can avoid it by setting the environment variable OMP_NUM_THREADS=1.\n",
      "  warnings.warn(\n",
      "C:\\Users\\ASUS\\anaconda03\\lib\\site-packages\\sklearn\\cluster\\_kmeans.py:870: FutureWarning: The default value of `n_init` will change from 10 to 'auto' in 1.4. Set the value of `n_init` explicitly to suppress the warning\n",
      "  warnings.warn(\n",
      "C:\\Users\\ASUS\\anaconda03\\lib\\site-packages\\sklearn\\cluster\\_kmeans.py:1382: UserWarning: KMeans is known to have a memory leak on Windows with MKL, when there are less chunks than available threads. You can avoid it by setting the environment variable OMP_NUM_THREADS=1.\n",
      "  warnings.warn(\n",
      "C:\\Users\\ASUS\\anaconda03\\lib\\site-packages\\sklearn\\cluster\\_kmeans.py:870: FutureWarning: The default value of `n_init` will change from 10 to 'auto' in 1.4. Set the value of `n_init` explicitly to suppress the warning\n",
      "  warnings.warn(\n",
      "C:\\Users\\ASUS\\anaconda03\\lib\\site-packages\\sklearn\\cluster\\_kmeans.py:1382: UserWarning: KMeans is known to have a memory leak on Windows with MKL, when there are less chunks than available threads. You can avoid it by setting the environment variable OMP_NUM_THREADS=1.\n",
      "  warnings.warn(\n",
      "C:\\Users\\ASUS\\anaconda03\\lib\\site-packages\\sklearn\\cluster\\_kmeans.py:870: FutureWarning: The default value of `n_init` will change from 10 to 'auto' in 1.4. Set the value of `n_init` explicitly to suppress the warning\n",
      "  warnings.warn(\n",
      "C:\\Users\\ASUS\\anaconda03\\lib\\site-packages\\sklearn\\cluster\\_kmeans.py:1382: UserWarning: KMeans is known to have a memory leak on Windows with MKL, when there are less chunks than available threads. You can avoid it by setting the environment variable OMP_NUM_THREADS=1.\n",
      "  warnings.warn(\n",
      "C:\\Users\\ASUS\\anaconda03\\lib\\site-packages\\sklearn\\cluster\\_kmeans.py:870: FutureWarning: The default value of `n_init` will change from 10 to 'auto' in 1.4. Set the value of `n_init` explicitly to suppress the warning\n",
      "  warnings.warn(\n",
      "C:\\Users\\ASUS\\anaconda03\\lib\\site-packages\\sklearn\\cluster\\_kmeans.py:1382: UserWarning: KMeans is known to have a memory leak on Windows with MKL, when there are less chunks than available threads. You can avoid it by setting the environment variable OMP_NUM_THREADS=1.\n",
      "  warnings.warn(\n",
      "C:\\Users\\ASUS\\anaconda03\\lib\\site-packages\\sklearn\\cluster\\_kmeans.py:870: FutureWarning: The default value of `n_init` will change from 10 to 'auto' in 1.4. Set the value of `n_init` explicitly to suppress the warning\n",
      "  warnings.warn(\n",
      "C:\\Users\\ASUS\\anaconda03\\lib\\site-packages\\sklearn\\cluster\\_kmeans.py:1382: UserWarning: KMeans is known to have a memory leak on Windows with MKL, when there are less chunks than available threads. You can avoid it by setting the environment variable OMP_NUM_THREADS=1.\n",
      "  warnings.warn(\n",
      "C:\\Users\\ASUS\\anaconda03\\lib\\site-packages\\sklearn\\cluster\\_kmeans.py:870: FutureWarning: The default value of `n_init` will change from 10 to 'auto' in 1.4. Set the value of `n_init` explicitly to suppress the warning\n",
      "  warnings.warn(\n",
      "C:\\Users\\ASUS\\anaconda03\\lib\\site-packages\\sklearn\\cluster\\_kmeans.py:1382: UserWarning: KMeans is known to have a memory leak on Windows with MKL, when there are less chunks than available threads. You can avoid it by setting the environment variable OMP_NUM_THREADS=1.\n",
      "  warnings.warn(\n",
      "C:\\Users\\ASUS\\anaconda03\\lib\\site-packages\\sklearn\\cluster\\_kmeans.py:870: FutureWarning: The default value of `n_init` will change from 10 to 'auto' in 1.4. Set the value of `n_init` explicitly to suppress the warning\n",
      "  warnings.warn(\n",
      "C:\\Users\\ASUS\\anaconda03\\lib\\site-packages\\sklearn\\cluster\\_kmeans.py:1382: UserWarning: KMeans is known to have a memory leak on Windows with MKL, when there are less chunks than available threads. You can avoid it by setting the environment variable OMP_NUM_THREADS=1.\n",
      "  warnings.warn(\n",
      "C:\\Users\\ASUS\\anaconda03\\lib\\site-packages\\sklearn\\cluster\\_kmeans.py:870: FutureWarning: The default value of `n_init` will change from 10 to 'auto' in 1.4. Set the value of `n_init` explicitly to suppress the warning\n",
      "  warnings.warn(\n",
      "C:\\Users\\ASUS\\anaconda03\\lib\\site-packages\\sklearn\\cluster\\_kmeans.py:1382: UserWarning: KMeans is known to have a memory leak on Windows with MKL, when there are less chunks than available threads. You can avoid it by setting the environment variable OMP_NUM_THREADS=1.\n",
      "  warnings.warn(\n"
     ]
    },
    {
     "data": {
      "text/plain": [
       "[13654.210526315788,\n",
       " 5022.628205128206,\n",
       " 1624.4285714285716,\n",
       " 1081.75,\n",
       " 850.9166666666666,\n",
       " 647.0833333333333,\n",
       " 513.5833333333333,\n",
       " 401.3333333333333,\n",
       " 315.0833333333333,\n",
       " 270.5833333333333]"
      ]
     },
     "execution_count": 35,
     "metadata": {},
     "output_type": "execute_result"
    }
   ],
   "source": [
    "inertia = []\n",
    "for i in range(1,11):\n",
    "    km = KMeans(n_clusters=i)\n",
    "    km.fit(df)\n",
    "    \n",
    "    inertia.append(km.inertia_)\n",
    "inertia"
   ]
  },
  {
   "cell_type": "code",
   "execution_count": 39,
   "id": "7f5806f9",
   "metadata": {},
   "outputs": [
    {
     "data": {
      "image/png": "[encoded data removed]",
      "text/plain": [
       "<Figure size 432x288 with 1 Axes>"
      ]
     },
     "metadata": {
      "needs_background": "light"
     },
     "output_type": "display_data"
    }
   ],
   "source": [
    "plt.plot(range(1,11),inertia)\n",
    "plt.grid(True)"
   ]
  },
  {
   "cell_type": "markdown",
   "id": "4a03ff1d",
   "metadata": {},
   "source": [
    "# PCA (Principal Component Analysis)"
   ]
  },
  {
   "cell_type": "code",
   "execution_count": 40,
   "id": "59ea2b40",
   "metadata": {},
   "outputs": [],
   "source": [
    "from sklearn.decomposition import PCA\n",
    "from sklearn.datasets import load_iris"
   ]
  },
  {
   "cell_type": "code",
   "execution_count": 41,
   "id": "f1f9c531",
   "metadata": {},
   "outputs": [],
   "source": [
    "iris = load_iris()"
   ]
  },
  {
   "cell_type": "code",
   "execution_count": 42,
   "id": "11e776f2",
   "metadata": {},
   "outputs": [],
   "source": [
    "x=iris.data\n",
    "y=iris.target"
   ]
  },
  {
   "cell_type": "code",
   "execution_count": 44,
   "id": "f4bf55e9",
   "metadata": {},
   "outputs": [
    {
     "data": {
      "text/html": [
       "<div>\n",
       "<style scoped>\n",
       "    .dataframe tbody tr th:only-of-type {\n",
       "        vertical-align: middle;\n",
       "    }\n",
       "\n",
       "    .dataframe tbody tr th {\n",
       "        vertical-align: top;\n",
       "    }\n",
       "\n",
       "    .dataframe thead th {\n",
       "        text-align: right;\n",
       "    }\n",
       "</style>\n",
       "<table border=\"1\" class=\"dataframe\">\n",
       "  <thead>\n",
       "    <tr style=\"text-align: right;\">\n",
       "      <th></th>\n",
       "      <th>sepal length (cm)</th>\n",
       "      <th>sepal width (cm)</th>\n",
       "      <th>petal length (cm)</th>\n",
       "      <th>petal width (cm)</th>\n",
       "    </tr>\n",
       "  </thead>\n",
       "  <tbody>\n",
       "    <tr>\n",
       "      <th>0</th>\n",
       "      <td>5.1</td>\n",
       "      <td>3.5</td>\n",
       "      <td>1.4</td>\n",
       "      <td>0.2</td>\n",
       "    </tr>\n",
       "    <tr>\n",
       "      <th>1</th>\n",
       "      <td>4.9</td>\n",
       "      <td>3.0</td>\n",
       "      <td>1.4</td>\n",
       "      <td>0.2</td>\n",
       "    </tr>\n",
       "    <tr>\n",
       "      <th>2</th>\n",
       "      <td>4.7</td>\n",
       "      <td>3.2</td>\n",
       "      <td>1.3</td>\n",
       "      <td>0.2</td>\n",
       "    </tr>\n",
       "    <tr>\n",
       "      <th>3</th>\n",
       "      <td>4.6</td>\n",
       "      <td>3.1</td>\n",
       "      <td>1.5</td>\n",
       "      <td>0.2</td>\n",
       "    </tr>\n",
       "    <tr>\n",
       "      <th>4</th>\n",
       "      <td>5.0</td>\n",
       "      <td>3.6</td>\n",
       "      <td>1.4</td>\n",
       "      <td>0.2</td>\n",
       "    </tr>\n",
       "    <tr>\n",
       "      <th>...</th>\n",
       "      <td>...</td>\n",
       "      <td>...</td>\n",
       "      <td>...</td>\n",
       "      <td>...</td>\n",
       "    </tr>\n",
       "    <tr>\n",
       "      <th>145</th>\n",
       "      <td>6.7</td>\n",
       "      <td>3.0</td>\n",
       "      <td>5.2</td>\n",
       "      <td>2.3</td>\n",
       "    </tr>\n",
       "    <tr>\n",
       "      <th>146</th>\n",
       "      <td>6.3</td>\n",
       "      <td>2.5</td>\n",
       "      <td>5.0</td>\n",
       "      <td>1.9</td>\n",
       "    </tr>\n",
       "    <tr>\n",
       "      <th>147</th>\n",
       "      <td>6.5</td>\n",
       "      <td>3.0</td>\n",
       "      <td>5.2</td>\n",
       "      <td>2.0</td>\n",
       "    </tr>\n",
       "    <tr>\n",
       "      <th>148</th>\n",
       "      <td>6.2</td>\n",
       "      <td>3.4</td>\n",
       "      <td>5.4</td>\n",
       "      <td>2.3</td>\n",
       "    </tr>\n",
       "    <tr>\n",
       "      <th>149</th>\n",
       "      <td>5.9</td>\n",
       "      <td>3.0</td>\n",
       "      <td>5.1</td>\n",
       "      <td>1.8</td>\n",
       "    </tr>\n",
       "  </tbody>\n",
       "</table>\n",
       "<p>150 rows × 4 columns</p>\n",
       "</div>"
      ],
      "text/plain": [
       "     sepal length (cm)  sepal width (cm)  petal length (cm)  petal width (cm)\n",
       "0                  5.1               3.5                1.4               0.2\n",
       "1                  4.9               3.0                1.4               0.2\n",
       "2                  4.7               3.2                1.3               0.2\n",
       "3                  4.6               3.1                1.5               0.2\n",
       "4                  5.0               3.6                1.4               0.2\n",
       "..                 ...               ...                ...               ...\n",
       "145                6.7               3.0                5.2               2.3\n",
       "146                6.3               2.5                5.0               1.9\n",
       "147                6.5               3.0                5.2               2.0\n",
       "148                6.2               3.4                5.4               2.3\n",
       "149                5.9               3.0                5.1               1.8\n",
       "\n",
       "[150 rows x 4 columns]"
      ]
     },
     "execution_count": 44,
     "metadata": {},
     "output_type": "execute_result"
    }
   ],
   "source": [
    "df = pd.DataFrame(x,columns=iris.feature_names)\n",
    "df"
   ]
  },
  {
   "cell_type": "code",
   "execution_count": 46,
   "id": "6ff0804e",
   "metadata": {},
   "outputs": [],
   "source": [
    "df[\"target\"]=y"
   ]
  },
  {
   "cell_type": "code",
   "execution_count": 48,
   "id": "9b82e407",
   "metadata": {},
   "outputs": [],
   "source": [
    "pca = PCA(n_components=2)"
   ]
  },
  {
   "cell_type": "code",
   "execution_count": 51,
   "id": "a6edcbfc",
   "metadata": {},
   "outputs": [],
   "source": [
    "pc=pca.fit_transform(x)"
   ]
  },
  {
   "cell_type": "code",
   "execution_count": 53,
   "id": "7641d0df",
   "metadata": {},
   "outputs": [],
   "source": [
    "pc_df = pd.DataFrame(pc,columns=[\"PC1\",\"PC2\"])"
   ]
  },
  {
   "cell_type": "code",
   "execution_count": 55,
   "id": "1491f624",
   "metadata": {},
   "outputs": [],
   "source": [
    "pc_df[\"target\"]=y"
   ]
  },
  {
   "cell_type": "code",
   "execution_count": 56,
   "id": "0edea98f",
   "metadata": {},
   "outputs": [
    {
     "data": {
      "text/html": [
       "<div>\n",
       "<style scoped>\n",
       "    .dataframe tbody tr th:only-of-type {\n",
       "        vertical-align: middle;\n",
       "    }\n",
       "\n",
       "    .dataframe tbody tr th {\n",
       "        vertical-align: top;\n",
       "    }\n",
       "\n",
       "    .dataframe thead th {\n",
       "        text-align: right;\n",
       "    }\n",
       "</style>\n",
       "<table border=\"1\" class=\"dataframe\">\n",
       "  <thead>\n",
       "    <tr style=\"text-align: right;\">\n",
       "      <th></th>\n",
       "      <th>PC1</th>\n",
       "      <th>PC2</th>\n",
       "      <th>target</th>\n",
       "    </tr>\n",
       "  </thead>\n",
       "  <tbody>\n",
       "    <tr>\n",
       "      <th>0</th>\n",
       "      <td>-2.684126</td>\n",
       "      <td>0.319397</td>\n",
       "      <td>0</td>\n",
       "    </tr>\n",
       "    <tr>\n",
       "      <th>1</th>\n",
       "      <td>-2.714142</td>\n",
       "      <td>-0.177001</td>\n",
       "      <td>0</td>\n",
       "    </tr>\n",
       "    <tr>\n",
       "      <th>2</th>\n",
       "      <td>-2.888991</td>\n",
       "      <td>-0.144949</td>\n",
       "      <td>0</td>\n",
       "    </tr>\n",
       "    <tr>\n",
       "      <th>3</th>\n",
       "      <td>-2.745343</td>\n",
       "      <td>-0.318299</td>\n",
       "      <td>0</td>\n",
       "    </tr>\n",
       "    <tr>\n",
       "      <th>4</th>\n",
       "      <td>-2.728717</td>\n",
       "      <td>0.326755</td>\n",
       "      <td>0</td>\n",
       "    </tr>\n",
       "    <tr>\n",
       "      <th>...</th>\n",
       "      <td>...</td>\n",
       "      <td>...</td>\n",
       "      <td>...</td>\n",
       "    </tr>\n",
       "    <tr>\n",
       "      <th>145</th>\n",
       "      <td>1.944110</td>\n",
       "      <td>0.187532</td>\n",
       "      <td>2</td>\n",
       "    </tr>\n",
       "    <tr>\n",
       "      <th>146</th>\n",
       "      <td>1.527167</td>\n",
       "      <td>-0.375317</td>\n",
       "      <td>2</td>\n",
       "    </tr>\n",
       "    <tr>\n",
       "      <th>147</th>\n",
       "      <td>1.764346</td>\n",
       "      <td>0.078859</td>\n",
       "      <td>2</td>\n",
       "    </tr>\n",
       "    <tr>\n",
       "      <th>148</th>\n",
       "      <td>1.900942</td>\n",
       "      <td>0.116628</td>\n",
       "      <td>2</td>\n",
       "    </tr>\n",
       "    <tr>\n",
       "      <th>149</th>\n",
       "      <td>1.390189</td>\n",
       "      <td>-0.282661</td>\n",
       "      <td>2</td>\n",
       "    </tr>\n",
       "  </tbody>\n",
       "</table>\n",
       "<p>150 rows × 3 columns</p>\n",
       "</div>"
      ],
      "text/plain": [
       "          PC1       PC2  target\n",
       "0   -2.684126  0.319397       0\n",
       "1   -2.714142 -0.177001       0\n",
       "2   -2.888991 -0.144949       0\n",
       "3   -2.745343 -0.318299       0\n",
       "4   -2.728717  0.326755       0\n",
       "..        ...       ...     ...\n",
       "145  1.944110  0.187532       2\n",
       "146  1.527167 -0.375317       2\n",
       "147  1.764346  0.078859       2\n",
       "148  1.900942  0.116628       2\n",
       "149  1.390189 -0.282661       2\n",
       "\n",
       "[150 rows x 3 columns]"
      ]
     },
     "execution_count": 56,
     "metadata": {},
     "output_type": "execute_result"
    }
   ],
   "source": [
    "pc_df"
   ]
  },
  {
   "cell_type": "code",
   "execution_count": 58,
   "id": "7857b8ae",
   "metadata": {},
   "outputs": [
    {
     "data": {
      "text/plain": [
       "<matplotlib.collections.PathCollection at 0x1eb8568e850>"
      ]
     },
     "execution_count": 58,
     "metadata": {},
     "output_type": "execute_result"
    },
    {
     "data": {
      "image/png": "[encoded data removed]",
      "text/plain": [
       "<Figure size 432x288 with 1 Axes>"
      ]
     },
     "metadata": {
      "needs_background": "light"
     },
     "output_type": "display_data"
    }
   ],
   "source": [
    "plt.scatter(pc_df.PC1,pc_df.PC2,c=pc_df.target)"
   ]
  },
  {
   "cell_type": "code",
   "execution_count": 60,
   "id": "bf25c034",
   "metadata": {},
   "outputs": [
    {
     "data": {
      "text/plain": [
       "array([0.92461872, 0.05306648])"
      ]
     },
     "execution_count": 60,
     "metadata": {},
     "output_type": "execute_result"
    }
   ],
   "source": [
    "pca.explained_variance_ratio_"
   ]
  },
  {
   "cell_type": "markdown",
   "id": "3a00ca19",
   "metadata": {},
   "source": [
    "# LDA (Linear Discriminant Analysis)"
   ]
  },
  {
   "cell_type": "code",
   "execution_count": 74,
   "id": "17dcfbb9",
   "metadata": {},
   "outputs": [],
   "source": [
    "from sklearn.discriminant_analysis import LinearDiscriminantAnalysis as LDA"
   ]
  },
  {
   "cell_type": "code",
   "execution_count": 75,
   "id": "926dbc55",
   "metadata": {},
   "outputs": [],
   "source": [
    "x_train,x_test,y_train,y_test = train_test_split(x,y,test_size=0.2,random_state=1)"
   ]
  },
  {
   "cell_type": "code",
   "execution_count": null,
   "id": "369a6361",
   "metadata": {},
   "outputs": [],
   "source": [
    "rf=RandomForestClassifier()"
   ]
  },
  {
   "cell_type": "code",
   "execution_count": 79,
   "id": "d97b4527",
   "metadata": {},
   "outputs": [
    {
     "data": {
      "text/html": [
       "<style>#sk-container-id-8 {color: black;background-color: white;}#sk-container-id-8 pre{padding: 0;}#sk-container-id-8 div.sk-toggleable {background-color: white;}#sk-container-id-8 label.sk-toggleable__label {cursor: pointer;display: block;width: 100%;margin-bottom: 0;padding: 0.3em;box-sizing: border-box;text-align: center;}#sk-container-id-8 label.sk-toggleable__label-arrow:before {content: \"▸\";float: left;margin-right: 0.25em;color: #696969;}#sk-container-id-8 label.sk-toggleable__label-arrow:hover:before {color: black;}#sk-container-id-8 div.sk-estimator:hover label.sk-toggleable__label-arrow:before {color: black;}#sk-container-id-8 div.sk-toggleable__content {max-height: 0;max-width: 0;overflow: hidden;text-align: left;background-color: #f0f8ff;}#sk-container-id-8 div.sk-toggleable__content pre {margin: 0.2em;color: black;border-radius: 0.25em;background-color: #f0f8ff;}#sk-container-id-8 input.sk-toggleable__control:checked~div.sk-toggleable__content {max-height: 200px;max-width: 100%;overflow: auto;}#sk-container-id-8 input.sk-toggleable__control:checked~label.sk-toggleable__label-arrow:before {content: \"▾\";}#sk-container-id-8 div.sk-estimator input.sk-toggleable__control:checked~label.sk-toggleable__label {background-color: #d4ebff;}#sk-container-id-8 div.sk-label input.sk-toggleable__control:checked~label.sk-toggleable__label {background-color: #d4ebff;}#sk-container-id-8 input.sk-hidden--visually {border: 0;clip: rect(1px 1px 1px 1px);clip: rect(1px, 1px, 1px, 1px);height: 1px;margin: -1px;overflow: hidden;padding: 0;position: absolute;width: 1px;}#sk-container-id-8 div.sk-estimator {font-family: monospace;background-color: #f0f8ff;border: 1px dotted black;border-radius: 0.25em;box-sizing: border-box;margin-bottom: 0.5em;}#sk-container-id-8 div.sk-estimator:hover {background-color: #d4ebff;}#sk-container-id-8 div.sk-parallel-item::after {content: \"\";width: 100%;border-bottom: 1px solid gray;flex-grow: 1;}#sk-container-id-8 div.sk-label:hover label.sk-toggleable__label {background-color: #d4ebff;}#sk-container-id-8 div.sk-serial::before {content: \"\";position: absolute;border-left: 1px solid gray;box-sizing: border-box;top: 0;bottom: 0;left: 50%;z-index: 0;}#sk-container-id-8 div.sk-serial {display: flex;flex-direction: column;align-items: center;background-color: white;padding-right: 0.2em;padding-left: 0.2em;position: relative;}#sk-container-id-8 div.sk-item {position: relative;z-index: 1;}#sk-container-id-8 div.sk-parallel {display: flex;align-items: stretch;justify-content: center;background-color: white;position: relative;}#sk-container-id-8 div.sk-item::before, #sk-container-id-8 div.sk-parallel-item::before {content: \"\";position: absolute;border-left: 1px solid gray;box-sizing: border-box;top: 0;bottom: 0;left: 50%;z-index: -1;}#sk-container-id-8 div.sk-parallel-item {display: flex;flex-direction: column;z-index: 1;position: relative;background-color: white;}#sk-container-id-8 div.sk-parallel-item:first-child::after {align-self: flex-end;width: 50%;}#sk-container-id-8 div.sk-parallel-item:last-child::after {align-self: flex-start;width: 50%;}#sk-container-id-8 div.sk-parallel-item:only-child::after {width: 0;}#sk-container-id-8 div.sk-dashed-wrapped {border: 1px dashed gray;margin: 0 0.4em 0.5em 0.4em;box-sizing: border-box;padding-bottom: 0.4em;background-color: white;}#sk-container-id-8 div.sk-label label {font-family: monospace;font-weight: bold;display: inline-block;line-height: 1.2em;}#sk-container-id-8 div.sk-label-container {text-align: center;}#sk-container-id-8 div.sk-container {/* jupyter's `normalize.less` sets `[hidden] { display: none; }` but bootstrap.min.css set `[hidden] { display: none !important; }` so we also need the `!important` here to be able to override the default hidden behavior on the sphinx rendered scikit-learn.org. See: https://github.com/scikit-learn/scikit-learn/issues/21755 */display: inline-block !important;position: relative;}#sk-container-id-8 div.sk-text-repr-fallback {display: none;}</style><div id=\"sk-container-id-8\" class=\"sk-top-container\"><div class=\"sk-text-repr-fallback\"><pre>RandomForestClassifier()</pre><b>In a Jupyter environment, please rerun this cell to show the HTML representation or trust the notebook. <br />On GitHub, the HTML representation is unable to render, please try loading this page with nbviewer.org.</b></div><div class=\"sk-container\" hidden><div class=\"sk-item\"><div class=\"sk-estimator sk-toggleable\"><input class=\"sk-toggleable__control sk-hidden--visually\" id=\"sk-estimator-id-8\" type=\"checkbox\" checked><label for=\"sk-estimator-id-8\" class=\"sk-toggleable__label sk-toggleable__label-arrow\">RandomForestClassifier</label><div class=\"sk-toggleable__content\"><pre>RandomForestClassifier()</pre></div></div></div></div></div>"
      ],
      "text/plain": [
       "RandomForestClassifier()"
      ]
     },
     "execution_count": 79,
     "metadata": {},
     "output_type": "execute_result"
    }
   ],
   "source": [
    "rf.fit(x_train,y_train)"
   ]
  },
  {
   "cell_type": "code",
   "execution_count": 83,
   "id": "9840f4c3",
   "metadata": {},
   "outputs": [],
   "source": [
    "y_pred = rf.predict(x_test)"
   ]
  },
  {
   "cell_type": "code",
   "execution_count": 84,
   "id": "c105c41a",
   "metadata": {},
   "outputs": [
    {
     "data": {
      "text/plain": [
       "0.9666666666666667"
      ]
     },
     "execution_count": 84,
     "metadata": {},
     "output_type": "execute_result"
    }
   ],
   "source": [
    "accuracy_score(y_test,y_pred)"
   ]
  },
  {
   "cell_type": "code",
   "execution_count": 85,
   "id": "63aae8b6",
   "metadata": {},
   "outputs": [
    {
     "data": {
      "text/html": [
       "<style>#sk-container-id-9 {color: black;background-color: white;}#sk-container-id-9 pre{padding: 0;}#sk-container-id-9 div.sk-toggleable {background-color: white;}#sk-container-id-9 label.sk-toggleable__label {cursor: pointer;display: block;width: 100%;margin-bottom: 0;padding: 0.3em;box-sizing: border-box;text-align: center;}#sk-container-id-9 label.sk-toggleable__label-arrow:before {content: \"▸\";float: left;margin-right: 0.25em;color: #696969;}#sk-container-id-9 label.sk-toggleable__label-arrow:hover:before {color: black;}#sk-container-id-9 div.sk-estimator:hover label.sk-toggleable__label-arrow:before {color: black;}#sk-container-id-9 div.sk-toggleable__content {max-height: 0;max-width: 0;overflow: hidden;text-align: left;background-color: #f0f8ff;}#sk-container-id-9 div.sk-toggleable__content pre {margin: 0.2em;color: black;border-radius: 0.25em;background-color: #f0f8ff;}#sk-container-id-9 input.sk-toggleable__control:checked~div.sk-toggleable__content {max-height: 200px;max-width: 100%;overflow: auto;}#sk-container-id-9 input.sk-toggleable__control:checked~label.sk-toggleable__label-arrow:before {content: \"▾\";}#sk-container-id-9 div.sk-estimator input.sk-toggleable__control:checked~label.sk-toggleable__label {background-color: #d4ebff;}#sk-container-id-9 div.sk-label input.sk-toggleable__control:checked~label.sk-toggleable__label {background-color: #d4ebff;}#sk-container-id-9 input.sk-hidden--visually {border: 0;clip: rect(1px 1px 1px 1px);clip: rect(1px, 1px, 1px, 1px);height: 1px;margin: -1px;overflow: hidden;padding: 0;position: absolute;width: 1px;}#sk-container-id-9 div.sk-estimator {font-family: monospace;background-color: #f0f8ff;border: 1px dotted black;border-radius: 0.25em;box-sizing: border-box;margin-bottom: 0.5em;}#sk-container-id-9 div.sk-estimator:hover {background-color: #d4ebff;}#sk-container-id-9 div.sk-parallel-item::after {content: \"\";width: 100%;border-bottom: 1px solid gray;flex-grow: 1;}#sk-container-id-9 div.sk-label:hover label.sk-toggleable__label {background-color: #d4ebff;}#sk-container-id-9 div.sk-serial::before {content: \"\";position: absolute;border-left: 1px solid gray;box-sizing: border-box;top: 0;bottom: 0;left: 50%;z-index: 0;}#sk-container-id-9 div.sk-serial {display: flex;flex-direction: column;align-items: center;background-color: white;padding-right: 0.2em;padding-left: 0.2em;position: relative;}#sk-container-id-9 div.sk-item {position: relative;z-index: 1;}#sk-container-id-9 div.sk-parallel {display: flex;align-items: stretch;justify-content: center;background-color: white;position: relative;}#sk-container-id-9 div.sk-item::before, #sk-container-id-9 div.sk-parallel-item::before {content: \"\";position: absolute;border-left: 1px solid gray;box-sizing: border-box;top: 0;bottom: 0;left: 50%;z-index: -1;}#sk-container-id-9 div.sk-parallel-item {display: flex;flex-direction: column;z-index: 1;position: relative;background-color: white;}#sk-container-id-9 div.sk-parallel-item:first-child::after {align-self: flex-end;width: 50%;}#sk-container-id-9 div.sk-parallel-item:last-child::after {align-self: flex-start;width: 50%;}#sk-container-id-9 div.sk-parallel-item:only-child::after {width: 0;}#sk-container-id-9 div.sk-dashed-wrapped {border: 1px dashed gray;margin: 0 0.4em 0.5em 0.4em;box-sizing: border-box;padding-bottom: 0.4em;background-color: white;}#sk-container-id-9 div.sk-label label {font-family: monospace;font-weight: bold;display: inline-block;line-height: 1.2em;}#sk-container-id-9 div.sk-label-container {text-align: center;}#sk-container-id-9 div.sk-container {/* jupyter's `normalize.less` sets `[hidden] { display: none; }` but bootstrap.min.css set `[hidden] { display: none !important; }` so we also need the `!important` here to be able to override the default hidden behavior on the sphinx rendered scikit-learn.org. See: https://github.com/scikit-learn/scikit-learn/issues/21755 */display: inline-block !important;position: relative;}#sk-container-id-9 div.sk-text-repr-fallback {display: none;}</style><div id=\"sk-container-id-9\" class=\"sk-top-container\"><div class=\"sk-text-repr-fallback\"><pre>LinearDiscriminantAnalysis(n_components=2)</pre><b>In a Jupyter environment, please rerun this cell to show the HTML representation or trust the notebook. <br />On GitHub, the HTML representation is unable to render, please try loading this page with nbviewer.org.</b></div><div class=\"sk-container\" hidden><div class=\"sk-item\"><div class=\"sk-estimator sk-toggleable\"><input class=\"sk-toggleable__control sk-hidden--visually\" id=\"sk-estimator-id-9\" type=\"checkbox\" checked><label for=\"sk-estimator-id-9\" class=\"sk-toggleable__label sk-toggleable__label-arrow\">LinearDiscriminantAnalysis</label><div class=\"sk-toggleable__content\"><pre>LinearDiscriminantAnalysis(n_components=2)</pre></div></div></div></div></div>"
      ],
      "text/plain": [
       "LinearDiscriminantAnalysis(n_components=2)"
      ]
     },
     "execution_count": 85,
     "metadata": {},
     "output_type": "execute_result"
    }
   ],
   "source": [
    "lda=LDA(n_components=2)\n",
    "lda"
   ]
  },
  {
   "cell_type": "code",
   "execution_count": 86,
   "id": "35737cb8",
   "metadata": {},
   "outputs": [
    {
     "data": {
      "text/plain": [
       "array([[-2.16447468e+00, -1.47602326e-01],\n",
       "       [-6.09094867e+00,  3.84453999e-01],\n",
       "       [-9.14944204e-01, -1.50932765e+00],\n",
       "       [-6.25041062e+00,  2.75795984e-01],\n",
       "       [-6.41135905e+00,  1.45417288e+00],\n",
       "       [ 8.53206870e+00,  8.24261634e-01],\n",
       "       [-2.01553680e+00, -1.57519722e+00],\n",
       "       [ 8.28966894e+00,  1.59438892e-01],\n",
       "       [-2.12918646e+00, -6.17169682e-01],\n",
       "       [-6.06791927e+00, -1.37950181e+00],\n",
       "       [-5.22446934e+00,  6.44912532e-01],\n",
       "       [ 8.05493904e+00,  6.79328675e-01],\n",
       "       [-4.56571457e+00, -2.09529042e+00],\n",
       "       [-5.56257082e+00, -8.76283695e-02],\n",
       "       [-1.41423341e+00, -8.52038892e-01],\n",
       "       [-8.67690355e+00, -1.00975800e+00],\n",
       "       [ 8.42002966e+00,  1.01783949e+00],\n",
       "       [ 8.28149399e+00,  7.57561390e-01],\n",
       "       [ 7.04435369e+00, -4.46884007e-01],\n",
       "       [-1.87280211e+00, -1.56446162e-01],\n",
       "       [ 7.89994192e+00,  1.57761364e-01],\n",
       "       [ 9.06194201e+00,  3.21767582e-01],\n",
       "       [-6.42707840e+00,  1.90013655e+00],\n",
       "       [-4.70995196e+00,  8.99514614e-01],\n",
       "       [-6.09973664e+00, -8.83694890e-01],\n",
       "       [-6.48105304e+00,  4.96624518e-01],\n",
       "       [-3.72944561e+00,  8.80975605e-02],\n",
       "       [-1.99462673e+00,  1.39970388e+00],\n",
       "       [-7.21369719e+00, -1.07076605e+00],\n",
       "       [-1.17530449e+00, -2.13455718e-01],\n",
       "       [ 7.25245922e+00,  2.48357227e-01],\n",
       "       [-5.73118912e+00, -9.39640015e-02],\n",
       "       [-3.98620731e+00, -2.58777912e-01],\n",
       "       [ 7.50563854e+00, -8.88541075e-01],\n",
       "       [ 7.65654818e+00, -6.79125143e-02],\n",
       "       [-6.62429282e+00,  8.60708483e-01],\n",
       "       [ 7.28575947e+00,  6.57087599e-01],\n",
       "       [-3.86959190e+00,  5.92269140e-01],\n",
       "       [-4.08748301e+00,  1.25960009e+00],\n",
       "       [-7.44718910e-01, -7.58694988e-02],\n",
       "       [-2.43807518e+00, -6.41918962e-01],\n",
       "       [-6.42324414e+00,  2.23750858e+00],\n",
       "       [-3.73762057e+00,  6.86220059e-01],\n",
       "       [ 8.13825421e+00,  1.12164536e+00],\n",
       "       [-8.04010684e-01, -2.72129086e+00],\n",
       "       [-8.89441565e-01, -6.16322830e-01],\n",
       "       [-4.91917560e+00,  1.20837017e-01],\n",
       "       [-1.42054500e-01, -1.67229978e+00],\n",
       "       [-7.72130304e+00,  2.27861269e+00],\n",
       "       [-1.76595607e+00, -1.06934811e+00],\n",
       "       [ 8.66094654e+00,  7.78124938e-01],\n",
       "       [ 7.26781515e+00, -5.08738906e-01],\n",
       "       [ 9.13299474e+00,  1.66126801e+00],\n",
       "       [-5.50067444e+00,  1.35419444e+00],\n",
       "       [ 7.02033393e+00, -4.35351535e-01],\n",
       "       [-4.43325435e+00, -6.57653341e-01],\n",
       "       [-5.13136860e+00, -2.75342968e-01],\n",
       "       [-4.64904594e+00,  5.88914084e-01],\n",
       "       [ 8.15361013e+00,  3.64549222e-01],\n",
       "       [ 6.56152594e+00,  4.71693966e-01],\n",
       "       [-6.98663722e-01, -1.41220892e+00],\n",
       "       [ 7.49845757e+00, -7.29567440e-01],\n",
       "       [-5.80459324e+00, -8.66299158e-01],\n",
       "       [-1.14719725e+00, -5.24049439e-01],\n",
       "       [-7.06278755e+00, -2.50137491e-01],\n",
       "       [-5.03208450e+00,  1.27614897e+00],\n",
       "       [-2.02791077e+00, -2.13554768e+00],\n",
       "       [-5.69901061e+00,  2.42290221e+00],\n",
       "       [-6.44788054e+00,  2.57434187e+00],\n",
       "       [-9.45200614e-02,  8.74702991e-02],\n",
       "       [ 9.45982777e+00,  2.85184380e+00],\n",
       "       [-6.38250214e-01, -8.74923404e-01],\n",
       "       [ 6.04503679e+00, -2.03113157e+00],\n",
       "       [-9.07763234e-01, -1.66830129e+00],\n",
       "       [-2.02185153e+00, -1.86385473e-01],\n",
       "       [ 7.04893006e+00,  5.97740904e-01],\n",
       "       [-2.03360887e+00, -1.07203675e+00],\n",
       "       [ 6.71243558e+00,  1.29232253e+00],\n",
       "       [ 6.46991169e+00,  1.04914556e-01],\n",
       "       [-6.32247354e+00,  2.50196560e+00],\n",
       "       [-5.22484669e+00,  7.58760579e-01],\n",
       "       [-6.47957017e+00,  1.40116181e+00],\n",
       "       [ 7.90712289e+00, -1.21227084e-03],\n",
       "       [ 7.81302817e+00,  1.35819209e+00],\n",
       "       [-3.61691768e+00,  1.23820586e+00],\n",
       "       [ 6.88118162e+00, -3.70328820e-01],\n",
       "       [-5.38293730e+00,  9.71056527e-02],\n",
       "       [ 6.87808813e+00, -5.10416434e-01],\n",
       "       [-4.59791291e+00,  7.05936755e-01],\n",
       "       [-4.76603870e+00, -1.48284922e-01],\n",
       "       [ 7.26682116e+00, -6.95900423e-02],\n",
       "       [-5.42998647e+00,  1.87259394e+00],\n",
       "       [ 7.64379686e+00, -5.14414927e-01],\n",
       "       [-1.27397558e+00,  1.01323735e-01],\n",
       "       [ 6.63469438e+00, -7.36090312e-01],\n",
       "       [-4.16271633e-01, -1.84131560e+00],\n",
       "       [-1.03812395e+00, -2.52670189e+00],\n",
       "       [ 8.28558147e+00,  4.58500141e-01],\n",
       "       [ 7.40387396e+00, -7.13849236e-01],\n",
       "       [-1.46141977e-01, -1.37323853e+00],\n",
       "       [ 8.80937933e+00,  1.13336507e+00],\n",
       "       [-1.60947608e+00,  3.56756493e-01],\n",
       "       [-2.55011422e+00, -4.48341103e-01],\n",
       "       [ 7.77106408e+00,  2.03898059e-01],\n",
       "       [-1.75790886e+00,  1.51636480e-03],\n",
       "       [-1.53073728e+00, -2.45551738e-01],\n",
       "       [-3.00371300e+00, -1.94849269e+00],\n",
       "       [-1.01584255e+00, -1.04797702e-01],\n",
       "       [-5.38293730e+00,  9.71056527e-02],\n",
       "       [ 7.76487710e+00, -7.62771700e-02],\n",
       "       [ 7.01105345e+00, -8.55614379e-01],\n",
       "       [-5.27212791e+00, -1.63744278e+00],\n",
       "       [-6.18317924e-01, -5.87394627e-01],\n",
       "       [-4.33829339e+00, -7.87219591e-01],\n",
       "       [ 6.12763134e-01, -1.33211144e+00],\n",
       "       [-3.69118803e+00, -7.63967408e-01],\n",
       "       [-4.92326308e+00,  4.19898266e-01],\n",
       "       [-3.54386077e+00, -1.42711262e+00],\n",
       "       [-6.18133327e+00,  1.55864516e+00],\n",
       "       [ 8.38325857e+00,  5.82869552e-01]])"
      ]
     },
     "execution_count": 86,
     "metadata": {},
     "output_type": "execute_result"
    }
   ],
   "source": [
    "lda.fit_transform(x_train,y_train)"
   ]
  },
  {
   "cell_type": "code",
   "execution_count": 88,
   "id": "9cd0688f",
   "metadata": {},
   "outputs": [],
   "source": [
    "lda_x_train = lda.transform(x_train)\n",
    "lda_x_test = lda.transform(x_test)"
   ]
  },
  {
   "cell_type": "code",
   "execution_count": 89,
   "id": "9705e08d",
   "metadata": {},
   "outputs": [],
   "source": [
    "lda_pred = lda.predict(x_test)"
   ]
  },
  {
   "cell_type": "code",
   "execution_count": 92,
   "id": "54565af2",
   "metadata": {},
   "outputs": [
    {
     "data": {
      "text/plain": [
       "1.0"
      ]
     },
     "execution_count": 92,
     "metadata": {},
     "output_type": "execute_result"
    }
   ],
   "source": [
    "accuracy_score(y_test,lda_pred)"
   ]
  },
  {
   "cell_type": "markdown",
   "id": "798b31e5",
   "metadata": {},
   "source": [
    "# DBSCAN"
   ]
  },
  {
   "cell_type": "code",
   "execution_count": 93,
   "id": "e273c5a1",
   "metadata": {},
   "outputs": [],
   "source": [
    "from sklearn.cluster import DBSCAN\n",
    "from sklearn.datasets import make_circles"
   ]
  },
  {
   "cell_type": "code",
   "execution_count": 94,
   "id": "8ec42d28",
   "metadata": {},
   "outputs": [],
   "source": [
    "x,_=make_circles(n_samples=600,random_state=4)"
   ]
  },
  {
   "cell_type": "code",
   "execution_count": 103,
   "id": "c9df7819",
   "metadata": {},
   "outputs": [],
   "source": [
    "dbscan=DBSCAN(eps=0.1,min_samples=4)\n",
    "clusters=dbscan.fit_predict(x)"
   ]
  },
  {
   "cell_type": "code",
   "execution_count": 104,
   "id": "4afd67d2",
   "metadata": {},
   "outputs": [
    {
     "data": {
      "text/plain": [
       "array([0, 0, 0, 0, 1, 0, 0, 1, 0, 1, 0, 1, 1, 1, 1, 0, 1, 0, 1, 0, 1, 1,\n",
       "       0, 1, 0, 0, 1, 0, 0, 0, 0, 0, 0, 1, 0, 0, 1, 1, 1, 0, 1, 0, 1, 1,\n",
       "       0, 0, 1, 1, 0, 0, 0, 1, 0, 1, 1, 1, 1, 0, 1, 0, 1, 0, 0, 0, 0, 0,\n",
       "       0, 1, 0, 0, 1, 1, 1, 1, 0, 1, 0, 0, 1, 1, 0, 0, 1, 0, 1, 0, 0, 1,\n",
       "       0, 0, 0, 1, 1, 0, 0, 1, 1, 0, 0, 0, 1, 0, 1, 1, 1, 0, 1, 0, 1, 0,\n",
       "       0, 1, 1, 0, 0, 0, 1, 0, 0, 0, 0, 1, 1, 1, 0, 0, 0, 1, 0, 0, 1, 1,\n",
       "       0, 0, 1, 1, 0, 0, 1, 0, 1, 1, 1, 1, 1, 1, 0, 0, 0, 1, 0, 1, 1, 1,\n",
       "       1, 1, 1, 1, 0, 1, 0, 0, 1, 1, 0, 1, 0, 0, 1, 1, 1, 1, 0, 1, 1, 1,\n",
       "       1, 1, 0, 1, 0, 1, 0, 1, 1, 1, 1, 0, 1, 0, 1, 0, 0, 1, 1, 1, 0, 1,\n",
       "       1, 1, 1, 1, 1, 0, 1, 0, 1, 0, 0, 0, 0, 0, 1, 1, 0, 1, 1, 1, 0, 0,\n",
       "       0, 1, 1, 1, 0, 1, 1, 0, 1, 1, 1, 1, 0, 1, 1, 1, 0, 1, 1, 1, 1, 1,\n",
       "       1, 0, 1, 1, 0, 0, 1, 1, 1, 0, 1, 0, 0, 1, 1, 1, 1, 1, 1, 0, 1, 1,\n",
       "       1, 0, 0, 0, 0, 0, 1, 0, 1, 0, 0, 0, 0, 1, 1, 1, 1, 0, 1, 0, 0, 0,\n",
       "       1, 0, 0, 0, 1, 1, 1, 0, 1, 1, 0, 0, 1, 1, 1, 0, 1, 0, 0, 1, 0, 0,\n",
       "       1, 1, 0, 0, 1, 0, 0, 0, 0, 1, 0, 1, 0, 0, 0, 0, 1, 1, 1, 0, 0, 1,\n",
       "       0, 1, 1, 1, 0, 0, 0, 0, 1, 0, 1, 0, 1, 1, 1, 0, 1, 0, 0, 1, 0, 1,\n",
       "       0, 0, 0, 1, 1, 0, 1, 1, 0, 0, 0, 0, 0, 0, 0, 0, 1, 0, 1, 0, 1, 0,\n",
       "       1, 0, 0, 0, 1, 0, 0, 1, 0, 1, 0, 0, 0, 0, 1, 0, 1, 0, 1, 0, 0, 1,\n",
       "       0, 1, 1, 0, 1, 0, 1, 1, 1, 0, 1, 1, 0, 1, 0, 0, 1, 0, 1, 0, 1, 0,\n",
       "       1, 1, 0, 1, 0, 1, 1, 1, 0, 0, 0, 1, 0, 1, 1, 1, 1, 0, 0, 1, 0, 1,\n",
       "       0, 1, 1, 0, 0, 1, 1, 1, 1, 0, 0, 1, 0, 1, 1, 0, 0, 0, 1, 1, 1, 1,\n",
       "       0, 0, 1, 0, 1, 0, 0, 0, 0, 0, 1, 1, 1, 1, 1, 0, 1, 1, 1, 1, 1, 1,\n",
       "       0, 0, 0, 0, 0, 0, 1, 0, 0, 1, 0, 0, 0, 1, 0, 1, 0, 1, 0, 0, 0, 1,\n",
       "       1, 0, 0, 0, 0, 1, 0, 0, 0, 1, 1, 1, 0, 0, 1, 0, 1, 1, 1, 1, 0, 0,\n",
       "       1, 0, 0, 0, 1, 0, 1, 0, 1, 1, 1, 1, 0, 0, 0, 1, 0, 0, 1, 0, 1, 0,\n",
       "       0, 1, 0, 1, 1, 1, 0, 1, 1, 1, 1, 1, 1, 0, 0, 0, 0, 0, 1, 0, 1, 0,\n",
       "       0, 0, 0, 1, 0, 0, 1, 0, 0, 0, 1, 0, 1, 1, 0, 0, 1, 1, 1, 0, 1, 1,\n",
       "       0, 0, 0, 0, 1, 1], dtype=int64)"
      ]
     },
     "execution_count": 104,
     "metadata": {},
     "output_type": "execute_result"
    }
   ],
   "source": [
    "clusters"
   ]
  },
  {
   "cell_type": "code",
   "execution_count": 105,
   "id": "262fd9a4",
   "metadata": {},
   "outputs": [
    {
     "data": {
      "image/png": "[encoded data removed]",
      "text/plain": [
       "<Figure size 432x288 with 1 Axes>"
      ]
     },
     "metadata": {
      "needs_background": "light"
     },
     "output_type": "display_data"
    }
   ],
   "source": [
    "plt.scatter(x[:,0],x[:,1],c=clusters,marker=\"*\")\n",
    "plt.show()"
   ]
  },
  {
   "cell_type": "code",
   "execution_count": null,
   "id": "a8dc843c",
   "metadata": {},
   "outputs": [],
   "source": []
  },
  {
   "cell_type": "code",
   "execution_count": null,
   "id": "1c4fef17",
   "metadata": {},
   "outputs": [],
   "source": []
  }
 ],
 "metadata": {
  "kernelspec": {
   "display_name": "Python 3 (ipykernel)",
   "language": "python",
   "name": "python3"
  },
  "language_info": {
   "codemirror_mode": {
    "name": "ipython",
    "version": 3
   },
   "file_extension": ".py",
   "mimetype": "text/x-python",
   "name": "python",
   "nbconvert_exporter": "python",
   "pygments_lexer": "ipython3",
   "version": "3.9.12"
  }
 },
 "nbformat": 4,
 "nbformat_minor": 5
}
