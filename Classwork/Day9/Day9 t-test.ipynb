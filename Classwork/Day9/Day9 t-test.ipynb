{
 "cells": [
  {
   "cell_type": "code",
   "execution_count": 3,
   "id": "ae0a9ae7",
   "metadata": {},
   "outputs": [
    {
     "data": {
      "text/html": [
       "<div>\n",
       "<style scoped>\n",
       "    .dataframe tbody tr th:only-of-type {\n",
       "        vertical-align: middle;\n",
       "    }\n",
       "\n",
       "    .dataframe tbody tr th {\n",
       "        vertical-align: top;\n",
       "    }\n",
       "\n",
       "    .dataframe thead th {\n",
       "        text-align: right;\n",
       "    }\n",
       "</style>\n",
       "<table border=\"1\" class=\"dataframe\">\n",
       "  <thead>\n",
       "    <tr style=\"text-align: right;\">\n",
       "      <th></th>\n",
       "      <th>MedInc</th>\n",
       "      <th>HouseAge</th>\n",
       "      <th>AveRooms</th>\n",
       "      <th>AveBedrms</th>\n",
       "      <th>Population</th>\n",
       "      <th>AveOccup</th>\n",
       "      <th>Latitude</th>\n",
       "      <th>Longitude</th>\n",
       "      <th>target</th>\n",
       "    </tr>\n",
       "  </thead>\n",
       "  <tbody>\n",
       "    <tr>\n",
       "      <th>0</th>\n",
       "      <td>8.3252</td>\n",
       "      <td>41.0</td>\n",
       "      <td>6.984127</td>\n",
       "      <td>1.023810</td>\n",
       "      <td>322.0</td>\n",
       "      <td>2.555556</td>\n",
       "      <td>37.88</td>\n",
       "      <td>-122.23</td>\n",
       "      <td>4.526</td>\n",
       "    </tr>\n",
       "    <tr>\n",
       "      <th>1</th>\n",
       "      <td>8.3014</td>\n",
       "      <td>21.0</td>\n",
       "      <td>6.238137</td>\n",
       "      <td>0.971880</td>\n",
       "      <td>2401.0</td>\n",
       "      <td>2.109842</td>\n",
       "      <td>37.86</td>\n",
       "      <td>-122.22</td>\n",
       "      <td>3.585</td>\n",
       "    </tr>\n",
       "    <tr>\n",
       "      <th>2</th>\n",
       "      <td>7.2574</td>\n",
       "      <td>52.0</td>\n",
       "      <td>8.288136</td>\n",
       "      <td>1.073446</td>\n",
       "      <td>496.0</td>\n",
       "      <td>2.802260</td>\n",
       "      <td>37.85</td>\n",
       "      <td>-122.24</td>\n",
       "      <td>3.521</td>\n",
       "    </tr>\n",
       "    <tr>\n",
       "      <th>3</th>\n",
       "      <td>5.6431</td>\n",
       "      <td>52.0</td>\n",
       "      <td>5.817352</td>\n",
       "      <td>1.073059</td>\n",
       "      <td>558.0</td>\n",
       "      <td>2.547945</td>\n",
       "      <td>37.85</td>\n",
       "      <td>-122.25</td>\n",
       "      <td>3.413</td>\n",
       "    </tr>\n",
       "    <tr>\n",
       "      <th>4</th>\n",
       "      <td>3.8462</td>\n",
       "      <td>52.0</td>\n",
       "      <td>6.281853</td>\n",
       "      <td>1.081081</td>\n",
       "      <td>565.0</td>\n",
       "      <td>2.181467</td>\n",
       "      <td>37.85</td>\n",
       "      <td>-122.25</td>\n",
       "      <td>3.422</td>\n",
       "    </tr>\n",
       "    <tr>\n",
       "      <th>...</th>\n",
       "      <td>...</td>\n",
       "      <td>...</td>\n",
       "      <td>...</td>\n",
       "      <td>...</td>\n",
       "      <td>...</td>\n",
       "      <td>...</td>\n",
       "      <td>...</td>\n",
       "      <td>...</td>\n",
       "      <td>...</td>\n",
       "    </tr>\n",
       "    <tr>\n",
       "      <th>20635</th>\n",
       "      <td>1.5603</td>\n",
       "      <td>25.0</td>\n",
       "      <td>5.045455</td>\n",
       "      <td>1.133333</td>\n",
       "      <td>845.0</td>\n",
       "      <td>2.560606</td>\n",
       "      <td>39.48</td>\n",
       "      <td>-121.09</td>\n",
       "      <td>0.781</td>\n",
       "    </tr>\n",
       "    <tr>\n",
       "      <th>20636</th>\n",
       "      <td>2.5568</td>\n",
       "      <td>18.0</td>\n",
       "      <td>6.114035</td>\n",
       "      <td>1.315789</td>\n",
       "      <td>356.0</td>\n",
       "      <td>3.122807</td>\n",
       "      <td>39.49</td>\n",
       "      <td>-121.21</td>\n",
       "      <td>0.771</td>\n",
       "    </tr>\n",
       "    <tr>\n",
       "      <th>20637</th>\n",
       "      <td>1.7000</td>\n",
       "      <td>17.0</td>\n",
       "      <td>5.205543</td>\n",
       "      <td>1.120092</td>\n",
       "      <td>1007.0</td>\n",
       "      <td>2.325635</td>\n",
       "      <td>39.43</td>\n",
       "      <td>-121.22</td>\n",
       "      <td>0.923</td>\n",
       "    </tr>\n",
       "    <tr>\n",
       "      <th>20638</th>\n",
       "      <td>1.8672</td>\n",
       "      <td>18.0</td>\n",
       "      <td>5.329513</td>\n",
       "      <td>1.171920</td>\n",
       "      <td>741.0</td>\n",
       "      <td>2.123209</td>\n",
       "      <td>39.43</td>\n",
       "      <td>-121.32</td>\n",
       "      <td>0.847</td>\n",
       "    </tr>\n",
       "    <tr>\n",
       "      <th>20639</th>\n",
       "      <td>2.3886</td>\n",
       "      <td>16.0</td>\n",
       "      <td>5.254717</td>\n",
       "      <td>1.162264</td>\n",
       "      <td>1387.0</td>\n",
       "      <td>2.616981</td>\n",
       "      <td>39.37</td>\n",
       "      <td>-121.24</td>\n",
       "      <td>0.894</td>\n",
       "    </tr>\n",
       "  </tbody>\n",
       "</table>\n",
       "<p>20640 rows × 9 columns</p>\n",
       "</div>"
      ],
      "text/plain": [
       "       MedInc  HouseAge  AveRooms  AveBedrms  Population  AveOccup  Latitude  \\\n",
       "0      8.3252      41.0  6.984127   1.023810       322.0  2.555556     37.88   \n",
       "1      8.3014      21.0  6.238137   0.971880      2401.0  2.109842     37.86   \n",
       "2      7.2574      52.0  8.288136   1.073446       496.0  2.802260     37.85   \n",
       "3      5.6431      52.0  5.817352   1.073059       558.0  2.547945     37.85   \n",
       "4      3.8462      52.0  6.281853   1.081081       565.0  2.181467     37.85   \n",
       "...       ...       ...       ...        ...         ...       ...       ...   \n",
       "20635  1.5603      25.0  5.045455   1.133333       845.0  2.560606     39.48   \n",
       "20636  2.5568      18.0  6.114035   1.315789       356.0  3.122807     39.49   \n",
       "20637  1.7000      17.0  5.205543   1.120092      1007.0  2.325635     39.43   \n",
       "20638  1.8672      18.0  5.329513   1.171920       741.0  2.123209     39.43   \n",
       "20639  2.3886      16.0  5.254717   1.162264      1387.0  2.616981     39.37   \n",
       "\n",
       "       Longitude  target  \n",
       "0        -122.23   4.526  \n",
       "1        -122.22   3.585  \n",
       "2        -122.24   3.521  \n",
       "3        -122.25   3.413  \n",
       "4        -122.25   3.422  \n",
       "...          ...     ...  \n",
       "20635    -121.09   0.781  \n",
       "20636    -121.21   0.771  \n",
       "20637    -121.22   0.923  \n",
       "20638    -121.32   0.847  \n",
       "20639    -121.24   0.894  \n",
       "\n",
       "[20640 rows x 9 columns]"
      ]
     },
     "execution_count": 3,
     "metadata": {},
     "output_type": "execute_result"
    }
   ],
   "source": [
    "import pandas as pd\n",
    "import numpy as np\n",
    "from sklearn.datasets import fetch_california_housing\n",
    "\n",
    "cal = fetch_california_housing()\n",
    "cal_df = pd.DataFrame(cal.data,columns=cal.feature_names)\n",
    "cal_df[\"target\"]=cal.target\n",
    "cal_df"
   ]
  },
  {
   "cell_type": "code",
   "execution_count": 4,
   "id": "0b928ea7",
   "metadata": {},
   "outputs": [
    {
     "data": {
      "text/html": [
       "<div>\n",
       "<style scoped>\n",
       "    .dataframe tbody tr th:only-of-type {\n",
       "        vertical-align: middle;\n",
       "    }\n",
       "\n",
       "    .dataframe tbody tr th {\n",
       "        vertical-align: top;\n",
       "    }\n",
       "\n",
       "    .dataframe thead th {\n",
       "        text-align: right;\n",
       "    }\n",
       "</style>\n",
       "<table border=\"1\" class=\"dataframe\">\n",
       "  <thead>\n",
       "    <tr style=\"text-align: right;\">\n",
       "      <th></th>\n",
       "      <th>MedInc</th>\n",
       "      <th>HouseAge</th>\n",
       "      <th>AveRooms</th>\n",
       "      <th>AveBedrms</th>\n",
       "      <th>Population</th>\n",
       "      <th>AveOccup</th>\n",
       "      <th>Latitude</th>\n",
       "      <th>Longitude</th>\n",
       "      <th>target</th>\n",
       "    </tr>\n",
       "  </thead>\n",
       "  <tbody>\n",
       "    <tr>\n",
       "      <th>6658</th>\n",
       "      <td>3.0119</td>\n",
       "      <td>22.0</td>\n",
       "      <td>3.772009</td>\n",
       "      <td>1.083521</td>\n",
       "      <td>1005.0</td>\n",
       "      <td>2.268623</td>\n",
       "      <td>34.15</td>\n",
       "      <td>-118.12</td>\n",
       "      <td>1.714</td>\n",
       "    </tr>\n",
       "    <tr>\n",
       "      <th>2118</th>\n",
       "      <td>3.9514</td>\n",
       "      <td>27.0</td>\n",
       "      <td>5.017804</td>\n",
       "      <td>0.836795</td>\n",
       "      <td>869.0</td>\n",
       "      <td>2.578635</td>\n",
       "      <td>36.75</td>\n",
       "      <td>-119.72</td>\n",
       "      <td>0.869</td>\n",
       "    </tr>\n",
       "    <tr>\n",
       "      <th>12101</th>\n",
       "      <td>5.5563</td>\n",
       "      <td>13.0</td>\n",
       "      <td>6.726190</td>\n",
       "      <td>1.016156</td>\n",
       "      <td>3382.0</td>\n",
       "      <td>2.875850</td>\n",
       "      <td>33.94</td>\n",
       "      <td>-117.34</td>\n",
       "      <td>2.145</td>\n",
       "    </tr>\n",
       "    <tr>\n",
       "      <th>4076</th>\n",
       "      <td>7.9625</td>\n",
       "      <td>33.0</td>\n",
       "      <td>6.520599</td>\n",
       "      <td>1.026217</td>\n",
       "      <td>588.0</td>\n",
       "      <td>2.202247</td>\n",
       "      <td>34.14</td>\n",
       "      <td>-118.45</td>\n",
       "      <td>4.908</td>\n",
       "    </tr>\n",
       "    <tr>\n",
       "      <th>15872</th>\n",
       "      <td>3.0774</td>\n",
       "      <td>52.0</td>\n",
       "      <td>4.997984</td>\n",
       "      <td>1.038306</td>\n",
       "      <td>1816.0</td>\n",
       "      <td>3.661290</td>\n",
       "      <td>37.76</td>\n",
       "      <td>-122.41</td>\n",
       "      <td>3.000</td>\n",
       "    </tr>\n",
       "    <tr>\n",
       "      <th>...</th>\n",
       "      <td>...</td>\n",
       "      <td>...</td>\n",
       "      <td>...</td>\n",
       "      <td>...</td>\n",
       "      <td>...</td>\n",
       "      <td>...</td>\n",
       "      <td>...</td>\n",
       "      <td>...</td>\n",
       "      <td>...</td>\n",
       "    </tr>\n",
       "    <tr>\n",
       "      <th>19724</th>\n",
       "      <td>2.6597</td>\n",
       "      <td>38.0</td>\n",
       "      <td>4.336842</td>\n",
       "      <td>0.978947</td>\n",
       "      <td>304.0</td>\n",
       "      <td>3.200000</td>\n",
       "      <td>38.87</td>\n",
       "      <td>-121.69</td>\n",
       "      <td>0.860</td>\n",
       "    </tr>\n",
       "    <tr>\n",
       "      <th>15587</th>\n",
       "      <td>3.8750</td>\n",
       "      <td>11.0</td>\n",
       "      <td>9.375465</td>\n",
       "      <td>2.000000</td>\n",
       "      <td>616.0</td>\n",
       "      <td>2.289963</td>\n",
       "      <td>33.04</td>\n",
       "      <td>-116.61</td>\n",
       "      <td>1.981</td>\n",
       "    </tr>\n",
       "    <tr>\n",
       "      <th>7435</th>\n",
       "      <td>3.2768</td>\n",
       "      <td>44.0</td>\n",
       "      <td>5.338290</td>\n",
       "      <td>1.007435</td>\n",
       "      <td>850.0</td>\n",
       "      <td>3.159851</td>\n",
       "      <td>33.95</td>\n",
       "      <td>-118.19</td>\n",
       "      <td>1.791</td>\n",
       "    </tr>\n",
       "    <tr>\n",
       "      <th>13779</th>\n",
       "      <td>2.5980</td>\n",
       "      <td>21.0</td>\n",
       "      <td>5.045603</td>\n",
       "      <td>1.052117</td>\n",
       "      <td>1351.0</td>\n",
       "      <td>2.200326</td>\n",
       "      <td>34.02</td>\n",
       "      <td>-117.05</td>\n",
       "      <td>1.067</td>\n",
       "    </tr>\n",
       "    <tr>\n",
       "      <th>1684</th>\n",
       "      <td>3.2759</td>\n",
       "      <td>18.0</td>\n",
       "      <td>5.340674</td>\n",
       "      <td>1.132124</td>\n",
       "      <td>1895.0</td>\n",
       "      <td>2.454663</td>\n",
       "      <td>38.01</td>\n",
       "      <td>-122.31</td>\n",
       "      <td>1.950</td>\n",
       "    </tr>\n",
       "  </tbody>\n",
       "</table>\n",
       "<p>200 rows × 9 columns</p>\n",
       "</div>"
      ],
      "text/plain": [
       "       MedInc  HouseAge  AveRooms  AveBedrms  Population  AveOccup  Latitude  \\\n",
       "6658   3.0119      22.0  3.772009   1.083521      1005.0  2.268623     34.15   \n",
       "2118   3.9514      27.0  5.017804   0.836795       869.0  2.578635     36.75   \n",
       "12101  5.5563      13.0  6.726190   1.016156      3382.0  2.875850     33.94   \n",
       "4076   7.9625      33.0  6.520599   1.026217       588.0  2.202247     34.14   \n",
       "15872  3.0774      52.0  4.997984   1.038306      1816.0  3.661290     37.76   \n",
       "...       ...       ...       ...        ...         ...       ...       ...   \n",
       "19724  2.6597      38.0  4.336842   0.978947       304.0  3.200000     38.87   \n",
       "15587  3.8750      11.0  9.375465   2.000000       616.0  2.289963     33.04   \n",
       "7435   3.2768      44.0  5.338290   1.007435       850.0  3.159851     33.95   \n",
       "13779  2.5980      21.0  5.045603   1.052117      1351.0  2.200326     34.02   \n",
       "1684   3.2759      18.0  5.340674   1.132124      1895.0  2.454663     38.01   \n",
       "\n",
       "       Longitude  target  \n",
       "6658     -118.12   1.714  \n",
       "2118     -119.72   0.869  \n",
       "12101    -117.34   2.145  \n",
       "4076     -118.45   4.908  \n",
       "15872    -122.41   3.000  \n",
       "...          ...     ...  \n",
       "19724    -121.69   0.860  \n",
       "15587    -116.61   1.981  \n",
       "7435     -118.19   1.791  \n",
       "13779    -117.05   1.067  \n",
       "1684     -122.31   1.950  \n",
       "\n",
       "[200 rows x 9 columns]"
      ]
     },
     "execution_count": 4,
     "metadata": {},
     "output_type": "execute_result"
    }
   ],
   "source": [
    "#Generate sample of n=200\n",
    "sample = cal_df.sample(n=200,random_state=34)\n",
    "sample"
   ]
  },
  {
   "cell_type": "code",
   "execution_count": 5,
   "id": "9276282f",
   "metadata": {},
   "outputs": [
    {
     "data": {
      "text/plain": [
       "2.05651065"
      ]
     },
     "execution_count": 5,
     "metadata": {},
     "output_type": "execute_result"
    }
   ],
   "source": [
    "# Sample mean target\n",
    "sample_mean = sample.target.mean()\n",
    "sample_mean"
   ]
  },
  {
   "cell_type": "code",
   "execution_count": 6,
   "id": "b3f44e4d",
   "metadata": {},
   "outputs": [
    {
     "data": {
      "text/plain": [
       "1.959963984540054"
      ]
     },
     "execution_count": 6,
     "metadata": {},
     "output_type": "execute_result"
    }
   ],
   "source": [
    "# Get z critical\n",
    "from scipy import stats\n",
    "z_critical = stats.norm.ppf(q=0.975)  # for 95% confidence interval(CI)\n",
    "z_critical"
   ]
  },
  {
   "cell_type": "code",
   "execution_count": 7,
   "id": "26cb7e6e",
   "metadata": {},
   "outputs": [
    {
     "data": {
      "text/plain": [
       "1.1539282040412349"
      ]
     },
     "execution_count": 7,
     "metadata": {},
     "output_type": "execute_result"
    }
   ],
   "source": [
    "#Population SD (target column)\n",
    "pop_std = np.std(cal_df.target)\n",
    "pop_std"
   ]
  },
  {
   "cell_type": "code",
   "execution_count": 8,
   "id": "fb553a12",
   "metadata": {},
   "outputs": [
    {
     "data": {
      "text/plain": [
       "0.15992335110057027"
      ]
     },
     "execution_count": 8,
     "metadata": {},
     "output_type": "execute_result"
    }
   ],
   "source": [
    "# Margin of error\n",
    "moe  = z_critical*(pop_std/np.sqrt(200))\n",
    "moe"
   ]
  },
  {
   "cell_type": "code",
   "execution_count": 9,
   "id": "38adb394",
   "metadata": {},
   "outputs": [
    {
     "data": {
      "text/plain": [
       "(1.8965872988994297, 2.2164340011005703)"
      ]
     },
     "execution_count": 9,
     "metadata": {},
     "output_type": "execute_result"
    }
   ],
   "source": [
    "#Confidence Interval\n",
    "(sample_mean-moe),(sample_mean+moe)"
   ]
  },
  {
   "cell_type": "code",
   "execution_count": 10,
   "id": "64375be0",
   "metadata": {},
   "outputs": [],
   "source": [
    "## Problem \n",
    "pop_mean=5\n",
    "sample_mean=2\n",
    "pstd=3 #population standard deviation\n",
    "sample_size=50"
   ]
  },
  {
   "cell_type": "code",
   "execution_count": 11,
   "id": "004e9df5",
   "metadata": {},
   "outputs": [],
   "source": [
    "#95% confidence interval\n",
    "moe = z_critical*(pstd/np.sqrt(50))"
   ]
  },
  {
   "cell_type": "code",
   "execution_count": 12,
   "id": "97260204",
   "metadata": {},
   "outputs": [],
   "source": [
    "lower_bound = (sample_mean-moe)\n",
    "upper_bound = (sample_mean+moe)"
   ]
  },
  {
   "cell_type": "code",
   "execution_count": 13,
   "id": "12ebd267",
   "metadata": {},
   "outputs": [
    {
     "name": "stdout",
     "output_type": "stream",
     "text": [
      "Rejected\n"
     ]
    }
   ],
   "source": [
    "if pop_mean>lower_bound and pop_mean<upper_bound:\n",
    "    print(\"Accepted\")\n",
    "else:\n",
    "    print(\"Rejected\")"
   ]
  },
  {
   "cell_type": "code",
   "execution_count": 33,
   "id": "cab50a9e",
   "metadata": {},
   "outputs": [
    {
     "data": {
      "text/html": [
       "<div>\n",
       "<style scoped>\n",
       "    .dataframe tbody tr th:only-of-type {\n",
       "        vertical-align: middle;\n",
       "    }\n",
       "\n",
       "    .dataframe tbody tr th {\n",
       "        vertical-align: top;\n",
       "    }\n",
       "\n",
       "    .dataframe thead th {\n",
       "        text-align: right;\n",
       "    }\n",
       "</style>\n",
       "<table border=\"1\" class=\"dataframe\">\n",
       "  <thead>\n",
       "    <tr style=\"text-align: right;\">\n",
       "      <th></th>\n",
       "      <th>stud.id</th>\n",
       "      <th>name</th>\n",
       "      <th>gender</th>\n",
       "      <th>age</th>\n",
       "      <th>height</th>\n",
       "      <th>weight</th>\n",
       "      <th>religion</th>\n",
       "      <th>nc.score</th>\n",
       "      <th>semester</th>\n",
       "      <th>major</th>\n",
       "      <th>minor</th>\n",
       "      <th>score1</th>\n",
       "      <th>score2</th>\n",
       "      <th>online.tutorial</th>\n",
       "      <th>graduated</th>\n",
       "      <th>salary</th>\n",
       "    </tr>\n",
       "  </thead>\n",
       "  <tbody>\n",
       "    <tr>\n",
       "      <th>1</th>\n",
       "      <td>833917</td>\n",
       "      <td>Gonzales, Christina</td>\n",
       "      <td>Female</td>\n",
       "      <td>19</td>\n",
       "      <td>160</td>\n",
       "      <td>64.8</td>\n",
       "      <td>Muslim</td>\n",
       "      <td>1.91</td>\n",
       "      <td>1st</td>\n",
       "      <td>Political Science</td>\n",
       "      <td>Social Sciences</td>\n",
       "      <td>NaN</td>\n",
       "      <td>NaN</td>\n",
       "      <td>0</td>\n",
       "      <td>0</td>\n",
       "      <td>NaN</td>\n",
       "    </tr>\n",
       "    <tr>\n",
       "      <th>2</th>\n",
       "      <td>898539</td>\n",
       "      <td>Lozano, T'Hani</td>\n",
       "      <td>Female</td>\n",
       "      <td>19</td>\n",
       "      <td>172</td>\n",
       "      <td>73.0</td>\n",
       "      <td>Other</td>\n",
       "      <td>1.56</td>\n",
       "      <td>2nd</td>\n",
       "      <td>Social Sciences</td>\n",
       "      <td>Mathematics and Statistics</td>\n",
       "      <td>NaN</td>\n",
       "      <td>NaN</td>\n",
       "      <td>0</td>\n",
       "      <td>0</td>\n",
       "      <td>NaN</td>\n",
       "    </tr>\n",
       "    <tr>\n",
       "      <th>3</th>\n",
       "      <td>379678</td>\n",
       "      <td>Williams, Hanh</td>\n",
       "      <td>Female</td>\n",
       "      <td>22</td>\n",
       "      <td>168</td>\n",
       "      <td>70.6</td>\n",
       "      <td>Protestant</td>\n",
       "      <td>1.24</td>\n",
       "      <td>3rd</td>\n",
       "      <td>Social Sciences</td>\n",
       "      <td>Mathematics and Statistics</td>\n",
       "      <td>45.0</td>\n",
       "      <td>46.0</td>\n",
       "      <td>0</td>\n",
       "      <td>0</td>\n",
       "      <td>NaN</td>\n",
       "    </tr>\n",
       "    <tr>\n",
       "      <th>4</th>\n",
       "      <td>807564</td>\n",
       "      <td>Nem, Denzel</td>\n",
       "      <td>Male</td>\n",
       "      <td>19</td>\n",
       "      <td>183</td>\n",
       "      <td>79.7</td>\n",
       "      <td>Other</td>\n",
       "      <td>1.37</td>\n",
       "      <td>2nd</td>\n",
       "      <td>Environmental Sciences</td>\n",
       "      <td>Mathematics and Statistics</td>\n",
       "      <td>NaN</td>\n",
       "      <td>NaN</td>\n",
       "      <td>0</td>\n",
       "      <td>0</td>\n",
       "      <td>NaN</td>\n",
       "    </tr>\n",
       "    <tr>\n",
       "      <th>5</th>\n",
       "      <td>383291</td>\n",
       "      <td>Powell, Heather</td>\n",
       "      <td>Female</td>\n",
       "      <td>21</td>\n",
       "      <td>175</td>\n",
       "      <td>71.4</td>\n",
       "      <td>Catholic</td>\n",
       "      <td>1.46</td>\n",
       "      <td>1st</td>\n",
       "      <td>Environmental Sciences</td>\n",
       "      <td>Mathematics and Statistics</td>\n",
       "      <td>NaN</td>\n",
       "      <td>NaN</td>\n",
       "      <td>0</td>\n",
       "      <td>0</td>\n",
       "      <td>NaN</td>\n",
       "    </tr>\n",
       "    <tr>\n",
       "      <th>...</th>\n",
       "      <td>...</td>\n",
       "      <td>...</td>\n",
       "      <td>...</td>\n",
       "      <td>...</td>\n",
       "      <td>...</td>\n",
       "      <td>...</td>\n",
       "      <td>...</td>\n",
       "      <td>...</td>\n",
       "      <td>...</td>\n",
       "      <td>...</td>\n",
       "      <td>...</td>\n",
       "      <td>...</td>\n",
       "      <td>...</td>\n",
       "      <td>...</td>\n",
       "      <td>...</td>\n",
       "      <td>...</td>\n",
       "    </tr>\n",
       "    <tr>\n",
       "      <th>8235</th>\n",
       "      <td>818044</td>\n",
       "      <td>Her, Joshua</td>\n",
       "      <td>Male</td>\n",
       "      <td>22</td>\n",
       "      <td>181</td>\n",
       "      <td>79.1</td>\n",
       "      <td>Protestant</td>\n",
       "      <td>2.91</td>\n",
       "      <td>6th</td>\n",
       "      <td>Environmental Sciences</td>\n",
       "      <td>Social Sciences</td>\n",
       "      <td>73.0</td>\n",
       "      <td>71.0</td>\n",
       "      <td>0</td>\n",
       "      <td>1</td>\n",
       "      <td>36750.087135</td>\n",
       "    </tr>\n",
       "    <tr>\n",
       "      <th>8236</th>\n",
       "      <td>560166</td>\n",
       "      <td>Reid, Jose</td>\n",
       "      <td>Male</td>\n",
       "      <td>23</td>\n",
       "      <td>178</td>\n",
       "      <td>72.6</td>\n",
       "      <td>Catholic</td>\n",
       "      <td>2.03</td>\n",
       "      <td>2nd</td>\n",
       "      <td>Environmental Sciences</td>\n",
       "      <td>Mathematics and Statistics</td>\n",
       "      <td>NaN</td>\n",
       "      <td>NaN</td>\n",
       "      <td>0</td>\n",
       "      <td>0</td>\n",
       "      <td>NaN</td>\n",
       "    </tr>\n",
       "    <tr>\n",
       "      <th>8237</th>\n",
       "      <td>380174</td>\n",
       "      <td>Villa, Raechelle</td>\n",
       "      <td>Female</td>\n",
       "      <td>20</td>\n",
       "      <td>169</td>\n",
       "      <td>67.7</td>\n",
       "      <td>Other</td>\n",
       "      <td>3.72</td>\n",
       "      <td>3rd</td>\n",
       "      <td>Environmental Sciences</td>\n",
       "      <td>Economics and Finance</td>\n",
       "      <td>77.0</td>\n",
       "      <td>75.0</td>\n",
       "      <td>1</td>\n",
       "      <td>0</td>\n",
       "      <td>NaN</td>\n",
       "    </tr>\n",
       "    <tr>\n",
       "      <th>8238</th>\n",
       "      <td>540967</td>\n",
       "      <td>Ngo, Preston</td>\n",
       "      <td>Male</td>\n",
       "      <td>23</td>\n",
       "      <td>195</td>\n",
       "      <td>98.6</td>\n",
       "      <td>Other</td>\n",
       "      <td>2.74</td>\n",
       "      <td>4th</td>\n",
       "      <td>Social Sciences</td>\n",
       "      <td>Political Science</td>\n",
       "      <td>50.0</td>\n",
       "      <td>46.0</td>\n",
       "      <td>1</td>\n",
       "      <td>1</td>\n",
       "      <td>40112.041834</td>\n",
       "    </tr>\n",
       "    <tr>\n",
       "      <th>8239</th>\n",
       "      <td>413207</td>\n",
       "      <td>Bernhard, Estela</td>\n",
       "      <td>Female</td>\n",
       "      <td>19</td>\n",
       "      <td>170</td>\n",
       "      <td>69.0</td>\n",
       "      <td>Muslim</td>\n",
       "      <td>3.29</td>\n",
       "      <td>&gt;6th</td>\n",
       "      <td>Political Science</td>\n",
       "      <td>Biology</td>\n",
       "      <td>47.0</td>\n",
       "      <td>59.0</td>\n",
       "      <td>1</td>\n",
       "      <td>1</td>\n",
       "      <td>45900.134459</td>\n",
       "    </tr>\n",
       "  </tbody>\n",
       "</table>\n",
       "<p>8239 rows × 16 columns</p>\n",
       "</div>"
      ],
      "text/plain": [
       "      stud.id                 name  gender  age  height  weight    religion  \\\n",
       "1      833917  Gonzales, Christina  Female   19     160    64.8      Muslim   \n",
       "2      898539       Lozano, T'Hani  Female   19     172    73.0       Other   \n",
       "3      379678       Williams, Hanh  Female   22     168    70.6  Protestant   \n",
       "4      807564          Nem, Denzel    Male   19     183    79.7       Other   \n",
       "5      383291      Powell, Heather  Female   21     175    71.4    Catholic   \n",
       "...       ...                  ...     ...  ...     ...     ...         ...   \n",
       "8235   818044          Her, Joshua    Male   22     181    79.1  Protestant   \n",
       "8236   560166           Reid, Jose    Male   23     178    72.6    Catholic   \n",
       "8237   380174     Villa, Raechelle  Female   20     169    67.7       Other   \n",
       "8238   540967         Ngo, Preston    Male   23     195    98.6       Other   \n",
       "8239   413207     Bernhard, Estela  Female   19     170    69.0      Muslim   \n",
       "\n",
       "      nc.score semester                   major                       minor  \\\n",
       "1         1.91      1st       Political Science             Social Sciences   \n",
       "2         1.56      2nd         Social Sciences  Mathematics and Statistics   \n",
       "3         1.24      3rd         Social Sciences  Mathematics and Statistics   \n",
       "4         1.37      2nd  Environmental Sciences  Mathematics and Statistics   \n",
       "5         1.46      1st  Environmental Sciences  Mathematics and Statistics   \n",
       "...        ...      ...                     ...                         ...   \n",
       "8235      2.91      6th  Environmental Sciences             Social Sciences   \n",
       "8236      2.03      2nd  Environmental Sciences  Mathematics and Statistics   \n",
       "8237      3.72      3rd  Environmental Sciences       Economics and Finance   \n",
       "8238      2.74      4th         Social Sciences           Political Science   \n",
       "8239      3.29     >6th       Political Science                     Biology   \n",
       "\n",
       "      score1  score2  online.tutorial  graduated        salary  \n",
       "1        NaN     NaN                0          0           NaN  \n",
       "2        NaN     NaN                0          0           NaN  \n",
       "3       45.0    46.0                0          0           NaN  \n",
       "4        NaN     NaN                0          0           NaN  \n",
       "5        NaN     NaN                0          0           NaN  \n",
       "...      ...     ...              ...        ...           ...  \n",
       "8235    73.0    71.0                0          1  36750.087135  \n",
       "8236     NaN     NaN                0          0           NaN  \n",
       "8237    77.0    75.0                1          0           NaN  \n",
       "8238    50.0    46.0                1          1  40112.041834  \n",
       "8239    47.0    59.0                1          1  45900.134459  \n",
       "\n",
       "[8239 rows x 16 columns]"
      ]
     },
     "execution_count": 33,
     "metadata": {},
     "output_type": "execute_result"
    }
   ],
   "source": [
    "# When we don't know about population standard deviation then we use t-test\n",
    "# t-test is of 3 types:-\n",
    "#1. one sample t-test\n",
    "#2. independent sample t-test\n",
    "#3. paired sample t-test\n",
    "\n",
    "# two tailed test >>> null hypothesis = weight =35kg , weight != 35 kg\n",
    "# one tailed test >>> left weight > 35kg  right weight < 35kg\n",
    "stu = pd.read_csv(\"students.csv\")\n",
    "stu"
   ]
  },
  {
   "cell_type": "code",
   "execution_count": null,
   "id": "3d4f22cb",
   "metadata": {},
   "outputs": [],
   "source": [
    "null_hypo=\"The average height is 170cms\"\n",
    "alt_hypo=\"The average height is not 170cms\""
   ]
  },
  {
   "cell_type": "code",
   "execution_count": 34,
   "id": "54c49caa",
   "metadata": {},
   "outputs": [
    {
     "data": {
      "text/plain": [
       "7005    155\n",
       "3206    185\n",
       "4544    160\n",
       "2104    162\n",
       "3510    159\n",
       "628     180\n",
       "537     154\n",
       "5419    146\n",
       "645     159\n",
       "5267    190\n",
       "1629    157\n",
       "4837    187\n",
       "6253    162\n",
       "7424    166\n",
       "8142    180\n",
       "1274    182\n",
       "3197    181\n",
       "7854    176\n",
       "1071    150\n",
       "1537    177\n",
       "Name: height, dtype: int64"
      ]
     },
     "execution_count": 34,
     "metadata": {},
     "output_type": "execute_result"
    }
   ],
   "source": [
    "#Collect data sample size = 20\n",
    "sample = stu.height.sample(n=20,random_state=1)\n",
    "sample"
   ]
  },
  {
   "cell_type": "code",
   "execution_count": 35,
   "id": "4f9af0a5",
   "metadata": {},
   "outputs": [],
   "source": [
    "#determine significance level\n",
    "alpha = 0.05 #95%\n",
    "#degree of freedom\n",
    "dof=19\n"
   ]
  },
  {
   "cell_type": "code",
   "execution_count": 36,
   "id": "2bb478d8",
   "metadata": {},
   "outputs": [
    {
     "data": {
      "text/plain": [
       "2.093024054408263"
      ]
     },
     "execution_count": 36,
     "metadata": {},
     "output_type": "execute_result"
    }
   ],
   "source": [
    "from scipy.stats import t\n",
    "p=1-alpha/2\n",
    "t_critical=t.ppf(p,dof)\n",
    "t_critical\n"
   ]
  },
  {
   "cell_type": "code",
   "execution_count": 37,
   "id": "4be01074",
   "metadata": {},
   "outputs": [
    {
     "data": {
      "text/plain": [
       "(-0.5253449248436769, 0.6054206573180387)"
      ]
     },
     "execution_count": 37,
     "metadata": {},
     "output_type": "execute_result"
    }
   ],
   "source": [
    "# Calculate t statistic\n",
    "from scipy.stats import ttest_1samp\n",
    "t_statistics, p_value = ttest_1samp(sample,170)\n",
    "t_statistics,p_value"
   ]
  },
  {
   "cell_type": "code",
   "execution_count": 38,
   "id": "df3d84b0",
   "metadata": {},
   "outputs": [
    {
     "data": {
      "text/plain": [
       "False"
      ]
     },
     "execution_count": 38,
     "metadata": {},
     "output_type": "execute_result"
    }
   ],
   "source": [
    "p_value<alpha"
   ]
  },
  {
   "cell_type": "code",
   "execution_count": 42,
   "id": "4a82f8a1",
   "metadata": {},
   "outputs": [],
   "source": [
    "males = stu[stu.gender==\"Male\"][\"nc.score\"].sample(n=30,random_state=1)"
   ]
  },
  {
   "cell_type": "code",
   "execution_count": 44,
   "id": "f4394009",
   "metadata": {},
   "outputs": [],
   "source": [
    "females = stu[stu.gender==\"Female\"][\"nc.score\"].sample(n=30,random_state=1)"
   ]
  },
  {
   "cell_type": "code",
   "execution_count": 45,
   "id": "ca8d0caa",
   "metadata": {},
   "outputs": [
    {
     "data": {
      "text/plain": [
       "0.05"
      ]
     },
     "execution_count": 45,
     "metadata": {},
     "output_type": "execute_result"
    }
   ],
   "source": [
    "#\n",
    "alpha"
   ]
  },
  {
   "cell_type": "code",
   "execution_count": 46,
   "id": "542f0764",
   "metadata": {},
   "outputs": [
    {
     "data": {
      "text/plain": [
       "58"
      ]
     },
     "execution_count": 46,
     "metadata": {},
     "output_type": "execute_result"
    }
   ],
   "source": [
    "dof = (30-1)+(30-1)\n",
    "dof"
   ]
  },
  {
   "cell_type": "code",
   "execution_count": 52,
   "id": "61ee9972",
   "metadata": {},
   "outputs": [
    {
     "data": {
      "text/plain": [
       "2.0017174830120923"
      ]
     },
     "execution_count": 52,
     "metadata": {},
     "output_type": "execute_result"
    }
   ],
   "source": [
    "p=1-alpha/2\n",
    "t_critical=t.ppf(p,dof)\n",
    "t_critical"
   ]
  },
  {
   "cell_type": "code",
   "execution_count": 48,
   "id": "1e0478db",
   "metadata": {},
   "outputs": [
    {
     "data": {
      "text/plain": [
       "0.6093286542687024"
      ]
     },
     "execution_count": 48,
     "metadata": {},
     "output_type": "execute_result"
    }
   ],
   "source": [
    "# For independent t-test\n",
    "from scipy.stats import ttest_ind\n",
    "t_statistics,p_value=ttest_ind(males,females)\n",
    "p_value"
   ]
  },
  {
   "cell_type": "code",
   "execution_count": 49,
   "id": "e4658e60",
   "metadata": {},
   "outputs": [
    {
     "data": {
      "text/plain": [
       "False"
      ]
     },
     "execution_count": 49,
     "metadata": {},
     "output_type": "execute_result"
    }
   ],
   "source": [
    "p_value<alpha"
   ]
  },
  {
   "cell_type": "code",
   "execution_count": null,
   "id": "52440eed",
   "metadata": {},
   "outputs": [],
   "source": []
  }
 ],
 "metadata": {
  "kernelspec": {
   "display_name": "Python 3 (ipykernel)",
   "language": "python",
   "name": "python3"
  },
  "language_info": {
   "codemirror_mode": {
    "name": "ipython",
    "version": 3
   },
   "file_extension": ".py",
   "mimetype": "text/x-python",
   "name": "python",
   "nbconvert_exporter": "python",
   "pygments_lexer": "ipython3",
   "version": "3.9.12"
  }
 },
 "nbformat": 4,
 "nbformat_minor": 5
}
