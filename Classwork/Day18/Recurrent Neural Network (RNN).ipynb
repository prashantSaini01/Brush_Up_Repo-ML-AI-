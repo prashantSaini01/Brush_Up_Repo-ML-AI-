{
 "cells": [
  {
   "cell_type": "markdown",
   "id": "5490f55c",
   "metadata": {},
   "source": [
    "# Recurrent Neural Network (RNN) Sequential Modelling"
   ]
  },
  {
   "cell_type": "markdown",
   "id": "5d433e42",
   "metadata": {},
   "source": [
    "## ANN -> Churn/Digit Classification\n",
    "## CNN -> Image Classification\n",
    "## RNN -> Text Generation, Sentiment,Translation"
   ]
  },
  {
   "cell_type": "code",
   "execution_count": 1,
   "id": "a1f21e48",
   "metadata": {},
   "outputs": [],
   "source": [
    "data = ['go india',\n",
    "\t\t'india india',\n",
    "\t\t'hip hip hurray',\n",
    "\t\t'jeetega bhai jeetega india jeetega',\n",
    "\t\t'bharat mata ki jai',\n",
    "\t\t'kohli kohli',\n",
    "\t\t'sachin sachin',\n",
    "\t\t'dhoni dhoni',\n",
    "\t\t'modi ji ki jai',\n",
    "\t\t'inquilab zindabad']"
   ]
  },
  {
   "cell_type": "code",
   "execution_count": 2,
   "id": "dc62cca2",
   "metadata": {},
   "outputs": [
    {
     "name": "stderr",
     "output_type": "stream",
     "text": [
      "C:\\Users\\ASUS\\anaconda03\\lib\\site-packages\\scipy\\__init__.py:146: UserWarning: A NumPy version >=1.16.5 and <1.23.0 is required for this version of SciPy (detected version 1.23.5\n",
      "  warnings.warn(f\"A NumPy version >={np_minversion} and <{np_maxversion}\"\n"
     ]
    },
    {
     "name": "stdout",
     "output_type": "stream",
     "text": [
      "WARNING:tensorflow:From C:\\Users\\ASUS\\anaconda03\\lib\\site-packages\\keras\\src\\losses.py:2976: The name tf.losses.sparse_softmax_cross_entropy is deprecated. Please use tf.compat.v1.losses.sparse_softmax_cross_entropy instead.\n",
      "\n"
     ]
    }
   ],
   "source": [
    "# Tokenize\n",
    "from keras.preprocessing.text import Tokenizer\n",
    "tokenize = Tokenizer()"
   ]
  },
  {
   "cell_type": "code",
   "execution_count": 3,
   "id": "6a1828b9",
   "metadata": {},
   "outputs": [],
   "source": [
    "tokenize.fit_on_texts(data)"
   ]
  },
  {
   "cell_type": "code",
   "execution_count": 4,
   "id": "1ab22c46",
   "metadata": {},
   "outputs": [
    {
     "data": {
      "text/plain": [
       "{'india': 1,\n",
       " 'jeetega': 2,\n",
       " 'hip': 3,\n",
       " 'ki': 4,\n",
       " 'jai': 5,\n",
       " 'kohli': 6,\n",
       " 'sachin': 7,\n",
       " 'dhoni': 8,\n",
       " 'go': 9,\n",
       " 'hurray': 10,\n",
       " 'bhai': 11,\n",
       " 'bharat': 12,\n",
       " 'mata': 13,\n",
       " 'modi': 14,\n",
       " 'ji': 15,\n",
       " 'inquilab': 16,\n",
       " 'zindabad': 17}"
      ]
     },
     "execution_count": 4,
     "metadata": {},
     "output_type": "execute_result"
    }
   ],
   "source": [
    "tokenize.word_index"
   ]
  },
  {
   "cell_type": "code",
   "execution_count": 5,
   "id": "fb0a5d5e",
   "metadata": {},
   "outputs": [
    {
     "data": {
      "text/plain": [
       "[[9, 1],\n",
       " [1, 1],\n",
       " [3, 3, 10],\n",
       " [2, 11, 2, 1, 2],\n",
       " [12, 13, 4, 5],\n",
       " [6, 6],\n",
       " [7, 7],\n",
       " [8, 8],\n",
       " [14, 15, 4, 5],\n",
       " [16, 17]]"
      ]
     },
     "execution_count": 5,
     "metadata": {},
     "output_type": "execute_result"
    }
   ],
   "source": [
    "# Sequence Generation\n",
    "seq = tokenize.texts_to_sequences(data)\n",
    "seq"
   ]
  },
  {
   "cell_type": "code",
   "execution_count": 6,
   "id": "8ff1c79d",
   "metadata": {},
   "outputs": [],
   "source": [
    "from keras.utils import pad_sequences"
   ]
  },
  {
   "cell_type": "code",
   "execution_count": 7,
   "id": "07103a75",
   "metadata": {},
   "outputs": [
    {
     "data": {
      "text/plain": [
       "array([[ 9,  1,  0,  0,  0],\n",
       "       [ 1,  1,  0,  0,  0],\n",
       "       [ 3,  3, 10,  0,  0],\n",
       "       [ 2, 11,  2,  1,  2],\n",
       "       [12, 13,  4,  5,  0],\n",
       "       [ 6,  6,  0,  0,  0],\n",
       "       [ 7,  7,  0,  0,  0],\n",
       "       [ 8,  8,  0,  0,  0],\n",
       "       [14, 15,  4,  5,  0],\n",
       "       [16, 17,  0,  0,  0]])"
      ]
     },
     "execution_count": 7,
     "metadata": {},
     "output_type": "execute_result"
    }
   ],
   "source": [
    "seq=pad_sequences(seq,padding=\"post\")\n",
    "seq"
   ]
  },
  {
   "cell_type": "code",
   "execution_count": 8,
   "id": "8a18b41e",
   "metadata": {},
   "outputs": [],
   "source": [
    "from tensorflow.keras.layers import Embedding,SimpleRNN,Dense"
   ]
  },
  {
   "cell_type": "code",
   "execution_count": 9,
   "id": "e9e2a6a9",
   "metadata": {},
   "outputs": [],
   "source": [
    "from tensorflow.keras import Sequential"
   ]
  },
  {
   "cell_type": "code",
   "execution_count": 10,
   "id": "4ec756c6",
   "metadata": {},
   "outputs": [
    {
     "name": "stdout",
     "output_type": "stream",
     "text": [
      "WARNING:tensorflow:From C:\\Users\\ASUS\\anaconda03\\lib\\site-packages\\keras\\src\\backend.py:873: The name tf.get_default_graph is deprecated. Please use tf.compat.v1.get_default_graph instead.\n",
      "\n",
      "Model: \"sequential\"\n",
      "_________________________________________________________________\n",
      " Layer (type)                Output Shape              Param #   \n",
      "=================================================================\n",
      " embedding (Embedding)       (None, 5, 2)              34        \n",
      "                                                                 \n",
      "=================================================================\n",
      "Total params: 34 (136.00 Byte)\n",
      "Trainable params: 34 (136.00 Byte)\n",
      "Non-trainable params: 0 (0.00 Byte)\n",
      "_________________________________________________________________\n"
     ]
    }
   ],
   "source": [
    "model=Sequential()\n",
    "model.add(Embedding(17,output_dim=2,input_length=5))\n",
    "model.summary()"
   ]
  },
  {
   "cell_type": "code",
   "execution_count": 11,
   "id": "ac8785cd",
   "metadata": {},
   "outputs": [
    {
     "name": "stdout",
     "output_type": "stream",
     "text": [
      "WARNING:tensorflow:From C:\\Users\\ASUS\\anaconda03\\lib\\site-packages\\keras\\src\\optimizers\\__init__.py:309: The name tf.train.Optimizer is deprecated. Please use tf.compat.v1.train.Optimizer instead.\n",
      "\n"
     ]
    }
   ],
   "source": [
    "model.compile(optimizer=\"adam\",\n",
    "              metrics=[\"accuracy\"],\n",
    "             loss=\"categorical_crossentropy\")"
   ]
  },
  {
   "cell_type": "code",
   "execution_count": 12,
   "id": "0ee87b40",
   "metadata": {},
   "outputs": [
    {
     "ename": "InvalidArgumentError",
     "evalue": "Graph execution error:\n\nDetected at node sequential/embedding/embedding_lookup defined at (most recent call last):\n  File \"C:\\Users\\ASUS\\anaconda03\\lib\\runpy.py\", line 197, in _run_module_as_main\n\n  File \"C:\\Users\\ASUS\\anaconda03\\lib\\runpy.py\", line 87, in _run_code\n\n  File \"C:\\Users\\ASUS\\anaconda03\\lib\\site-packages\\ipykernel_launcher.py\", line 16, in <module>\n\n  File \"C:\\Users\\ASUS\\anaconda03\\lib\\site-packages\\traitlets\\config\\application.py\", line 846, in launch_instance\n\n  File \"C:\\Users\\ASUS\\anaconda03\\lib\\site-packages\\ipykernel\\kernelapp.py\", line 677, in start\n\n  File \"C:\\Users\\ASUS\\anaconda03\\lib\\site-packages\\tornado\\platform\\asyncio.py\", line 199, in start\n\n  File \"C:\\Users\\ASUS\\anaconda03\\lib\\asyncio\\base_events.py\", line 601, in run_forever\n\n  File \"C:\\Users\\ASUS\\anaconda03\\lib\\asyncio\\base_events.py\", line 1905, in _run_once\n\n  File \"C:\\Users\\ASUS\\anaconda03\\lib\\asyncio\\events.py\", line 80, in _run\n\n  File \"C:\\Users\\ASUS\\anaconda03\\lib\\site-packages\\ipykernel\\kernelbase.py\", line 471, in dispatch_queue\n\n  File \"C:\\Users\\ASUS\\anaconda03\\lib\\site-packages\\ipykernel\\kernelbase.py\", line 460, in process_one\n\n  File \"C:\\Users\\ASUS\\anaconda03\\lib\\site-packages\\ipykernel\\kernelbase.py\", line 367, in dispatch_shell\n\n  File \"C:\\Users\\ASUS\\anaconda03\\lib\\site-packages\\ipykernel\\kernelbase.py\", line 662, in execute_request\n\n  File \"C:\\Users\\ASUS\\anaconda03\\lib\\site-packages\\ipykernel\\ipkernel.py\", line 360, in do_execute\n\n  File \"C:\\Users\\ASUS\\anaconda03\\lib\\site-packages\\ipykernel\\zmqshell.py\", line 532, in run_cell\n\n  File \"C:\\Users\\ASUS\\anaconda03\\lib\\site-packages\\IPython\\core\\interactiveshell.py\", line 2863, in run_cell\n\n  File \"C:\\Users\\ASUS\\anaconda03\\lib\\site-packages\\IPython\\core\\interactiveshell.py\", line 2909, in _run_cell\n\n  File \"C:\\Users\\ASUS\\anaconda03\\lib\\site-packages\\IPython\\core\\async_helpers.py\", line 129, in _pseudo_sync_runner\n\n  File \"C:\\Users\\ASUS\\anaconda03\\lib\\site-packages\\IPython\\core\\interactiveshell.py\", line 3106, in run_cell_async\n\n  File \"C:\\Users\\ASUS\\anaconda03\\lib\\site-packages\\IPython\\core\\interactiveshell.py\", line 3309, in run_ast_nodes\n\n  File \"C:\\Users\\ASUS\\anaconda03\\lib\\site-packages\\IPython\\core\\interactiveshell.py\", line 3369, in run_code\n\n  File \"C:\\Users\\ASUS\\AppData\\Local\\Temp\\ipykernel_20836\\724553433.py\", line 1, in <cell line: 1>\n\n  File \"C:\\Users\\ASUS\\anaconda03\\lib\\site-packages\\keras\\src\\utils\\traceback_utils.py\", line 65, in error_handler\n\n  File \"C:\\Users\\ASUS\\anaconda03\\lib\\site-packages\\keras\\src\\engine\\training.py\", line 2655, in predict\n\n  File \"C:\\Users\\ASUS\\anaconda03\\lib\\site-packages\\keras\\src\\engine\\training.py\", line 2440, in predict_function\n\n  File \"C:\\Users\\ASUS\\anaconda03\\lib\\site-packages\\keras\\src\\engine\\training.py\", line 2425, in step_function\n\n  File \"C:\\Users\\ASUS\\anaconda03\\lib\\site-packages\\keras\\src\\engine\\training.py\", line 2413, in run_step\n\n  File \"C:\\Users\\ASUS\\anaconda03\\lib\\site-packages\\keras\\src\\engine\\training.py\", line 2381, in predict_step\n\n  File \"C:\\Users\\ASUS\\anaconda03\\lib\\site-packages\\keras\\src\\utils\\traceback_utils.py\", line 65, in error_handler\n\n  File \"C:\\Users\\ASUS\\anaconda03\\lib\\site-packages\\keras\\src\\engine\\training.py\", line 590, in __call__\n\n  File \"C:\\Users\\ASUS\\anaconda03\\lib\\site-packages\\keras\\src\\utils\\traceback_utils.py\", line 65, in error_handler\n\n  File \"C:\\Users\\ASUS\\anaconda03\\lib\\site-packages\\keras\\src\\engine\\base_layer.py\", line 1149, in __call__\n\n  File \"C:\\Users\\ASUS\\anaconda03\\lib\\site-packages\\keras\\src\\utils\\traceback_utils.py\", line 96, in error_handler\n\n  File \"C:\\Users\\ASUS\\anaconda03\\lib\\site-packages\\keras\\src\\engine\\sequential.py\", line 398, in call\n\n  File \"C:\\Users\\ASUS\\anaconda03\\lib\\site-packages\\keras\\src\\engine\\functional.py\", line 515, in call\n\n  File \"C:\\Users\\ASUS\\anaconda03\\lib\\site-packages\\keras\\src\\engine\\functional.py\", line 672, in _run_internal_graph\n\n  File \"C:\\Users\\ASUS\\anaconda03\\lib\\site-packages\\keras\\src\\utils\\traceback_utils.py\", line 65, in error_handler\n\n  File \"C:\\Users\\ASUS\\anaconda03\\lib\\site-packages\\keras\\src\\engine\\base_layer.py\", line 1149, in __call__\n\n  File \"C:\\Users\\ASUS\\anaconda03\\lib\\site-packages\\keras\\src\\utils\\traceback_utils.py\", line 96, in error_handler\n\n  File \"C:\\Users\\ASUS\\anaconda03\\lib\\site-packages\\keras\\src\\layers\\core\\embedding.py\", line 272, in call\n\nindices[9,1] = 17 is not in [0, 17)\n\t [[{{node sequential/embedding/embedding_lookup}}]] [Op:__inference_predict_function_127]",
     "output_type": "error",
     "traceback": [
      "\u001b[1;31m---------------------------------------------------------------------------\u001b[0m",
      "\u001b[1;31mInvalidArgumentError\u001b[0m                      Traceback (most recent call last)",
      "Input \u001b[1;32mIn [12]\u001b[0m, in \u001b[0;36m<cell line: 1>\u001b[1;34m()\u001b[0m\n\u001b[1;32m----> 1\u001b[0m \u001b[43mmodel\u001b[49m\u001b[38;5;241;43m.\u001b[39;49m\u001b[43mpredict\u001b[49m\u001b[43m(\u001b[49m\u001b[43mseq\u001b[49m\u001b[43m)\u001b[49m\n",
      "File \u001b[1;32m~\\anaconda03\\lib\\site-packages\\keras\\src\\utils\\traceback_utils.py:70\u001b[0m, in \u001b[0;36mfilter_traceback.<locals>.error_handler\u001b[1;34m(*args, **kwargs)\u001b[0m\n\u001b[0;32m     67\u001b[0m     filtered_tb \u001b[38;5;241m=\u001b[39m _process_traceback_frames(e\u001b[38;5;241m.\u001b[39m__traceback__)\n\u001b[0;32m     68\u001b[0m     \u001b[38;5;66;03m# To get the full stack trace, call:\u001b[39;00m\n\u001b[0;32m     69\u001b[0m     \u001b[38;5;66;03m# `tf.debugging.disable_traceback_filtering()`\u001b[39;00m\n\u001b[1;32m---> 70\u001b[0m     \u001b[38;5;28;01mraise\u001b[39;00m e\u001b[38;5;241m.\u001b[39mwith_traceback(filtered_tb) \u001b[38;5;28;01mfrom\u001b[39;00m \u001b[38;5;28mNone\u001b[39m\n\u001b[0;32m     71\u001b[0m \u001b[38;5;28;01mfinally\u001b[39;00m:\n\u001b[0;32m     72\u001b[0m     \u001b[38;5;28;01mdel\u001b[39;00m filtered_tb\n",
      "File \u001b[1;32m~\\anaconda03\\lib\\site-packages\\tensorflow\\python\\eager\\execute.py:53\u001b[0m, in \u001b[0;36mquick_execute\u001b[1;34m(op_name, num_outputs, inputs, attrs, ctx, name)\u001b[0m\n\u001b[0;32m     51\u001b[0m \u001b[38;5;28;01mtry\u001b[39;00m:\n\u001b[0;32m     52\u001b[0m   ctx\u001b[38;5;241m.\u001b[39mensure_initialized()\n\u001b[1;32m---> 53\u001b[0m   tensors \u001b[38;5;241m=\u001b[39m pywrap_tfe\u001b[38;5;241m.\u001b[39mTFE_Py_Execute(ctx\u001b[38;5;241m.\u001b[39m_handle, device_name, op_name,\n\u001b[0;32m     54\u001b[0m                                       inputs, attrs, num_outputs)\n\u001b[0;32m     55\u001b[0m \u001b[38;5;28;01mexcept\u001b[39;00m core\u001b[38;5;241m.\u001b[39m_NotOkStatusException \u001b[38;5;28;01mas\u001b[39;00m e:\n\u001b[0;32m     56\u001b[0m   \u001b[38;5;28;01mif\u001b[39;00m name \u001b[38;5;129;01mis\u001b[39;00m \u001b[38;5;129;01mnot\u001b[39;00m \u001b[38;5;28;01mNone\u001b[39;00m:\n",
      "\u001b[1;31mInvalidArgumentError\u001b[0m: Graph execution error:\n\nDetected at node sequential/embedding/embedding_lookup defined at (most recent call last):\n  File \"C:\\Users\\ASUS\\anaconda03\\lib\\runpy.py\", line 197, in _run_module_as_main\n\n  File \"C:\\Users\\ASUS\\anaconda03\\lib\\runpy.py\", line 87, in _run_code\n\n  File \"C:\\Users\\ASUS\\anaconda03\\lib\\site-packages\\ipykernel_launcher.py\", line 16, in <module>\n\n  File \"C:\\Users\\ASUS\\anaconda03\\lib\\site-packages\\traitlets\\config\\application.py\", line 846, in launch_instance\n\n  File \"C:\\Users\\ASUS\\anaconda03\\lib\\site-packages\\ipykernel\\kernelapp.py\", line 677, in start\n\n  File \"C:\\Users\\ASUS\\anaconda03\\lib\\site-packages\\tornado\\platform\\asyncio.py\", line 199, in start\n\n  File \"C:\\Users\\ASUS\\anaconda03\\lib\\asyncio\\base_events.py\", line 601, in run_forever\n\n  File \"C:\\Users\\ASUS\\anaconda03\\lib\\asyncio\\base_events.py\", line 1905, in _run_once\n\n  File \"C:\\Users\\ASUS\\anaconda03\\lib\\asyncio\\events.py\", line 80, in _run\n\n  File \"C:\\Users\\ASUS\\anaconda03\\lib\\site-packages\\ipykernel\\kernelbase.py\", line 471, in dispatch_queue\n\n  File \"C:\\Users\\ASUS\\anaconda03\\lib\\site-packages\\ipykernel\\kernelbase.py\", line 460, in process_one\n\n  File \"C:\\Users\\ASUS\\anaconda03\\lib\\site-packages\\ipykernel\\kernelbase.py\", line 367, in dispatch_shell\n\n  File \"C:\\Users\\ASUS\\anaconda03\\lib\\site-packages\\ipykernel\\kernelbase.py\", line 662, in execute_request\n\n  File \"C:\\Users\\ASUS\\anaconda03\\lib\\site-packages\\ipykernel\\ipkernel.py\", line 360, in do_execute\n\n  File \"C:\\Users\\ASUS\\anaconda03\\lib\\site-packages\\ipykernel\\zmqshell.py\", line 532, in run_cell\n\n  File \"C:\\Users\\ASUS\\anaconda03\\lib\\site-packages\\IPython\\core\\interactiveshell.py\", line 2863, in run_cell\n\n  File \"C:\\Users\\ASUS\\anaconda03\\lib\\site-packages\\IPython\\core\\interactiveshell.py\", line 2909, in _run_cell\n\n  File \"C:\\Users\\ASUS\\anaconda03\\lib\\site-packages\\IPython\\core\\async_helpers.py\", line 129, in _pseudo_sync_runner\n\n  File \"C:\\Users\\ASUS\\anaconda03\\lib\\site-packages\\IPython\\core\\interactiveshell.py\", line 3106, in run_cell_async\n\n  File \"C:\\Users\\ASUS\\anaconda03\\lib\\site-packages\\IPython\\core\\interactiveshell.py\", line 3309, in run_ast_nodes\n\n  File \"C:\\Users\\ASUS\\anaconda03\\lib\\site-packages\\IPython\\core\\interactiveshell.py\", line 3369, in run_code\n\n  File \"C:\\Users\\ASUS\\AppData\\Local\\Temp\\ipykernel_20836\\724553433.py\", line 1, in <cell line: 1>\n\n  File \"C:\\Users\\ASUS\\anaconda03\\lib\\site-packages\\keras\\src\\utils\\traceback_utils.py\", line 65, in error_handler\n\n  File \"C:\\Users\\ASUS\\anaconda03\\lib\\site-packages\\keras\\src\\engine\\training.py\", line 2655, in predict\n\n  File \"C:\\Users\\ASUS\\anaconda03\\lib\\site-packages\\keras\\src\\engine\\training.py\", line 2440, in predict_function\n\n  File \"C:\\Users\\ASUS\\anaconda03\\lib\\site-packages\\keras\\src\\engine\\training.py\", line 2425, in step_function\n\n  File \"C:\\Users\\ASUS\\anaconda03\\lib\\site-packages\\keras\\src\\engine\\training.py\", line 2413, in run_step\n\n  File \"C:\\Users\\ASUS\\anaconda03\\lib\\site-packages\\keras\\src\\engine\\training.py\", line 2381, in predict_step\n\n  File \"C:\\Users\\ASUS\\anaconda03\\lib\\site-packages\\keras\\src\\utils\\traceback_utils.py\", line 65, in error_handler\n\n  File \"C:\\Users\\ASUS\\anaconda03\\lib\\site-packages\\keras\\src\\engine\\training.py\", line 590, in __call__\n\n  File \"C:\\Users\\ASUS\\anaconda03\\lib\\site-packages\\keras\\src\\utils\\traceback_utils.py\", line 65, in error_handler\n\n  File \"C:\\Users\\ASUS\\anaconda03\\lib\\site-packages\\keras\\src\\engine\\base_layer.py\", line 1149, in __call__\n\n  File \"C:\\Users\\ASUS\\anaconda03\\lib\\site-packages\\keras\\src\\utils\\traceback_utils.py\", line 96, in error_handler\n\n  File \"C:\\Users\\ASUS\\anaconda03\\lib\\site-packages\\keras\\src\\engine\\sequential.py\", line 398, in call\n\n  File \"C:\\Users\\ASUS\\anaconda03\\lib\\site-packages\\keras\\src\\engine\\functional.py\", line 515, in call\n\n  File \"C:\\Users\\ASUS\\anaconda03\\lib\\site-packages\\keras\\src\\engine\\functional.py\", line 672, in _run_internal_graph\n\n  File \"C:\\Users\\ASUS\\anaconda03\\lib\\site-packages\\keras\\src\\utils\\traceback_utils.py\", line 65, in error_handler\n\n  File \"C:\\Users\\ASUS\\anaconda03\\lib\\site-packages\\keras\\src\\engine\\base_layer.py\", line 1149, in __call__\n\n  File \"C:\\Users\\ASUS\\anaconda03\\lib\\site-packages\\keras\\src\\utils\\traceback_utils.py\", line 96, in error_handler\n\n  File \"C:\\Users\\ASUS\\anaconda03\\lib\\site-packages\\keras\\src\\layers\\core\\embedding.py\", line 272, in call\n\nindices[9,1] = 17 is not in [0, 17)\n\t [[{{node sequential/embedding/embedding_lookup}}]] [Op:__inference_predict_function_127]"
     ]
    }
   ],
   "source": [
    "model.predict(seq)"
   ]
  },
  {
   "cell_type": "code",
   "execution_count": 36,
   "id": "b82dec66",
   "metadata": {},
   "outputs": [],
   "source": [
    "from keras.datasets import imdb"
   ]
  },
  {
   "cell_type": "code",
   "execution_count": 37,
   "id": "c8715296",
   "metadata": {},
   "outputs": [],
   "source": [
    "(x_train,y_train),(x_test,y_test)=imdb.load_data()"
   ]
  },
  {
   "cell_type": "code",
   "execution_count": 47,
   "id": "4febd5a6",
   "metadata": {},
   "outputs": [
    {
     "data": {
      "text/plain": [
       "88586"
      ]
     },
     "execution_count": 47,
     "metadata": {},
     "output_type": "execute_result"
    }
   ],
   "source": [
    "max_index_value = max([max(sequence) for sequence in x_train])\n",
    "max_index_value"
   ]
  },
  {
   "cell_type": "code",
   "execution_count": 48,
   "id": "f3381497",
   "metadata": {},
   "outputs": [
    {
     "data": {
      "text/plain": [
       "(((25000, 200), (25000,)), ((25000, 200), (25000,)))"
      ]
     },
     "execution_count": 48,
     "metadata": {},
     "output_type": "execute_result"
    }
   ],
   "source": [
    "(x_train.shape,y_train.shape),(x_test.shape,y_test.shape)"
   ]
  },
  {
   "cell_type": "code",
   "execution_count": 49,
   "id": "b4c187de",
   "metadata": {},
   "outputs": [],
   "source": [
    "maxlen=1000\n",
    "x_train=pad_sequences(x_train,padding=\"post\",maxlen=maxlen)\n",
    "x_test=pad_sequences(x_test,padding=\"post\",maxlen=maxlen)"
   ]
  },
  {
   "cell_type": "code",
   "execution_count": 50,
   "id": "1803c983",
   "metadata": {},
   "outputs": [
    {
     "data": {
      "text/plain": [
       "(25000, 1000)"
      ]
     },
     "execution_count": 50,
     "metadata": {},
     "output_type": "execute_result"
    }
   ],
   "source": [
    "x_train.shape"
   ]
  },
  {
   "cell_type": "code",
   "execution_count": 51,
   "id": "86d80d0b",
   "metadata": {},
   "outputs": [
    {
     "data": {
      "text/plain": [
       "(25000, 1000)"
      ]
     },
     "execution_count": 51,
     "metadata": {},
     "output_type": "execute_result"
    }
   ],
   "source": [
    "x_test.shape"
   ]
  },
  {
   "cell_type": "code",
   "execution_count": 52,
   "id": "3b683c56",
   "metadata": {},
   "outputs": [
    {
     "data": {
      "text/plain": [
       "(25000,)"
      ]
     },
     "execution_count": 52,
     "metadata": {},
     "output_type": "execute_result"
    }
   ],
   "source": [
    "y_train.shape"
   ]
  },
  {
   "cell_type": "code",
   "execution_count": 53,
   "id": "849b1f32",
   "metadata": {},
   "outputs": [
    {
     "name": "stdout",
     "output_type": "stream",
     "text": [
      "Model: \"sequential_5\"\n",
      "_________________________________________________________________\n",
      " Layer (type)                Output Shape              Param #   \n",
      "=================================================================\n",
      " embedding_5 (Embedding)     (None, 1000, 2)           177174    \n",
      "                                                                 \n",
      " simple_rnn_4 (SimpleRNN)    (None, 64)                4288      \n",
      "                                                                 \n",
      " dense_4 (Dense)             (None, 1)                 65        \n",
      "                                                                 \n",
      "=================================================================\n",
      "Total params: 181527 (709.09 KB)\n",
      "Trainable params: 181527 (709.09 KB)\n",
      "Non-trainable params: 0 (0.00 Byte)\n",
      "_________________________________________________________________\n"
     ]
    }
   ],
   "source": [
    "from tensorflow import keras\n",
    "model=Sequential()\n",
    "model.add(Embedding(input_dim=max_index_value+1, output_dim=2, input_length=maxlen))\n",
    "model.add(SimpleRNN(64,return_sequences=False))\n",
    "model.add(Dense(1,activation=\"sigmoid\"))\n",
    "model.summary()"
   ]
  },
  {
   "cell_type": "code",
   "execution_count": 54,
   "id": "e142bcc0",
   "metadata": {},
   "outputs": [],
   "source": [
    "model.compile(optimizer=\"adam\",\n",
    "              metrics=[\"accuracy\"],\n",
    "             loss=\"binary_crossentropy\")"
   ]
  },
  {
   "cell_type": "code",
   "execution_count": 55,
   "id": "977affb0",
   "metadata": {},
   "outputs": [
    {
     "name": "stdout",
     "output_type": "stream",
     "text": [
      "Epoch 1/5\n",
      "391/391 [==============================] - 88s 223ms/step - loss: 0.6975 - accuracy: 0.4998 - val_loss: 0.6948 - val_accuracy: 0.5000\n",
      "Epoch 2/5\n",
      "391/391 [==============================] - 86s 219ms/step - loss: 0.6941 - accuracy: 0.5005 - val_loss: 0.6944 - val_accuracy: 0.5000\n",
      "Epoch 3/5\n",
      "391/391 [==============================] - 86s 220ms/step - loss: 0.6942 - accuracy: 0.5084 - val_loss: 0.6950 - val_accuracy: 0.5000\n",
      "Epoch 4/5\n",
      "391/391 [==============================] - 86s 221ms/step - loss: 0.6940 - accuracy: 0.5029 - val_loss: 0.6940 - val_accuracy: 0.5000\n",
      "Epoch 5/5\n",
      "391/391 [==============================] - 86s 221ms/step - loss: 0.6945 - accuracy: 0.5002 - val_loss: 0.6941 - val_accuracy: 0.5000\n"
     ]
    },
    {
     "data": {
      "text/plain": [
       "<keras.src.callbacks.History at 0x1877d862ac0>"
      ]
     },
     "execution_count": 55,
     "metadata": {},
     "output_type": "execute_result"
    }
   ],
   "source": [
    "model.fit(x_train,y_train,epochs=5,validation_data=(x_test,y_test),batch_size=64)"
   ]
  },
  {
   "cell_type": "code",
   "execution_count": null,
   "id": "e663bbcf",
   "metadata": {},
   "outputs": [],
   "source": []
  },
  {
   "cell_type": "code",
   "execution_count": null,
   "id": "5e997105",
   "metadata": {},
   "outputs": [],
   "source": []
  }
 ],
 "metadata": {
  "kernelspec": {
   "display_name": "Python 3 (ipykernel)",
   "language": "python",
   "name": "python3"
  },
  "language_info": {
   "codemirror_mode": {
    "name": "ipython",
    "version": 3
   },
   "file_extension": ".py",
   "mimetype": "text/x-python",
   "name": "python",
   "nbconvert_exporter": "python",
   "pygments_lexer": "ipython3",
   "version": "3.9.12"
  }
 },
 "nbformat": 4,
 "nbformat_minor": 5
}
