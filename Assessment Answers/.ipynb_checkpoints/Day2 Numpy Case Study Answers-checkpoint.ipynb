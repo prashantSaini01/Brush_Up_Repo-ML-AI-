{
 "cells": [
  {
   "cell_type": "code",
   "execution_count": 1,
   "metadata": {
    "id": "SP2giFn9UEFw"
   },
   "outputs": [],
   "source": [
    "#numpy assesment\n",
    "import numpy as np"
   ]
  },
  {
   "cell_type": "code",
   "execution_count": 2,
   "metadata": {
    "id": "jmPfeFmTw6TM"
   },
   "outputs": [],
   "source": [
    "import random"
   ]
  },
  {
   "cell_type": "code",
   "execution_count": 3,
   "metadata": {
    "id": "maiL81TjW70e"
   },
   "outputs": [],
   "source": [
    "movie_id=np.random.randint(1301,2351,1050)"
   ]
  },
  {
   "cell_type": "code",
   "execution_count": 4,
   "metadata": {
    "colab": {
     "base_uri": "https://localhost:8080/"
    },
    "id": "7qNKUYPmQpTY",
    "outputId": "f7de90b3-9a6f-4251-edda-fbd4fa7c90fc"
   },
   "outputs": [
    {
     "data": {
      "text/plain": [
       "1050"
      ]
     },
     "execution_count": 4,
     "metadata": {},
     "output_type": "execute_result"
    }
   ],
   "source": [
    "movie_id.size"
   ]
  },
  {
   "cell_type": "code",
   "execution_count": 5,
   "metadata": {
    "id": "cRZxxgz3mdfQ"
   },
   "outputs": [],
   "source": [
    "matrix_movie=np.full((100,1000),-1)"
   ]
  },
  {
   "cell_type": "code",
   "execution_count": 6,
   "metadata": {
    "colab": {
     "base_uri": "https://localhost:8080/"
    },
    "id": "tzmN9M9XZOwg",
    "outputId": "fbddba58-a049-40ca-efd5-83ac547956a3"
   },
   "outputs": [
    {
     "data": {
      "text/plain": [
       "array([[-1, -1, -1, ..., -1, -1, -1],\n",
       "       [-1, -1, -1, ..., -1, -1, -1],\n",
       "       [-1, -1, -1, ..., -1, -1, -1],\n",
       "       ...,\n",
       "       [ 5,  6, -1, ..., -1, -1, -1],\n",
       "       [-1,  7, -1, ..., -1, -1, -1],\n",
       "       [ 4,  3, -1, ..., -1, -1,  2]])"
      ]
     },
     "execution_count": 6,
     "metadata": {},
     "output_type": "execute_result"
    }
   ],
   "source": [
    "for i in range(100):\n",
    "  nmovie=np.random.randint(0,1000)#movies user wants to rate\n",
    "  kmovie=np.random.randint(0,1000,size=nmovie)#indexes on which users want to rate\n",
    "  rating=np.random.randint(0,11,size=nmovie)#rating of all the nmovies\n",
    "  for j in range(nmovie):\n",
    "     matrix_movie[i][kmovie[j]]=rating[j]\n",
    "matrix_movie"
   ]
  },
  {
   "cell_type": "code",
   "execution_count": 7,
   "metadata": {
    "id": "jN6pLFPUxESA"
   },
   "outputs": [],
   "source": [
    "expert_movies=np.full((10,1000),-1)"
   ]
  },
  {
   "cell_type": "code",
   "execution_count": 8,
   "metadata": {
    "colab": {
     "base_uri": "https://localhost:8080/"
    },
    "id": "ZQhD3cMkLKuk",
    "outputId": "8fc68e76-e49a-4274-a074-60358bebcdfb"
   },
   "outputs": [
    {
     "data": {
      "text/plain": [
       "array([[-1,  4,  3, ...,  1, -1, -1],\n",
       "       [ 7,  5, -1, ..., -1, -1, -1],\n",
       "       [-1,  5,  4, ...,  0, -1,  2],\n",
       "       ...,\n",
       "       [-1, -1, -1, ..., -1, -1,  1],\n",
       "       [-1, -1, 10, ..., -1, -1,  4],\n",
       "       [ 1, -1,  4, ..., 10,  0, -1]])"
      ]
     },
     "execution_count": 8,
     "metadata": {},
     "output_type": "execute_result"
    }
   ],
   "source": [
    "for i in range(10):\n",
    "  nmovie=np.random.randint(0,1000)#movies user wants to rate\n",
    "  kmovie=np.random.randint(0,1000,size=nmovie)#indexes on which users want to rate\n",
    "  rating=np.random.randint(0,11,size=nmovie)#rating of all the nmovies\n",
    "  for j in range(nmovie):\n",
    "     expert_movies[i][kmovie[j]]=rating[j]\n",
    "expert_movies"
   ]
  },
  {
   "cell_type": "code",
   "execution_count": 9,
   "metadata": {
    "id": "YAfoZh82Lf6M"
   },
   "outputs": [],
   "source": [
    "matrix_movie=np.concatenate((matrix_movie,expert_movies),axis=0)"
   ]
  },
  {
   "cell_type": "code",
   "execution_count": 10,
   "metadata": {
    "id": "dw_TGbyDMxU9"
   },
   "outputs": [],
   "source": [
    "new_movies=np.full((110,50),-1)"
   ]
  },
  {
   "cell_type": "code",
   "execution_count": 11,
   "metadata": {
    "colab": {
     "base_uri": "https://localhost:8080/"
    },
    "id": "74zKEegINGgi",
    "outputId": "fad97b7b-6b0c-4ac3-c809-037b218a96f8"
   },
   "outputs": [
    {
     "data": {
      "text/plain": [
       "(110, 50)"
      ]
     },
     "execution_count": 11,
     "metadata": {},
     "output_type": "execute_result"
    }
   ],
   "source": [
    "for i in range(110):\n",
    "  nmovie=np.random.randint(0,50)#movies user wants to rate\n",
    "  kmovie=np.random.randint(0,50,size=nmovie)#indexes on which users want to rate\n",
    "  rating=np.random.randint(0,11,size=nmovie)#rating of all the nmovies\n",
    "  for j in range(nmovie):\n",
    "     new_movies[i][kmovie[j]]=rating[j]\n",
    "new_movies.shape"
   ]
  },
  {
   "cell_type": "code",
   "execution_count": 12,
   "metadata": {
    "id": "CmG1YbXuNeI6"
   },
   "outputs": [],
   "source": [
    "matrix_movie=np.concatenate((matrix_movie,new_movies),axis=1,dtype='float')"
   ]
  },
  {
   "cell_type": "code",
   "execution_count": 13,
   "metadata": {
    "id": "pIMAg6M5PuBo"
   },
   "outputs": [],
   "source": [
    "matrix_movie[matrix_movie==-1]=np.nan"
   ]
  },
  {
   "cell_type": "code",
   "execution_count": 14,
   "metadata": {
    "colab": {
     "base_uri": "https://localhost:8080/"
    },
    "id": "GKTdqYBG6EvI",
    "outputId": "4d155920-4895-4b10-c4c0-4547563adb4c"
   },
   "outputs": [
    {
     "data": {
      "text/plain": [
       "1050"
      ]
     },
     "execution_count": 14,
     "metadata": {},
     "output_type": "execute_result"
    }
   ],
   "source": [
    "avg_rating=np.nanmean(matrix_movie,axis=0)\n",
    "avg_rating.size"
   ]
  },
  {
   "cell_type": "code",
   "execution_count": 15,
   "metadata": {
    "colab": {
     "base_uri": "https://localhost:8080/"
    },
    "id": "_FPVAhNqxdwJ",
    "outputId": "06ebe4de-b9ea-4781-d4bb-d852a0ab8ad0"
   },
   "outputs": [
    {
     "data": {
      "text/plain": [
       "1050"
      ]
     },
     "execution_count": 15,
     "metadata": {},
     "output_type": "execute_result"
    }
   ],
   "source": [
    "std_rating=np.nanstd(matrix_movie,axis=0)\n",
    "std_rating.size"
   ]
  },
  {
   "cell_type": "code",
   "execution_count": 16,
   "metadata": {
    "colab": {
     "base_uri": "https://localhost:8080/"
    },
    "id": "ntswxnBbxsxW",
    "outputId": "e5b792d0-74b0-4b8f-d035-3b1b27cafd77"
   },
   "outputs": [
    {
     "data": {
      "text/plain": [
       "1050"
      ]
     },
     "execution_count": 16,
     "metadata": {},
     "output_type": "execute_result"
    }
   ],
   "source": [
    "cnt_rating=matrix_movie.shape[0]-np.sum(np.isnan(matrix_movie),axis=0)\n",
    "cnt_rating.size"
   ]
  },
  {
   "cell_type": "code",
   "execution_count": 17,
   "metadata": {
    "colab": {
     "base_uri": "https://localhost:8080/"
    },
    "id": "w9nsrequzYr4",
    "outputId": "510ce395-d3c3-4b08-d8d4-384c225da07a"
   },
   "outputs": [
    {
     "data": {
      "text/plain": [
       "array([[1895.        ,    5.2195122 ,    3.05647809,   41.        ],\n",
       "       [2181.        ,    5.75675676,    2.78417735,   37.        ],\n",
       "       [1842.        ,    4.92682927,    2.69950532,   41.        ],\n",
       "       ...,\n",
       "       [1590.        ,    4.77272727,    3.23239031,   44.        ],\n",
       "       [2027.        ,    5.26315789,    3.40807254,   38.        ],\n",
       "       [1700.        ,    4.75      ,    3.14797113,   36.        ]])"
      ]
     },
     "execution_count": 17,
     "metadata": {},
     "output_type": "execute_result"
    }
   ],
   "source": [
    "final_matrix=np.concatenate([[movie_id,avg_rating,std_rating,cnt_rating]],axis=1)\n",
    "final_matrix=np.transpose(final_matrix)\n",
    "final_matrix"
   ]
  },
  {
   "cell_type": "code",
   "execution_count": 18,
   "metadata": {
    "colab": {
     "base_uri": "https://localhost:8080/"
    },
    "id": "znHK23byjYGH",
    "outputId": "8bc9400b-e3b9-4a49-9059-a5cceb8cc9df"
   },
   "outputs": [
    {
     "data": {
      "text/plain": [
       "array([[1301.        ,    2.94736842,    2.35107963,   25.        ],\n",
       "       [1303.        ,    3.36363636,    2.35841688,   26.        ],\n",
       "       [1303.        ,    3.41935484,    2.35896975,   26.        ],\n",
       "       ...,\n",
       "       [2346.        ,    6.27777778,    3.70599177,   51.        ],\n",
       "       [2346.        ,    6.34146341,    3.75806448,   52.        ],\n",
       "       [2347.        ,    6.3902439 ,    3.78821672,   52.        ]])"
      ]
     },
     "execution_count": 18,
     "metadata": {},
     "output_type": "execute_result"
    }
   ],
   "source": [
    "np.sort(final_matrix,axis=0)"
   ]
  },
  {
   "cell_type": "code",
   "execution_count": 19,
   "metadata": {
    "id": "Tvjq6BkVyQ78"
   },
   "outputs": [],
   "source": [
    "np.save('file.npy',final_matrix)\n"
   ]
  }
 ],
 "metadata": {
  "colab": {
   "provenance": []
  },
  "kernelspec": {
   "display_name": "Python 3 (ipykernel)",
   "language": "python",
   "name": "python3"
  },
  "language_info": {
   "codemirror_mode": {
    "name": "ipython",
    "version": 3
   },
   "file_extension": ".py",
   "mimetype": "text/x-python",
   "name": "python",
   "nbconvert_exporter": "python",
   "pygments_lexer": "ipython3",
   "version": "3.9.12"
  }
 },
 "nbformat": 4,
 "nbformat_minor": 1
}
