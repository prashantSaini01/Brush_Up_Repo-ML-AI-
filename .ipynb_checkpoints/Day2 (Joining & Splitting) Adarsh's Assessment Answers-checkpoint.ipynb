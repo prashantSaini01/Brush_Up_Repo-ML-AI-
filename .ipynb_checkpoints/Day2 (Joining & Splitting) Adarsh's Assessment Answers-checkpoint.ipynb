{
 "cells": [
  {
   "cell_type": "markdown",
   "id": "0e1fcd48",
   "metadata": {},
   "source": [
    "**Track2  Day2 Joining and Splitting**"
   ]
  },
  {
   "cell_type": "code",
   "execution_count": 54,
   "id": "f9921e3f",
   "metadata": {},
   "outputs": [
    {
     "data": {
      "text/plain": [
       "array([1, 2, 3, 4, 5, 6])"
      ]
     },
     "execution_count": 54,
     "metadata": {},
     "output_type": "execute_result"
    }
   ],
   "source": [
    "# Joining in Numpy array can be done in 2 ways\n",
    "#1. Concatenation\n",
    "\n",
    "import numpy as np\n",
    "array1 = np.array([1,2,3])\n",
    "array2 = np.array([4,5,6])\n",
    "resultant = np.concatenate((array1, array2))\n",
    "resultant"
   ]
  },
  {
   "cell_type": "code",
   "execution_count": 55,
   "id": "3e68098b",
   "metadata": {},
   "outputs": [
    {
     "data": {
      "text/plain": [
       "array([1, 2, 3, 4, 5, 6])"
      ]
     },
     "execution_count": 55,
     "metadata": {},
     "output_type": "execute_result"
    }
   ],
   "source": [
    "# using axis = 0 parameter to join the elements horizontally \n",
    "array1 = np.array([1,2,3])\n",
    "array2 = np.array([4,5,6])\n",
    "resultant = np.concatenate((array1, array2),axis=0)\n",
    "resultant"
   ]
  },
  {
   "cell_type": "code",
   "execution_count": 56,
   "id": "d8133e03",
   "metadata": {},
   "outputs": [
    {
     "data": {
      "text/plain": [
       "array([[ 1,  2,  3, 10, 11, 12],\n",
       "       [ 4,  5,  6, 13, 14, 15],\n",
       "       [ 7,  8,  9, 16, 17, 18]])"
      ]
     },
     "execution_count": 56,
     "metadata": {},
     "output_type": "execute_result"
    }
   ],
   "source": [
    "# using axis = 1 parameter to join the elements vertically\n",
    "array1 = np.array([[1,2,3],[4,5,6],[7,8,9]])\n",
    "array2 = np.array([[10,11,12],[13,14,15],[16,17,18]])\n",
    "resultant = np.concatenate((array1, array2),axis=1)\n",
    "resultant"
   ]
  },
  {
   "cell_type": "code",
   "execution_count": 57,
   "id": "bd12fe6f",
   "metadata": {},
   "outputs": [
    {
     "data": {
      "text/plain": [
       "array([[1, 2, 3],\n",
       "       [4, 5, 6]])"
      ]
     },
     "execution_count": 57,
     "metadata": {},
     "output_type": "execute_result"
    }
   ],
   "source": [
    "#Stack with axis = 0\n",
    "array1 = np.array([1,2,3])\n",
    "array2 = np.array([4,5,6])\n",
    "resultant = np.stack((array1, array2),axis=0)\n",
    "resultant"
   ]
  },
  {
   "cell_type": "code",
   "execution_count": 58,
   "id": "daf0ff62",
   "metadata": {},
   "outputs": [
    {
     "data": {
      "text/plain": [
       "array([[1, 4],\n",
       "       [2, 5],\n",
       "       [3, 6]])"
      ]
     },
     "execution_count": 58,
     "metadata": {},
     "output_type": "execute_result"
    }
   ],
   "source": [
    "#Stack with axis = 1\n",
    "array1 = np.array([1,2,3])\n",
    "array2 = np.array([4,5,6])\n",
    "resultant = np.stack((array1, array2),axis=1)\n",
    "resultant"
   ]
  },
  {
   "cell_type": "code",
   "execution_count": 59,
   "id": "305e928e",
   "metadata": {},
   "outputs": [
    {
     "data": {
      "text/plain": [
       "array([[1, 2, 3],\n",
       "       [4, 5, 6]])"
      ]
     },
     "execution_count": 59,
     "metadata": {},
     "output_type": "execute_result"
    }
   ],
   "source": [
    "# vstack same as when using stack with axis = 0\n",
    "array1 = np.array([1,2,3])\n",
    "array2 = np.array([4,5,6])\n",
    "resultant = np.vstack((array1, array2))\n",
    "resultant"
   ]
  },
  {
   "cell_type": "code",
   "execution_count": 60,
   "id": "abf3b0e4",
   "metadata": {},
   "outputs": [
    {
     "data": {
      "text/plain": [
       "array([1, 2, 3, 4, 5, 6])"
      ]
     },
     "execution_count": 60,
     "metadata": {},
     "output_type": "execute_result"
    }
   ],
   "source": [
    "# hstack\n",
    "array1 = np.array([1,2,3])\n",
    "array2 = np.array([4,5,6])\n",
    "resultant = np.hstack((array1, array2))\n",
    "resultant"
   ]
  },
  {
   "cell_type": "code",
   "execution_count": 61,
   "id": "f3325bf4",
   "metadata": {},
   "outputs": [
    {
     "data": {
      "text/plain": [
       "array([[1, 4],\n",
       "       [2, 5],\n",
       "       [3, 6]])"
      ]
     },
     "execution_count": 61,
     "metadata": {},
     "output_type": "execute_result"
    }
   ],
   "source": [
    "# column_stack same as when using stack with axis = 1\n",
    "array1 = np.array([1,2,3])\n",
    "array2 = np.array([4,5,6])\n",
    "resultant = np.column_stack((array1, array2))\n",
    "resultant"
   ]
  },
  {
   "cell_type": "code",
   "execution_count": 62,
   "id": "3a1ce5dd",
   "metadata": {},
   "outputs": [
    {
     "data": {
      "text/plain": [
       "[array([1, 2, 3, 4]),\n",
       " array([5, 6, 7, 8]),\n",
       " array([ 9, 10, 11, 12]),\n",
       " array([13, 14, 15, 16]),\n",
       " array([17, 18, 19, 20])]"
      ]
     },
     "execution_count": 62,
     "metadata": {},
     "output_type": "execute_result"
    }
   ],
   "source": [
    "#Splitting in Numpy array \n",
    "array = np.array([1,2,3,4,5,6,7,8,9,10,11,12,13,14,15,16,17,18,19,20])\n",
    "result = np.array_split(array,5)\n",
    "result"
   ]
  },
  {
   "cell_type": "code",
   "execution_count": 63,
   "id": "7703cf16",
   "metadata": {},
   "outputs": [
    {
     "data": {
      "text/plain": [
       "[array([[1, 2, 3]]), array([[4, 5, 6]]), array([[7, 8, 9]])]"
      ]
     },
     "execution_count": 63,
     "metadata": {},
     "output_type": "execute_result"
    }
   ],
   "source": [
    "# vsplit works on 2d or above arrays\n",
    "array = np.array([[1, 2, 3], [4, 5, 6], [7, 8, 9]])\n",
    "result = np.vsplit(array,3)\n",
    "result"
   ]
  },
  {
   "cell_type": "code",
   "execution_count": 64,
   "id": "1a421a7a",
   "metadata": {},
   "outputs": [
    {
     "data": {
      "text/plain": [
       "[array([[1],\n",
       "        [4],\n",
       "        [7]]),\n",
       " array([[2],\n",
       "        [5],\n",
       "        [8]]),\n",
       " array([[3],\n",
       "        [6],\n",
       "        [9]])]"
      ]
     },
     "execution_count": 64,
     "metadata": {},
     "output_type": "execute_result"
    }
   ],
   "source": [
    "# hsplit\n",
    "array = np.array([[1, 2, 3], [4, 5, 6], [7, 8, 9]])\n",
    "result = np.hsplit(array,3)\n",
    "result"
   ]
  },
  {
   "cell_type": "code",
   "execution_count": 65,
   "id": "59bfd6de",
   "metadata": {},
   "outputs": [
    {
     "data": {
      "text/plain": [
       "array([[1, 2, 3],\n",
       "       [4, 5, 6],\n",
       "       [7, 8, 9]])"
      ]
     },
     "execution_count": 65,
     "metadata": {},
     "output_type": "execute_result"
    }
   ],
   "source": [
    "# Reshaping \n",
    "array = np.array([[1, 2, 3], [4, 5, 6], [7, 8, 9]])\n",
    "result = np.reshape(array,(3,3))  #selecting the  3x3 matrix depends and must be equal to our no. of elements in the array \n",
    "result"
   ]
  }
 ],
 "metadata": {
  "kernelspec": {
   "display_name": "Python 3 (ipykernel)",
   "language": "python",
   "name": "python3"
  },
  "language_info": {
   "codemirror_mode": {
    "name": "ipython",
    "version": 3
   },
   "file_extension": ".py",
   "mimetype": "text/x-python",
   "name": "python",
   "nbconvert_exporter": "python",
   "pygments_lexer": "ipython3",
   "version": "3.9.12"
  }
 },
 "nbformat": 4,
 "nbformat_minor": 5
}
