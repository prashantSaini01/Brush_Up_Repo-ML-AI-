{
 "cells": [
  {
   "cell_type": "markdown",
   "id": "c5150143",
   "metadata": {},
   "source": [
    "**Track2 Day1**"
   ]
  },
  {
   "cell_type": "code",
   "execution_count": 1,
   "id": "52495b22",
   "metadata": {},
   "outputs": [
    {
     "name": "stdout",
     "output_type": "stream",
     "text": [
      "b'Hello, Adarsh!'\n",
      "True\n",
      "Hello   Adarsh!\n",
      "7\n",
      "My name is Adarsh and I am 25 years old.\n",
      "My name is Adarsh and I am 30 years old.\n",
      "7\n",
      "True\n",
      "True\n",
      "True\n",
      "True\n",
      "True\n",
      "True\n",
      "True\n",
      "True\n",
      "True\n",
      "True\n",
      "True\n",
      "Hello-Adarsh-!\n",
      "Hello*****\n",
      "hello, adarsh!\n",
      "Hello, Adarsh!\n",
      "h2ll4\n",
      "('Hello', ', ', 'Adarsh!')\n",
      "Hello, Adarsh!\n",
      "7\n",
      "7\n",
      "*****Hello\n",
      "('Hello', ', ', 'Adarsh!')\n",
      "['Hello', 'Adarsh!']\n",
      "Hello, Adarsh!\n",
      "['Hello', 'Adarsh!']\n",
      "True\n",
      "Hello, Adarsh!\n",
      "hELLO, aDARSH!\n",
      "Hello, Adarsh!\n",
      "h2ll4\n",
      "HELLO, ADARSH!\n",
      "00042\n"
     ]
    }
   ],
   "source": [
    "# String functions all with examples..\n",
    "\n",
    "#capitalize\n",
    "name = 'adarsh'\n",
    "name.capitalize()\n",
    "\n",
    "#casefold\n",
    "name = 'ADARSH'\n",
    "name.casefold()\n",
    "\n",
    "#center\n",
    "name.center(20)\n",
    "\n",
    "#count\n",
    "name = 'My name is Adarsh Singh and also My nickname is Yash Singh.'\n",
    "name.count('Singh')\n",
    "\n",
    "#encode\n",
    "text = \"Hello, Adarsh!\"\n",
    "encoded_text = text.encode(encoding='utf-8')\n",
    "print(encoded_text)\n",
    "\n",
    "#endswith()\n",
    "text = \"Hello, Adarsh!\"\n",
    "ends_with_world = text.endswith(\"Adarsh!\")\n",
    "print(ends_with_world)\n",
    "\n",
    "# expandtabs()\n",
    "name = \"Hello\\tAdarsh!\"\n",
    "expanded_name = name.expandtabs(4)\n",
    "print(expanded_name)\n",
    "\n",
    "# find()\n",
    "name = \"Hello, Adarsh!\"\n",
    "index_name = name.find(\"Adarsh\")\n",
    "print(index_name) \n",
    "\n",
    "# format()\n",
    "name = \"Adarsh\"\n",
    "age = 25\n",
    "formatted_name = \"My name is {} and I am {} years old.\".format(name, age)\n",
    "print(formatted_name)\n",
    "\n",
    "# format_map()\n",
    "person = {'name': 'Adarsh', 'age': 30}\n",
    "formatted_name = \"My name is {name} and I am {age} years old.\".format_map(person)\n",
    "print(formatted_name) \n",
    "\n",
    "# index()\n",
    "name = \"Hello, Adarsh!\"\n",
    "index_world = name.index(\"Adarsh\")\n",
    "print(index_world) \n",
    "\n",
    "# isalnum()\n",
    "name = \"Hello123\"\n",
    "is_alnum = name.isalnum()\n",
    "print(is_alnum) \n",
    "\n",
    "# isalpha()\n",
    "name = \"Hello\"\n",
    "is_alpha = name.isalpha()\n",
    "print(is_alpha) \n",
    "\n",
    "# isdecimal()\n",
    "name = \"12345\"\n",
    "is_decimal = name.isdecimal()\n",
    "print(is_decimal)  \n",
    "\n",
    "# isdigit()\n",
    "name = \"12345\"\n",
    "is_digit = name.isdigit()\n",
    "print(is_digit)  \n",
    "\n",
    "# isidentifier()\n",
    "name = \"variable_name\"\n",
    "is_identifier = name.isidentifier()\n",
    "print(is_identifier)  \n",
    "\n",
    "# islower()\n",
    "name = \"hello\"\n",
    "is_lower = name.islower()\n",
    "print(is_lower) \n",
    "\n",
    "# isnumeric()\n",
    "name = \"12345\"\n",
    "is_numeric = name.isnumeric()\n",
    "print(is_numeric) \n",
    "\n",
    "# isprintable()\n",
    "name = \"Hello, Adarsh!\"\n",
    "is_printable = name.isprintable()\n",
    "print(is_printable)  \n",
    "\n",
    "# isspace()\n",
    "name = \"   \"\n",
    "is_space = name.isspace()\n",
    "print(is_space)  \n",
    "\n",
    "# istitle()\n",
    "name = \"Hello, Adarsh!\"\n",
    "is_title = name.istitle()\n",
    "print(is_title)  \n",
    "\n",
    "# isupper()\n",
    "name = \"ADARSH\"\n",
    "is_upper = name.isupper()\n",
    "print(is_upper)\n",
    "\n",
    "# join()\n",
    "words = [\"Hello\", \"Adarsh\", \"!\"]\n",
    "joined_name = \"-\".join(words)\n",
    "print(joined_name)  \n",
    "\n",
    "# ljust()\n",
    "name = \"Hello\"\n",
    "left_aligned_name = name.ljust(10, '*')\n",
    "print(left_aligned_name)  \n",
    "\n",
    "# lower()\n",
    "name = \"Hello, Adarsh!\"\n",
    "lower_case_name = name.lower()\n",
    "print(lower_case_name)  \n",
    "\n",
    "# lstrip()\n",
    "name = \"   Hello, Adarsh!\"\n",
    "left_stripped_name = name.lstrip()\n",
    "print(left_stripped_name)  \n",
    "\n",
    "# maketrans()\n",
    "table = str.maketrans(\"aeiou\", \"12345\")\n",
    "name = \"hello\"\n",
    "translated_name = name.translate(table)\n",
    "print(translated_name)  \n",
    "\n",
    "# partition()\n",
    "name = \"Hello, Adarsh!\"\n",
    "partitioned_name = name.partition(\", \")\n",
    "print(partitioned_name)  \n",
    "\n",
    "# replace()\n",
    "name = \"Hello, Adarsh!\"\n",
    "new_name = name.replace(\"World\", \"Adarsh!\")\n",
    "print(new_name)  \n",
    "\n",
    "# rfind()\n",
    "name = \"Hello, Hello, Adarsh!\"\n",
    "index_hello = name.rfind(\"Hello\")\n",
    "print(index_hello)  \n",
    "\n",
    "# rindex()\n",
    "name = \"Hello, Hello, Adarsh!\"\n",
    "index_hello = name.rindex(\"Hello\")\n",
    "print(index_hello) \n",
    "\n",
    "# rjust()\n",
    "name = \"Hello\"\n",
    "right_aligned_name = name.rjust(10, '*')\n",
    "print(right_aligned_name) \n",
    "\n",
    "# rpartition()\n",
    "name = \"Hello, Adarsh!\"\n",
    "right_partitioned_name = name.rpartition(\", \")\n",
    "print(right_partitioned_name)  \n",
    "\n",
    "# rsplit()\n",
    "name = \"Hello, Adarsh!\"\n",
    "right_split_name = name.rsplit(\", \")\n",
    "print(right_split_name) \n",
    "\n",
    "# rstrip()\n",
    "name = \"Hello, Adarsh!   \"\n",
    "right_stripped_name = name.rstrip()\n",
    "print(right_stripped_name)\n",
    "\n",
    "# splitlines()\n",
    "name = \"Hello\\nAdarsh!\\n\"\n",
    "split_lines = name.splitlines()\n",
    "print(split_lines) \n",
    "\n",
    "# startswith()\n",
    "name = \"Hello, Adarsh!\"\n",
    "starts_with_hello = name.startswith(\"Hello\")\n",
    "print(starts_with_hello)  \n",
    "\n",
    "# strip()\n",
    "name = \"   Hello, Adarsh!   \"\n",
    "stripped_name = name.strip()\n",
    "print(stripped_name) \n",
    "\n",
    "# swapcase()\n",
    "name = \"Hello, Adarsh!\"\n",
    "swapped_name = name.swapcase()\n",
    "print(swapped_name) \n",
    "\n",
    "# title()\n",
    "name = \"hello, Adarsh!\"\n",
    "title_name = name.title()\n",
    "print(title_name)  \n",
    "\n",
    "# translate()\n",
    "name = \"hello\"\n",
    "translation_table = str.maketrans(\"aeiou\", \"12345\")\n",
    "translated_name = name.translate(translation_table)\n",
    "print(translated_name)  \n",
    "\n",
    "# upper()\n",
    "name = \"hello, Adarsh!\"\n",
    "upper_case_name = name.upper()\n",
    "print(upper_case_name)  \n",
    "\n",
    "# zfill()\n",
    "name = \"42\"\n",
    "padded_name = name.zfill(5)\n",
    "print(padded_name)  "
   ]
  },
  {
   "cell_type": "code",
   "execution_count": 2,
   "id": "63aa3db8",
   "metadata": {},
   "outputs": [
    {
     "name": "stdout",
     "output_type": "stream",
     "text": [
      "enter str_1Adarsh\n",
      "enter str_2Yash\n"
     ]
    },
    {
     "data": {
      "text/plain": [
       "False"
      ]
     },
     "execution_count": 2,
     "metadata": {},
     "output_type": "execute_result"
    }
   ],
   "source": [
    "#Anagram Checker\n",
    "def anagram_checker(str_1,str_2):\n",
    "    return sorted(str_1)==sorted(str_2)\n",
    "str_1=str(input(\"enter str_1\"))\n",
    "str_2=str(input(\"enter str_2\"))\n",
    "\n",
    "result=anagram_checker(str_1,str_2)\n",
    "result\n"
   ]
  },
  {
   "cell_type": "code",
   "execution_count": 3,
   "id": "ad34ce91",
   "metadata": {},
   "outputs": [
    {
     "name": "stdout",
     "output_type": "stream",
     "text": [
      "Enter stringAdarsh Singh\n",
      "Adarsh Singh\n"
     ]
    }
   ],
   "source": [
    "#2 Compression\n",
    "def compress_string(s):\n",
    "    result = []\n",
    "    count = 1\n",
    "\n",
    "    for i in range(1, len(s)):\n",
    "        if s[i] == s[i - 1]:\n",
    "            count += 1\n",
    "        else:\n",
    "            result.append(s[i - 1] + str(count))\n",
    "            count = 1\n",
    "\n",
    "    result.append(s[-1] + str(count))\n",
    "    \n",
    "    compressed = ''.join(result)\n",
    "    return compressed if len(compressed) < len(s) else s\n",
    "\n",
    "\n",
    "input_str = str(input(\"Enter string\"))\n",
    "output_str = compress_string(input_str)\n",
    "print(output_str)"
   ]
  },
  {
   "cell_type": "code",
   "execution_count": 4,
   "id": "e9d2e26e",
   "metadata": {},
   "outputs": [
    {
     "name": "stdout",
     "output_type": "stream",
     "text": [
      "sun\n"
     ]
    }
   ],
   "source": [
    "#Longest Common Prefix\n",
    "def longest_common_prefix(strings):\n",
    "    if not strings:\n",
    "        return \"\"\n",
    "\n",
    "    prefix = strings[0]\n",
    "    for string in strings[1:]:\n",
    "        i = 0\n",
    "        while i < len(prefix) and i < len(string) and prefix[i] == string[i]:\n",
    "            i += 1\n",
    "        prefix = prefix[:i]\n",
    "\n",
    "    return prefix\n",
    "\n",
    "input_strings = [\"sun\", \"sunlight\",\"sunshine\"]\n",
    "output_prefix = longest_common_prefix(input_strings)\n",
    "print(output_prefix)"
   ]
  },
  {
   "cell_type": "code",
   "execution_count": 5,
   "id": "88bde352",
   "metadata": {},
   "outputs": [
    {
     "name": "stdout",
     "output_type": "stream",
     "text": [
      "True\n"
     ]
    }
   ],
   "source": [
    "#Rotated Palindrome\n",
    "def is_rotated_palindrome(str1, str2):\n",
    "    if len(str1) != len(str2):\n",
    "        return False\n",
    "\n",
    "   \n",
    "    concatenated_str = str1 + str1\n",
    "    return str2 in concatenated_str\n",
    "\n",
    "\n",
    "str1 = \"maam\"\n",
    "str2 = \"maam\"\n",
    "result = is_rotated_palindrome(str1, str2)\n",
    "print(result)"
   ]
  },
  {
   "cell_type": "code",
   "execution_count": 6,
   "id": "3eb834fd",
   "metadata": {},
   "outputs": [
    {
     "name": "stdout",
     "output_type": "stream",
     "text": [
      "Adarsh Singh\n"
     ]
    },
    {
     "data": {
      "text/plain": [
       "(2, 10)"
      ]
     },
     "execution_count": 6,
     "metadata": {},
     "output_type": "execute_result"
    }
   ],
   "source": [
    "# Vowels and Consonants\n",
    "def count_vowels_and_consonents():\n",
    "  s=input()\n",
    "  s.lower()\n",
    "  cons,vowels=0,0\n",
    "  for i in range(len(s)):\n",
    "    if s[i]=='a' or s[i]=='e' or s[i]=='i' or s[i]=='o' or s[i]=='u':\n",
    "      vowels+=1\n",
    "    else:\n",
    "      cons+=1\n",
    "  return vowels,cons\n",
    "count_vowels_and_consonents()"
   ]
  },
  {
   "cell_type": "code",
   "execution_count": 7,
   "id": "29168ed6",
   "metadata": {},
   "outputs": [
    {
     "name": "stdout",
     "output_type": "stream",
     "text": [
      "sunflower\n",
      "sunshine\n",
      "sunlight\n"
     ]
    },
    {
     "data": {
      "text/plain": [
       "'sun'"
      ]
     },
     "execution_count": 7,
     "metadata": {},
     "output_type": "execute_result"
    }
   ],
   "source": [
    "# Prefix\n",
    "def prefix():\n",
    "  strs=[input() for i in range(3)]\n",
    "  res=\"\"\n",
    "  for i in range(len(strs[0])):\n",
    "    for st in strs:\n",
    "      if i==len(st) or st[i]!=strs[0][i]:\n",
    "        return res\n",
    "    res+=strs[0][i]\n",
    "prefix()"
   ]
  },
  {
   "cell_type": "code",
   "execution_count": 8,
   "id": "a0fd4ad4",
   "metadata": {},
   "outputs": [
    {
     "name": "stdout",
     "output_type": "stream",
     "text": [
      "Adarsh\n"
     ]
    },
    {
     "data": {
      "text/plain": [
       "True"
      ]
     },
     "execution_count": 8,
     "metadata": {},
     "output_type": "execute_result"
    }
   ],
   "source": [
    "# Unique\n",
    "def unique():\n",
    "  s=input()\n",
    "  r=sorted(s)\n",
    "  i=1\n",
    "  while i<len(r):\n",
    "    if r[i]==r[i-1]:\n",
    "      return False\n",
    "      break\n",
    "    i+=1\n",
    "  return True\n",
    "unique()"
   ]
  },
  {
   "cell_type": "code",
   "execution_count": 18,
   "id": "6fa1af06",
   "metadata": {},
   "outputs": [
    {
     "name": "stdout",
     "output_type": "stream",
     "text": [
      "AarshSingh\n"
     ]
    },
    {
     "data": {
      "text/plain": [
       "'Aarsh Singh'"
      ]
     },
     "execution_count": 18,
     "metadata": {},
     "output_type": "execute_result"
    }
   ],
   "source": [
    "#Camel Case\n",
    "def camel_case_conversion():\n",
    "  s=input()\n",
    "  j=0\n",
    "  k=\"\"\n",
    "  for i in range(len(s)):\n",
    "    k+=s[i]\n",
    "    if i==len(s)-1:\n",
    "      break\n",
    "    elif s[i+1].isupper():\n",
    "      k+=' '\n",
    "  return k\n",
    "camel_case_conversion()"
   ]
  },
  {
   "cell_type": "code",
   "execution_count": 10,
   "id": "d0d7f755",
   "metadata": {},
   "outputs": [
    {
     "name": "stdout",
     "output_type": "stream",
     "text": [
      "((())\n"
     ]
    },
    {
     "data": {
      "text/plain": [
       "False"
      ]
     },
     "execution_count": 10,
     "metadata": {},
     "output_type": "execute_result"
    }
   ],
   "source": [
    "#Check Parenthesis\n",
    "def check_paranthesis():\n",
    "  s=input()\n",
    "  open=0\n",
    "  for i in range(len(s)):\n",
    "    if s[i]=='(':\n",
    "      open+=1\n",
    "    elif s[i]==')':\n",
    "      open-=1\n",
    "  return open==0\n",
    "check_paranthesis()"
   ]
  },
  {
   "cell_type": "code",
   "execution_count": 20,
   "id": "0f5cbf1d",
   "metadata": {},
   "outputs": [
    {
     "data": {
      "text/plain": [
       "['volleyball']"
      ]
     },
     "execution_count": 20,
     "metadata": {},
     "output_type": "execute_result"
    }
   ],
   "source": [
    "#todolist\n",
    "class to_do_List:\n",
    "  def __init__(self):\n",
    "    self.l1=[]\n",
    "  def add(self,n):\n",
    "    self.l1.append(n)\n",
    "    return self.l1\n",
    "  def view(self):\n",
    "    return self.l1\n",
    "  def remove(self,n1):\n",
    "    self.l1.remove(n1)\n",
    "    return self.l1\n",
    "\n",
    "m=to_do_List()\n",
    "m.add(\"volleyball\")\n",
    "m.add(\"games\")\n",
    "m.view()\n",
    "m.remove(\"games\")"
   ]
  },
  {
   "cell_type": "code",
   "execution_count": 12,
   "id": "457fe581",
   "metadata": {},
   "outputs": [
    {
     "name": "stdout",
     "output_type": "stream",
     "text": [
      "select number from 1 to 100 : 2\n",
      "low\n",
      "select number from 1 to 100 : 3\n",
      "low\n",
      "select number from 1 to 100 : 4\n",
      "low\n",
      "select number from 1 to 100 : 5\n",
      "low\n",
      "select number from 1 to 100 : 6\n",
      "low\n",
      "select number from 1 to 100 : 7\n",
      "low\n",
      "select number from 1 to 100 : 88\n",
      "high\n",
      "select number from 1 to 100 : 45\n",
      "low\n",
      "select number from 1 to 100 : 56\n",
      "low\n",
      "select number from 1 to 100 : 67\n",
      "low\n",
      "select number from 1 to 100 : 78\n",
      "correctguess\n"
     ]
    }
   ],
   "source": [
    "import random\n",
    "#guessthenumber\n",
    "num=random.randint(1,100)\n",
    "while True:\n",
    "  num2=int(input(\"select number from 1 to 100 : \"))\n",
    "  if num2<num:\n",
    "    print(\"low\")\n",
    "  elif num2==num:\n",
    "    print(\"correctguess\")\n",
    "    break\n",
    "  else:\n",
    "    print(\"high\")"
   ]
  },
  {
   "cell_type": "code",
   "execution_count": 13,
   "id": "f3472d4c",
   "metadata": {},
   "outputs": [
    {
     "name": "stdout",
     "output_type": "stream",
     "text": [
      "6\"4LrYq3fgWC\n"
     ]
    }
   ],
   "source": [
    "import string\n",
    "#passwordgenerator\n",
    "char=string.ascii_letters+string.digits+string.punctuation\n",
    "password=''.join(random.choice(char) for i in range(12))\n",
    "print(password)"
   ]
  },
  {
   "cell_type": "code",
   "execution_count": 19,
   "id": "366921a9",
   "metadata": {},
   "outputs": [
    {
     "name": "stdout",
     "output_type": "stream",
     "text": [
      "Adarsh\n",
      "2\n",
      "wfctuj\n"
     ]
    }
   ],
   "source": [
    "#ceasercipher\n",
    "str1=input()\n",
    "shift=int(input())\n",
    "encrypt=\"\"\n",
    "if str1.isupper():\n",
    "  base=ord('A')\n",
    "else:\n",
    "  base=ord('a')\n",
    "for i in range(len(str1)):\n",
    "  encrypt+=chr((ord(str1[i]) - base + shift) % 26 + base)\n",
    "print(encrypt)\n"
   ]
  },
  {
   "cell_type": "code",
   "execution_count": 15,
   "id": "9b16440b",
   "metadata": {},
   "outputs": [
    {
     "name": "stdout",
     "output_type": "stream",
     "text": [
      "AdarshSingh\n",
      ".--...-.-.............-.--.....\n"
     ]
    }
   ],
   "source": [
    "#morsecode\n",
    "MORSE_CODE_DICT = { 'A':'.-', 'B':'-...',\n",
    "                    'C':'-.-.', 'D':'-..', 'E':'.',\n",
    "                    'F':'..-.', 'G':'--.', 'H':'....',\n",
    "                    'I':'..', 'J':'.---', 'K':'-.-',\n",
    "                    'L':'.-..', 'M':'--', 'N':'-.',\n",
    "                    'O':'---', 'P':'.--.', 'Q':'--.-',\n",
    "                    'R':'.-.', 'S':'...', 'T':'-',\n",
    "                    'U':'..-', 'V':'...-', 'W':'.--',\n",
    "                    'X':'-..-', 'Y':'-.--', 'Z':'--..',\n",
    "                    '1':'.----', '2':'..---', '3':'...--',\n",
    "                    '4':'....-', '5':'.....', '6':'-....',\n",
    "                    '7':'--...', '8':'---..', '9':'----.',\n",
    "                    '0':'-----', ', ':'--..--', '.':'.-.-.-',\n",
    "                    '?':'..--..', '/':'-..-.', '-':'-....-',\n",
    "                    '(':'-.--.', ')':'-.--.-'}\n",
    "str1=input()\n",
    "morse_code=\"\"\n",
    "str1=str1.upper()\n",
    "for i in range(len(str1)):\n",
    "  morse_code+=MORSE_CODE_DICT[str1[i]]\n",
    "print(morse_code)"
   ]
  },
  {
   "cell_type": "code",
   "execution_count": 16,
   "id": "852a6fb0",
   "metadata": {},
   "outputs": [
    {
     "name": "stdout",
     "output_type": "stream",
     "text": [
      "True\n"
     ]
    }
   ],
   "source": [
    "# comparing using == operator \n",
    "a=1\n",
    "b=1\n",
    "print(a==b)"
   ]
  },
  {
   "cell_type": "code",
   "execution_count": 17,
   "id": "b7e05b3d",
   "metadata": {},
   "outputs": [
    {
     "name": "stdout",
     "output_type": "stream",
     "text": [
      "False\n"
     ]
    }
   ],
   "source": [
    "#comparing using is operator\n",
    "a=1\n",
    "b=[1,2,3]\n",
    "print(a is b)"
   ]
  }
 ],
 "metadata": {
  "kernelspec": {
   "display_name": "Python 3 (ipykernel)",
   "language": "python",
   "name": "python3"
  },
  "language_info": {
   "codemirror_mode": {
    "name": "ipython",
    "version": 3
   },
   "file_extension": ".py",
   "mimetype": "text/x-python",
   "name": "python",
   "nbconvert_exporter": "python",
   "pygments_lexer": "ipython3",
   "version": "3.9.12"
  }
 },
 "nbformat": 4,
 "nbformat_minor": 5
}
