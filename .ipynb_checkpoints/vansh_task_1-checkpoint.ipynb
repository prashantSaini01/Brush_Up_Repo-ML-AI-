{
 "cells": [
  {
   "cell_type": "code",
   "execution_count": null,
   "id": "b6b8b061",
   "metadata": {},
   "outputs": [],
   "source": [
    "#Anagram Checker:\n",
    "\n",
    "Task: Create a function to determine if two strings are anagrams (contain the same characters with the same frequency). Example: Input: \"listen\", \"silent\", Output: True\n",
    "\n",
    "String Compression:\n",
    "\n",
    "Task: Implement a function to perform basic string compression using the counts of repeated characters. Example: Input: \"aabcccccaaa\", Output: \"a2b1c5a3\"\n",
    "\n",
    "Longest Common Prefix:\n",
    "\n",
    "Task: Write a function to find the longest common prefix string amongst an array of strings. Example: Input: [\"flower\", \"flow\", \"flight\"], Output: \"fl\"\n",
    "\n",
    "Rotated Palindrome:\n",
    "\n",
    "Task: Determine if a given string is a rotated palindrome of another string. Example: Input: \"racecar\", \"carerace\", Output: True Count Vowels and Consonants:\n",
    "\n",
    "Task: Create a function to count the number of vowels and consonants in a given string. Example: Input: \"hello world\", Output: Vowels: 3, Consonants: 7\n",
    "\n",
    "Unique Characters:\n",
    "\n",
    "Task: Write a function to determine if a string has all unique characters. Example: Input: \"python\", Output: True\n",
    "\n",
    "Camel Case Conversion:\n",
    "\n",
    "Task: Convert a camel-case string to a space-separated string. Example: Input: \"camelCaseConversion\", Output: \"camel Case Conversion\"\n",
    "\n",
    "Parentheses Matching:\n",
    "\n",
    "Task: Write a function to check if a given string has balanced parentheses. Example: Input: \"((()))\", Output: True"
   ]
  },
  {
   "cell_type": "code",
   "execution_count": 39,
   "id": "4778946e",
   "metadata": {},
   "outputs": [
    {
     "name": "stdout",
     "output_type": "stream",
     "text": [
      "enter strlisten\n",
      "enter strsilent\n"
     ]
    },
    {
     "data": {
      "text/plain": [
       "True"
      ]
     },
     "execution_count": 39,
     "metadata": {},
     "output_type": "execute_result"
    }
   ],
   "source": [
    "#Anagram Checker\n",
    "def anagram_checker(str_1,str_2):\n",
    "    return sorted(str_1)==sorted(str_2)\n",
    "str_1=str(input(\"enter str_1\"))\n",
    "str_2=str(input(\"enter str_2\"))\n",
    "\n",
    "result=anagram_checker(str_1,str_2)\n",
    "result\n",
    "\n",
    "     \n",
    "    "
   ]
  },
  {
   "cell_type": "code",
   "execution_count": 41,
   "id": "8e2a03df",
   "metadata": {},
   "outputs": [
    {
     "name": "stdout",
     "output_type": "stream",
     "text": [
      "a2b4c9a3\n"
     ]
    }
   ],
   "source": [
    "#2 Compression\n",
    "def compress_string(s):\n",
    "    result = []\n",
    "    count = 1\n",
    "\n",
    "    for i in range(1, len(s)):\n",
    "        if s[i] == s[i - 1]:\n",
    "            count += 1\n",
    "        else:\n",
    "            result.append(s[i - 1] + str(count))\n",
    "            count = 1\n",
    "\n",
    "    result.append(s[-1] + str(count))\n",
    "    \n",
    "    compressed = ''.join(result)\n",
    "    return compressed if len(compressed) < len(s) else s\n",
    "\n",
    "\n",
    "input_str = \"aabbbbcccccccccaaa\"\n",
    "output_str = compress_string(input_str)\n",
    "print(output_str)"
   ]
  },
  {
   "cell_type": "code",
   "execution_count": 43,
   "id": "5f29f1a6",
   "metadata": {},
   "outputs": [
    {
     "name": "stdout",
     "output_type": "stream",
     "text": [
      "fl\n"
     ]
    }
   ],
   "source": [
    "def longest_common_prefix(strings):\n",
    "    if not strings:\n",
    "        return \"\"\n",
    "\n",
    "    prefix = strings[0]\n",
    "    for string in strings[1:]:\n",
    "        i = 0\n",
    "        while i < len(prefix) and i < len(string) and prefix[i] == string[i]:\n",
    "            i += 1\n",
    "        prefix = prefix[:i]\n",
    "\n",
    "    return prefix\n",
    "\n",
    "# Example:\n",
    "input_strings = [\"flower\", \"flow\", \"flight\"]\n",
    "output_prefix = longest_common_prefix(input_strings)\n",
    "print(output_prefix)"
   ]
  },
  {
   "cell_type": "code",
   "execution_count": 42,
   "id": "9fda71c0",
   "metadata": {},
   "outputs": [
    {
     "name": "stdout",
     "output_type": "stream",
     "text": [
      "False\n"
     ]
    }
   ],
   "source": [
    "#3\n",
    "def is_rotated_palindrome(str1, str2):\n",
    "    if len(str1) != len(str2):\n",
    "        return False\n",
    "\n",
    "   \n",
    "    concatenated_str = str1 + str1\n",
    "    return str2 in concatenated_str\n",
    "\n",
    "\n",
    "str1 = \"racecar\"\n",
    "str2 = \"carerace\"\n",
    "result = is_rotated_palindrome(str1, str2)\n",
    "print(result)"
   ]
  },
  {
   "cell_type": "code",
   "execution_count": 51,
   "id": "1f6d8e4f",
   "metadata": {},
   "outputs": [
    {
     "ename": "TypeError",
     "evalue": "sum() missing 1 required positional argument: 'b'",
     "output_type": "error",
     "traceback": [
      "\u001b[1;31m---------------------------------------------------------------------------\u001b[0m",
      "\u001b[1;31mTypeError\u001b[0m                                 Traceback (most recent call last)",
      "Cell \u001b[1;32mIn[51], line 9\u001b[0m\n\u001b[0;32m      7\u001b[0m \u001b[38;5;66;03m# Example:\u001b[39;00m\n\u001b[0;32m      8\u001b[0m input_str \u001b[38;5;241m=\u001b[39m \u001b[38;5;124m\"\u001b[39m\u001b[38;5;124mhello world\u001b[39m\u001b[38;5;124m\"\u001b[39m\n\u001b[1;32m----> 9\u001b[0m result \u001b[38;5;241m=\u001b[39m \u001b[43mcount_vowels_and_consonants\u001b[49m\u001b[43m(\u001b[49m\u001b[43minput_str\u001b[49m\u001b[43m)\u001b[49m\n\u001b[0;32m     10\u001b[0m \u001b[38;5;28mprint\u001b[39m(result)\n",
      "Cell \u001b[1;32mIn[51], line 3\u001b[0m, in \u001b[0;36mcount_vowels_and_consonants\u001b[1;34m(s)\u001b[0m\n\u001b[0;32m      1\u001b[0m \u001b[38;5;28;01mdef\u001b[39;00m \u001b[38;5;21mcount_vowels_and_consonants\u001b[39m(s):\n\u001b[0;32m      2\u001b[0m     vowels \u001b[38;5;241m=\u001b[39m \u001b[38;5;124m\"\u001b[39m\u001b[38;5;124maeiouAEIOU\u001b[39m\u001b[38;5;124m\"\u001b[39m\n\u001b[1;32m----> 3\u001b[0m     vowel_count \u001b[38;5;241m=\u001b[39m \u001b[38;5;28;43msum\u001b[39;49m\u001b[43m(\u001b[49m\u001b[38;5;28;43mlist\u001b[39;49m\u001b[43m(\u001b[49m\u001b[38;5;241;43m1\u001b[39;49m\u001b[43m \u001b[49m\u001b[38;5;28;43;01mfor\u001b[39;49;00m\u001b[43m \u001b[49m\u001b[43mchar\u001b[49m\u001b[43m \u001b[49m\u001b[38;5;129;43;01min\u001b[39;49;00m\u001b[43m \u001b[49m\u001b[43ms\u001b[49m\u001b[43m \u001b[49m\u001b[38;5;28;43;01mif\u001b[39;49;00m\u001b[43m \u001b[49m\u001b[43mchar\u001b[49m\u001b[43m \u001b[49m\u001b[38;5;129;43;01min\u001b[39;49;00m\u001b[43m \u001b[49m\u001b[43mvowels\u001b[49m\u001b[43m)\u001b[49m\u001b[43m)\u001b[49m\n\u001b[0;32m      4\u001b[0m     consonant_count \u001b[38;5;241m=\u001b[39m \u001b[38;5;28mlen\u001b[39m(s) \u001b[38;5;241m-\u001b[39m vowel_count\n\u001b[0;32m      5\u001b[0m     \u001b[38;5;28;01mreturn\u001b[39;00m {\u001b[38;5;124m\"\u001b[39m\u001b[38;5;124mVowels\u001b[39m\u001b[38;5;124m\"\u001b[39m: vowel_count, \u001b[38;5;124m\"\u001b[39m\u001b[38;5;124mConsonants\u001b[39m\u001b[38;5;124m\"\u001b[39m: consonant_count}\n",
      "\u001b[1;31mTypeError\u001b[0m: sum() missing 1 required positional argument: 'b'"
     ]
    }
   ],
   "source": [
    "def count_vowels_and_consonants(s):\n",
    "    vowels = \"aeiouAEIOU\"\n",
    "    vowel_count = sum(list(1 for char in s if char in vowels))\n",
    "    consonant_count = len(s) - vowel_count\n",
    "    return {\"Vowels\": vowel_count, \"Consonants\": consonant_count}\n",
    "\n",
    "# Example:\n",
    "input_str = \"hello world\"\n",
    "result = count_vowels_and_consonants(input_str)\n",
    "print(result)  # Output: {'Vowels': 3, 'Consonants': 7}\n",
    "\n"
   ]
  },
  {
   "cell_type": "code",
   "execution_count": 52,
   "id": "a0768424",
   "metadata": {},
   "outputs": [
    {
     "name": "stdout",
     "output_type": "stream",
     "text": [
      "True\n"
     ]
    }
   ],
   "source": [
    "def has_unique_characters(s):\n",
    "    return len(set(s)) == len(s)\n",
    "\n",
    "\n",
    "input_str = \"python\"\n",
    "result = has_unique_characters(input_str)\n",
    "print(result)  \n"
   ]
  },
  {
   "cell_type": "code",
   "execution_count": 54,
   "id": "93cfd526",
   "metadata": {},
   "outputs": [
    {
     "name": "stdout",
     "output_type": "stream",
     "text": [
      "camel_case_conversion\n"
     ]
    }
   ],
   "source": [
    "def camel_case_to_spaces(s):\n",
    "    result = [s[0].lower()]\n",
    "    \n",
    "    for char in s[1:]:\n",
    "        if char.isupper():\n",
    "            result.extend(['_', char.lower()])\n",
    "        else:\n",
    "            result.append(char)\n",
    "\n",
    "    return ''.join(result)\n",
    "\n",
    "\n",
    "input_str = \"camelCaseConversion\"\n",
    "result = camel_case_to_spaces(input_str)\n",
    "print(result)  \n"
   ]
  },
  {
   "cell_type": "code",
   "execution_count": 55,
   "id": "11495a1f",
   "metadata": {},
   "outputs": [
    {
     "name": "stdout",
     "output_type": "stream",
     "text": [
      "True\n"
     ]
    }
   ],
   "source": [
    "def is_balanced_parentheses(s):\n",
    "    stack = []\n",
    "    opening = \"({[\"\n",
    "    closing = \")}]\"\n",
    "    mapping = {')': '(', '}': '{', ']': '['}\n",
    "\n",
    "    for char in s:\n",
    "        if char in opening:\n",
    "            stack.append(char)\n",
    "        elif char in closing:\n",
    "            if not stack or stack.pop() != mapping[char]:\n",
    "                return False\n",
    "\n",
    "    return not stack\n",
    "\n",
    "\n",
    "input_str = \"((()))\"\n",
    "result = is_balanced_parentheses(input_str)\n",
    "print(result) "
   ]
  },
  {
   "cell_type": "code",
   "execution_count": null,
   "id": "752c316a",
   "metadata": {},
   "outputs": [],
   "source": [
    "#Question : To-Do List Manager\n",
    "\n",
    "Create a simple command-line program that allows users to add, view, and remove items from a to-do list. Use a list to store the items.\n",
    "\n",
    "Question : Guess the Number Game\n",
    "\n",
    "Develop a number guessing game where the computer generates a random number, and the user tries to guess it. Provide feedback on whether the guess is too high or too low.\n",
    "\n",
    "Question : Password Generator\n",
    "\n",
    "Create a tool that generates strong passwords with a specified length and complexity (uppercase, lowercase, digits, symbols).\n",
    "\n",
    "Question : Caesar Cipher\n",
    "\n",
    "Implement a simple Caesar cipher encryption program that shifts letters in a string by a specified number of positions.\n",
    "\n",
    "Text : ATTACKATONCE Shift: 4 Cipher: EXXEGOEXSRGI\n",
    "\n",
    "Bonus Question: Decrypt the Caeser Cipher"
   ]
  },
  {
   "cell_type": "code",
   "execution_count": 56,
   "id": "497701d3",
   "metadata": {},
   "outputs": [
    {
     "name": "stdout",
     "output_type": "stream",
     "text": [
      "Task \"Buy groceries\" added.\n",
      "Task \"Finish homework\" added.\n",
      "Tasks:\n",
      "1. Buy groceries\n",
      "2. Finish homework\n",
      "Task \"Buy groceries\" removed.\n",
      "Tasks:\n",
      "1. Finish homework\n"
     ]
    }
   ],
   "source": [
    "class ToDoList:\n",
    "    def __init__(self):\n",
    "        self.tasks = []\n",
    "\n",
    "    def add_task(self, task):\n",
    "        self.tasks.append(task)\n",
    "        print(f'Task \"{task}\" added.')\n",
    "\n",
    "    def view_tasks(self):\n",
    "        print(\"Tasks:\")\n",
    "        for index, task in enumerate(self.tasks, start=1):\n",
    "            print(f\"{index}. {task}\")\n",
    "\n",
    "    def remove_task(self, task):\n",
    "        if task in self.tasks:\n",
    "            self.tasks.remove(task)\n",
    "            print(f'Task \"{task}\" removed.')\n",
    "        else:\n",
    "            print(f'Task \"{task}\" not found.')\n",
    "\n",
    "\n",
    "todo_list = ToDoList()\n",
    "todo_list.add_task(\"Buy groceries\")\n",
    "todo_list.add_task(\"Finish homework\")\n",
    "todo_list.view_tasks()\n",
    "todo_list.remove_task(\"Buy groceries\")\n",
    "todo_list.view_tasks()\n"
   ]
  },
  {
   "cell_type": "code",
   "execution_count": 57,
   "id": "467b60f9",
   "metadata": {},
   "outputs": [
    {
     "name": "stdout",
     "output_type": "stream",
     "text": [
      "Guess the number (between 1 and 100): 8\n",
      "Too low. Try again.\n",
      "Guess the number (between 1 and 100): 77\n",
      "Too low. Try again.\n",
      "Guess the number (between 1 and 100): 55\n",
      "Too low. Try again.\n",
      "Guess the number (between 1 and 100): 99\n",
      "Too high. Try again.\n",
      "Guess the number (between 1 and 100): 60\n",
      "Too low. Try again.\n",
      "Guess the number (between 1 and 100): 70\n",
      "Too low. Try again.\n",
      "Guess the number (between 1 and 100): 75\n",
      "Too low. Try again.\n",
      "Guess the number (between 1 and 100): 80\n",
      "Too low. Try again.\n",
      "Guess the number (between 1 and 100): 85\n",
      "Too low. Try again.\n",
      "Guess the number (between 1 and 100): 90\n",
      "Too high. Try again.\n",
      "Guess the number (between 1 and 100): 86\n",
      "Too low. Try again.\n",
      "Guess the number (between 1 and 100): 87\n",
      "Too low. Try again.\n",
      "Guess the number (between 1 and 100): 88\n",
      "Congratulations! You guessed the correct number.\n"
     ]
    }
   ],
   "source": [
    "import random\n",
    "\n",
    "def guess_the_number():\n",
    "    secret_number = random.randint(1, 100)\n",
    "    \n",
    "    while True:\n",
    "        user_guess = int(input(\"Guess the number (between 1 and 100): \"))\n",
    "        \n",
    "        if user_guess == secret_number:\n",
    "            print(\"Congratulations! You guessed the correct number.\")\n",
    "            break\n",
    "        elif user_guess < secret_number:\n",
    "            print(\"Too low. Try again.\")\n",
    "        else:\n",
    "            print(\"Too high. Try again.\")\n",
    "\n",
    "\n",
    "guess_the_number()\n"
   ]
  },
  {
   "cell_type": "code",
   "execution_count": 58,
   "id": "f5bd235c",
   "metadata": {},
   "outputs": [
    {
     "name": "stdout",
     "output_type": "stream",
     "text": [
      "Generated Password: ms`w_`rS=3hN\n"
     ]
    }
   ],
   "source": [
    "import string\n",
    "import random\n",
    "\n",
    "def generate_password(length, uppercase=True, lowercase=True, digits=True, symbols=True):\n",
    "    characters = \"\"\n",
    "    if uppercase:\n",
    "        characters += string.ascii_uppercase\n",
    "    if lowercase:\n",
    "        characters += string.ascii_lowercase\n",
    "    if digits:\n",
    "        characters += string.digits\n",
    "    if symbols:\n",
    "        characters += string.punctuation\n",
    "\n",
    "    if not characters:\n",
    "        print(\"Error: At least one character type should be selected.\")\n",
    "        return None\n",
    "\n",
    "    password = ''.join(random.choice(characters) for _ in range(length))\n",
    "    return password\n",
    "\n",
    "\n",
    "password = generate_password(12, uppercase=True, lowercase=True, digits=True, symbols=True)\n",
    "print(f\"Generated Password: {password}\")\n"
   ]
  },
  {
   "cell_type": "code",
   "execution_count": 59,
   "id": "bbb301f9",
   "metadata": {},
   "outputs": [
    {
     "name": "stdout",
     "output_type": "stream",
     "text": [
      "Original Text: ATTACKATONCE\n",
      "Shift: 4\n",
      "Cipher Text: EXXEGOEXSRGI\n"
     ]
    }
   ],
   "source": [
    "def caesar_cipher(text, shift):\n",
    "    result = \"\"\n",
    "    for char in text:\n",
    "        if char.isalpha():\n",
    "            start = ord('a') if char.islower() else ord('A')\n",
    "            result += chr((ord(char) - start + shift) % 26 + start)\n",
    "        else:\n",
    "            result += char\n",
    "    return result\n",
    "\n",
    "\n",
    "text = \"ATTACKATONCE\"\n",
    "shift = 4\n",
    "cipher_text = caesar_cipher(text, shift)\n",
    "print(f\"Original Text: {text}\\nShift: {shift}\\nCipher Text: {cipher_text}\")\n"
   ]
  },
  {
   "cell_type": "code",
   "execution_count": 60,
   "id": "3c992058",
   "metadata": {},
   "outputs": [
    {
     "name": "stdout",
     "output_type": "stream",
     "text": [
      "Decrypted Text: ATTACKATONCE\n"
     ]
    }
   ],
   "source": [
    "def caesar_decipher(ciphertext, shift):\n",
    "    return caesar_cipher(ciphertext, -shift)\n",
    "\n",
    "\n",
    "decrypted_text = caesar_decipher(cipher_text, shift)\n",
    "print(f\"Decrypted Text: {decrypted_text}\")\n"
   ]
  },
  {
   "cell_type": "code",
   "execution_count": null,
   "id": "8b2adf6f",
   "metadata": {},
   "outputs": [],
   "source": []
  }
 ],
 "metadata": {
  "kernelspec": {
   "display_name": "Python 3 (ipykernel)",
   "language": "python",
   "name": "python3"
  },
  "language_info": {
   "codemirror_mode": {
    "name": "ipython",
    "version": 3
   },
   "file_extension": ".py",
   "mimetype": "text/x-python",
   "name": "python",
   "nbconvert_exporter": "python",
   "pygments_lexer": "ipython3",
   "version": "3.9.12"
  }
 },
 "nbformat": 4,
 "nbformat_minor": 5
}
