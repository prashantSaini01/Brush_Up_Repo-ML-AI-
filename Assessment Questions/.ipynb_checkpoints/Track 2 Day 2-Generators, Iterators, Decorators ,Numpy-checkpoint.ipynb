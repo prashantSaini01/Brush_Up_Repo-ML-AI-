{
 "cells": [
  {
   "cell_type": "markdown",
   "id": "1cfa57c5",
   "metadata": {},
   "source": [
    "#eval"
   ]
  },
  {
   "cell_type": "code",
   "execution_count": 80,
   "id": "7c1c3c40",
   "metadata": {},
   "outputs": [
    {
     "data": {
      "text/plain": [
       "10"
      ]
     },
     "execution_count": 80,
     "metadata": {},
     "output_type": "execute_result"
    }
   ],
   "source": [
    "eval('4+6')"
   ]
  },
  {
   "cell_type": "code",
   "execution_count": 81,
   "id": "df3526c8",
   "metadata": {},
   "outputs": [
    {
     "data": {
      "text/plain": [
       "(3+6j)"
      ]
     },
     "execution_count": 81,
     "metadata": {},
     "output_type": "execute_result"
    }
   ],
   "source": [
    "eval(\"3+6j\")"
   ]
  },
  {
   "cell_type": "code",
   "execution_count": 82,
   "id": "c2b63b4e",
   "metadata": {},
   "outputs": [
    {
     "data": {
      "text/plain": [
       "6.708203932499369"
      ]
     },
     "execution_count": 82,
     "metadata": {},
     "output_type": "execute_result"
    }
   ],
   "source": [
    "abs(3+6j)"
   ]
  },
  {
   "cell_type": "markdown",
   "id": "e045fe65",
   "metadata": {},
   "source": [
    "#task\n",
    "\n",
    "user will be given a question:\n",
    "give an answer\n",
    "evaluate and tell the user"
   ]
  },
  {
   "cell_type": "code",
   "execution_count": null,
   "id": "5a36729f",
   "metadata": {},
   "outputs": [],
   "source": [
    "\"5*7\"   #1,10\n",
    "35"
   ]
  },
  {
   "cell_type": "markdown",
   "id": "dcbb09d7",
   "metadata": {},
   "source": [
    "#random"
   ]
  },
  {
   "cell_type": "code",
   "execution_count": 84,
   "id": "bc7b3892",
   "metadata": {},
   "outputs": [],
   "source": [
    "import random as r"
   ]
  },
  {
   "cell_type": "code",
   "execution_count": 91,
   "id": "449155cd",
   "metadata": {},
   "outputs": [
    {
     "data": {
      "text/plain": [
       "0.9560342718892494"
      ]
     },
     "execution_count": 91,
     "metadata": {},
     "output_type": "execute_result"
    }
   ],
   "source": [
    "r.seed(2)\n",
    "r.random()"
   ]
  },
  {
   "cell_type": "code",
   "execution_count": 92,
   "id": "7f4f58e9",
   "metadata": {},
   "outputs": [
    {
     "data": {
      "text/plain": [
       "4"
      ]
     },
     "execution_count": 92,
     "metadata": {},
     "output_type": "execute_result"
    }
   ],
   "source": [
    "r.randint(1,45)"
   ]
  },
  {
   "cell_type": "code",
   "execution_count": 97,
   "id": "39e0b6d8",
   "metadata": {},
   "outputs": [
    {
     "data": {
      "text/plain": [
       "[55, 81, 50]"
      ]
     },
     "execution_count": 97,
     "metadata": {},
     "output_type": "execute_result"
    }
   ],
   "source": [
    "r.sample(range(100),3)"
   ]
  },
  {
   "cell_type": "code",
   "execution_count": 100,
   "id": "43996def",
   "metadata": {},
   "outputs": [
    {
     "data": {
      "text/plain": [
       "'b'"
      ]
     },
     "execution_count": 100,
     "metadata": {},
     "output_type": "execute_result"
    }
   ],
   "source": [
    "colors=[\"r\",\"b\",\"g\"]\n",
    "r.choice(colors)"
   ]
  },
  {
   "cell_type": "code",
   "execution_count": 106,
   "id": "29fd907c",
   "metadata": {},
   "outputs": [
    {
     "data": {
      "text/plain": [
       "['b', 'b', 'r', 'r', 'r', 'r', 'b', 'b', 'b', 'r']"
      ]
     },
     "execution_count": 106,
     "metadata": {},
     "output_type": "execute_result"
    }
   ],
   "source": [
    "r.choices(colors,k=10,weights=[0.6,0.8,0])"
   ]
  },
  {
   "cell_type": "markdown",
   "id": "170355f5",
   "metadata": {},
   "source": [
    "# Iterators"
   ]
  },
  {
   "cell_type": "code",
   "execution_count": 11,
   "id": "39c80050",
   "metadata": {
    "collapsed": true
   },
   "outputs": [
    {
     "data": {
      "text/plain": [
       "['__add__',\n",
       " '__class__',\n",
       " '__class_getitem__',\n",
       " '__contains__',\n",
       " '__delattr__',\n",
       " '__delitem__',\n",
       " '__dir__',\n",
       " '__doc__',\n",
       " '__eq__',\n",
       " '__format__',\n",
       " '__ge__',\n",
       " '__getattribute__',\n",
       " '__getitem__',\n",
       " '__gt__',\n",
       " '__hash__',\n",
       " '__iadd__',\n",
       " '__imul__',\n",
       " '__init__',\n",
       " '__init_subclass__',\n",
       " '__iter__',\n",
       " '__le__',\n",
       " '__len__',\n",
       " '__lt__',\n",
       " '__mul__',\n",
       " '__ne__',\n",
       " '__new__',\n",
       " '__reduce__',\n",
       " '__reduce_ex__',\n",
       " '__repr__',\n",
       " '__reversed__',\n",
       " '__rmul__',\n",
       " '__setattr__',\n",
       " '__setitem__',\n",
       " '__sizeof__',\n",
       " '__str__',\n",
       " '__subclasshook__',\n",
       " 'append',\n",
       " 'clear',\n",
       " 'copy',\n",
       " 'count',\n",
       " 'extend',\n",
       " 'index',\n",
       " 'insert',\n",
       " 'pop',\n",
       " 'remove',\n",
       " 'reverse',\n",
       " 'sort']"
      ]
     },
     "execution_count": 11,
     "metadata": {},
     "output_type": "execute_result"
    }
   ],
   "source": [
    "l=[1,2,3]\n",
    "dir(l)"
   ]
  },
  {
   "cell_type": "code",
   "execution_count": 13,
   "id": "8b15feab",
   "metadata": {},
   "outputs": [],
   "source": [
    "#__iter__(), __next__()\n",
    "x=iter(l)    #lazy evaluation"
   ]
  },
  {
   "cell_type": "code",
   "execution_count": 14,
   "id": "932dc1ca",
   "metadata": {},
   "outputs": [
    {
     "data": {
      "text/plain": [
       "1"
      ]
     },
     "execution_count": 14,
     "metadata": {},
     "output_type": "execute_result"
    }
   ],
   "source": [
    "next(x)"
   ]
  },
  {
   "cell_type": "code",
   "execution_count": 15,
   "id": "61941c19",
   "metadata": {},
   "outputs": [
    {
     "data": {
      "text/plain": [
       "2"
      ]
     },
     "execution_count": 15,
     "metadata": {},
     "output_type": "execute_result"
    }
   ],
   "source": [
    "next(x)"
   ]
  },
  {
   "cell_type": "code",
   "execution_count": 18,
   "id": "0e4d1451",
   "metadata": {},
   "outputs": [
    {
     "ename": "StopIteration",
     "evalue": "",
     "output_type": "error",
     "traceback": [
      "\u001b[1;31m---------------------------------------------------------------------------\u001b[0m",
      "\u001b[1;31mStopIteration\u001b[0m                             Traceback (most recent call last)",
      "Cell \u001b[1;32mIn[18], line 1\u001b[0m\n\u001b[1;32m----> 1\u001b[0m \u001b[38;5;28;43mnext\u001b[39;49m\u001b[43m(\u001b[49m\u001b[43mx\u001b[49m\u001b[43m)\u001b[49m\n",
      "\u001b[1;31mStopIteration\u001b[0m: "
     ]
    }
   ],
   "source": [
    "next(x)"
   ]
  },
  {
   "cell_type": "code",
   "execution_count": 21,
   "id": "e077a8a4",
   "metadata": {},
   "outputs": [],
   "source": [
    "#\n",
    "class DummyIterator:\n",
    "    def __iter__(self):\n",
    "        self.start=1\n",
    "        return self\n",
    "    \n",
    "    def __next__(self):\n",
    "        n=self.start\n",
    "        self.start+=1\n",
    "        return n\n",
    "    \n",
    "ob=DummyIterator()\n",
    "x=iter(ob)\n"
   ]
  },
  {
   "cell_type": "code",
   "execution_count": 34,
   "id": "153961e2",
   "metadata": {},
   "outputs": [
    {
     "data": {
      "text/plain": [
       "9"
      ]
     },
     "execution_count": 34,
     "metadata": {},
     "output_type": "execute_result"
    }
   ],
   "source": [
    "next(x)\n"
   ]
  },
  {
   "cell_type": "markdown",
   "id": "e4d05ded",
   "metadata": {},
   "source": [
    "# Generators"
   ]
  },
  {
   "cell_type": "code",
   "execution_count": 26,
   "id": "934fc42d",
   "metadata": {},
   "outputs": [],
   "source": [
    "def square(num):\n",
    "    for i in range(num):\n",
    "        yield i**2"
   ]
  },
  {
   "cell_type": "code",
   "execution_count": 37,
   "id": "c9b51503",
   "metadata": {},
   "outputs": [],
   "source": [
    "x=square(4)\n"
   ]
  },
  {
   "cell_type": "code",
   "execution_count": 40,
   "id": "30ecef64",
   "metadata": {},
   "outputs": [
    {
     "data": {
      "text/plain": [
       "4"
      ]
     },
     "execution_count": 40,
     "metadata": {},
     "output_type": "execute_result"
    }
   ],
   "source": [
    "next(x)"
   ]
  },
  {
   "cell_type": "code",
   "execution_count": 50,
   "id": "7da2b982",
   "metadata": {},
   "outputs": [],
   "source": [
    "def data(max_value):\n",
    "    initial=1\n",
    "    while initial<=max_value:\n",
    "        yield initial\n",
    "        initial+=1\n",
    "        \n",
    "ob=data(10**8)        "
   ]
  },
  {
   "cell_type": "code",
   "execution_count": 51,
   "id": "10c9cf71",
   "metadata": {},
   "outputs": [],
   "source": [
    "import sys"
   ]
  },
  {
   "cell_type": "code",
   "execution_count": 53,
   "id": "8dd503b4",
   "metadata": {},
   "outputs": [
    {
     "data": {
      "text/plain": [
       "104"
      ]
     },
     "execution_count": 53,
     "metadata": {},
     "output_type": "execute_result"
    }
   ],
   "source": [
    "sys.getsizeof(ob)"
   ]
  },
  {
   "cell_type": "code",
   "execution_count": 56,
   "id": "a7da445f",
   "metadata": {},
   "outputs": [],
   "source": [
    "d=list(data(10**8))"
   ]
  },
  {
   "cell_type": "code",
   "execution_count": 57,
   "id": "4deef83f",
   "metadata": {},
   "outputs": [
    {
     "data": {
      "text/plain": [
       "835128600"
      ]
     },
     "execution_count": 57,
     "metadata": {},
     "output_type": "execute_result"
    }
   ],
   "source": [
    "sys.getsizeof(d)"
   ]
  },
  {
   "cell_type": "markdown",
   "id": "68579de0",
   "metadata": {},
   "source": [
    "# Decorators"
   ]
  },
  {
   "cell_type": "code",
   "execution_count": null,
   "id": "3c14b332",
   "metadata": {},
   "outputs": [],
   "source": [
    "#function return another function\n",
    "#can you pass a function to a variable\n",
    "#nested function\n",
    "#function as argument to another function"
   ]
  },
  {
   "cell_type": "code",
   "execution_count": 65,
   "id": "42782173",
   "metadata": {},
   "outputs": [],
   "source": [
    "def decorate_msg(func):\n",
    "    def inner():\n",
    "        f=func()\n",
    "        converted=f.upper()\n",
    "        return converted\n",
    "    return inner\n",
    "\n",
    "@decorate_msg\n",
    "def msg():\n",
    "    return \"Neend toh nahi aa rahi?\""
   ]
  },
  {
   "cell_type": "code",
   "execution_count": 66,
   "id": "233b7c88",
   "metadata": {},
   "outputs": [
    {
     "data": {
      "text/plain": [
       "'NEEND TOH NAHI AA RAHI?'"
      ]
     },
     "execution_count": 66,
     "metadata": {},
     "output_type": "execute_result"
    }
   ],
   "source": [
    "msg()"
   ]
  },
  {
   "cell_type": "code",
   "execution_count": 74,
   "id": "df116cf6",
   "metadata": {},
   "outputs": [],
   "source": [
    "def decorate_divide(func):\n",
    "    def inner(a,b):\n",
    "        print(f'{a} will be divided by {b}')\n",
    "        if b==0:\n",
    "            print(\"cannot divide\")\n",
    "            return \n",
    "        return func(a,b)\n",
    "    return inner"
   ]
  },
  {
   "cell_type": "code",
   "execution_count": 77,
   "id": "66b1e374",
   "metadata": {},
   "outputs": [],
   "source": [
    "@decorate_divide\n",
    "def divide(a,b):\n",
    "    return a/b"
   ]
  },
  {
   "cell_type": "code",
   "execution_count": 79,
   "id": "6001ef6d",
   "metadata": {},
   "outputs": [
    {
     "name": "stdout",
     "output_type": "stream",
     "text": [
      "3 will be divided by 8\n"
     ]
    },
    {
     "data": {
      "text/plain": [
       "0.375"
      ]
     },
     "execution_count": 79,
     "metadata": {},
     "output_type": "execute_result"
    }
   ],
   "source": [
    "divide(3,8)"
   ]
  },
  {
   "cell_type": "code",
   "execution_count": null,
   "id": "893fb3c2",
   "metadata": {},
   "outputs": [],
   "source": []
  },
  {
   "cell_type": "code",
   "execution_count": null,
   "id": "ab9ddd57",
   "metadata": {},
   "outputs": [],
   "source": []
  },
  {
   "cell_type": "markdown",
   "id": "58e17425",
   "metadata": {},
   "source": [
    "# Numpy"
   ]
  },
  {
   "cell_type": "code",
   "execution_count": null,
   "id": "d685abd9",
   "metadata": {},
   "outputs": [],
   "source": [
    "#array creation routines"
   ]
  },
  {
   "cell_type": "code",
   "execution_count": 112,
   "id": "0357a3c7",
   "metadata": {},
   "outputs": [
    {
     "name": "stdout",
     "output_type": "stream",
     "text": [
      "[[1 2 3]\n",
      " [4 5 6]\n",
      " [7 8 9]]\n"
     ]
    }
   ],
   "source": [
    "import numpy as np\n",
    "arr2 = np.array([[1,2,3], [4,5,6],[7, 8, 9]])\n",
    "print(arr2)"
   ]
  },
  {
   "cell_type": "code",
   "execution_count": 113,
   "id": "e7aee8ee",
   "metadata": {},
   "outputs": [
    {
     "data": {
      "text/plain": [
       "array([[[1, 2, 3],\n",
       "        [4, 5, 6],\n",
       "        [7, 8, 9]],\n",
       "\n",
       "       [[1, 2, 3],\n",
       "        [4, 5, 6],\n",
       "        [7, 8, 9]]])"
      ]
     },
     "execution_count": 113,
     "metadata": {},
     "output_type": "execute_result"
    }
   ],
   "source": [
    "arr"
   ]
  },
  {
   "cell_type": "code",
   "execution_count": 114,
   "id": "55482dda",
   "metadata": {},
   "outputs": [
    {
     "name": "stdout",
     "output_type": "stream",
     "text": [
      "[[[1 2 3]\n",
      "  [4 5 6]\n",
      "  [7 8 9]]\n",
      "\n",
      " [[1 2 3]\n",
      "  [4 5 6]\n",
      "  [7 8 9]]]\n"
     ]
    }
   ],
   "source": [
    "arr3 = np.array([[[1,2,3], [4,5,6],[7, 8, 9]],[[1,2,3], [4,5,6],[7, 8, 9]]])\n",
    "print(arr3)"
   ]
  },
  {
   "cell_type": "code",
   "execution_count": 119,
   "id": "203c273b",
   "metadata": {},
   "outputs": [
    {
     "data": {
      "text/plain": [
       "72"
      ]
     },
     "execution_count": 119,
     "metadata": {},
     "output_type": "execute_result"
    }
   ],
   "source": [
    "arr3.itemsize*18"
   ]
  },
  {
   "cell_type": "code",
   "execution_count": 120,
   "id": "42dacee8",
   "metadata": {},
   "outputs": [
    {
     "data": {
      "text/plain": [
       "216"
      ]
     },
     "execution_count": 120,
     "metadata": {},
     "output_type": "execute_result"
    }
   ],
   "source": [
    "sys.getsizeof(arr3)"
   ]
  },
  {
   "cell_type": "code",
   "execution_count": 121,
   "id": "7d7b35e8",
   "metadata": {},
   "outputs": [
    {
     "data": {
      "text/plain": [
       "164"
      ]
     },
     "execution_count": 121,
     "metadata": {},
     "output_type": "execute_result"
    }
   ],
   "source": [
    "sys.getsizeof(arr2)"
   ]
  },
  {
   "cell_type": "code",
   "execution_count": 122,
   "id": "42221a61",
   "metadata": {},
   "outputs": [
    {
     "data": {
      "text/plain": [
       "36"
      ]
     },
     "execution_count": 122,
     "metadata": {},
     "output_type": "execute_result"
    }
   ],
   "source": [
    "arr2.itemsize*9"
   ]
  },
  {
   "cell_type": "code",
   "execution_count": 124,
   "id": "5c4f196e",
   "metadata": {},
   "outputs": [
    {
     "data": {
      "text/plain": [
       "array([[4, 4, 4, 4, 4],\n",
       "       [4, 4, 4, 4, 4],\n",
       "       [4, 4, 4, 4, 4],\n",
       "       [4, 4, 4, 4, 4],\n",
       "       [4, 4, 4, 4, 4],\n",
       "       [4, 4, 4, 4, 4],\n",
       "       [4, 4, 4, 4, 4],\n",
       "       [4, 4, 4, 4, 4],\n",
       "       [4, 4, 4, 4, 4],\n",
       "       [4, 4, 4, 4, 4]])"
      ]
     },
     "execution_count": 124,
     "metadata": {},
     "output_type": "execute_result"
    }
   ],
   "source": [
    "np.full((10,5),4)"
   ]
  },
  {
   "cell_type": "code",
   "execution_count": 127,
   "id": "57747bdf",
   "metadata": {},
   "outputs": [],
   "source": [
    "data=np.linspace(1,2,10).reshape(5,2)"
   ]
  },
  {
   "cell_type": "code",
   "execution_count": 131,
   "id": "c59c35c4",
   "metadata": {},
   "outputs": [
    {
     "data": {
      "text/plain": [
       "(10, 1)"
      ]
     },
     "execution_count": 131,
     "metadata": {},
     "output_type": "execute_result"
    }
   ],
   "source": [
    "data.reshape(-1,1).shape"
   ]
  },
  {
   "cell_type": "code",
   "execution_count": null,
   "id": "00a574df",
   "metadata": {},
   "outputs": [],
   "source": []
  },
  {
   "cell_type": "code",
   "execution_count": 132,
   "id": "0a5bbdec",
   "metadata": {},
   "outputs": [
    {
     "data": {
      "text/plain": [
       "15.0"
      ]
     },
     "execution_count": 132,
     "metadata": {},
     "output_type": "execute_result"
    }
   ],
   "source": [
    "#aggregation function\n",
    "data.sum()"
   ]
  },
  {
   "cell_type": "code",
   "execution_count": null,
   "id": "d96f09c1",
   "metadata": {},
   "outputs": [],
   "source": []
  },
  {
   "cell_type": "code",
   "execution_count": null,
   "id": "8edbd611",
   "metadata": {},
   "outputs": [],
   "source": [
    "#joining and splitting"
   ]
  },
  {
   "cell_type": "code",
   "execution_count": null,
   "id": "ffdd8404",
   "metadata": {},
   "outputs": [],
   "source": [
    "#concatenate, axis=0,1\n",
    "#stack\n",
    "#vstack\n",
    "#hstack\n",
    "#column_stack"
   ]
  },
  {
   "cell_type": "code",
   "execution_count": null,
   "id": "e3736365",
   "metadata": {},
   "outputs": [],
   "source": [
    "#split\n",
    "#vsplit\n",
    "#hsplit"
   ]
  },
  {
   "cell_type": "code",
   "execution_count": null,
   "id": "84349a2b",
   "metadata": {},
   "outputs": [],
   "source": [
    "#reshaping\n",
    "\n"
   ]
  },
  {
   "cell_type": "code",
   "execution_count": 135,
   "id": "a44c39ce",
   "metadata": {},
   "outputs": [
    {
     "data": {
      "text/plain": [
       "'xyzxyzABC'"
      ]
     },
     "execution_count": 135,
     "metadata": {},
     "output_type": "execute_result"
    }
   ],
   "source": [
    "translate_str=str.maketrans(\"pqr\",\"xyz\")\n",
    "\"pqrxyzABC\".translate(translate_str)"
   ]
  },
  {
   "cell_type": "markdown",
   "id": "ca3eada3",
   "metadata": {},
   "source": [
    "#Assessment: Numpy Case Study\n",
    "\n",
    "\n",
    "**Problem Statement:** \n",
    "\n",
    "A movie review website needs to create a database to store their data and perform operations on it. Create a dummy model with 100 users and 1000 movies to explain how it will work.\n",
    "\n",
    "**Topics Covered:**\n",
    "- NumPy\n",
    "    - numpy.ndarray\n",
    "    - Statistical operations using NumPy\n",
    "    - Mathematical operations using NumPy\n",
    "    \n",
    "**Tasks to be performed:**\n",
    "1. Generate 1000 movie IDs starting from 1301\n",
    "2. Create a matrix movies_matrix, to store users rating such that\n",
    "    - There are 100 users\n",
    "    - Each user can review as many movies as they want\n",
    "    - The review should be in between 0 to 10 (both inclusive)\n",
    "3. We have ten movie experts, let us take their reviews as well. 50 new movies and their reviews have to be added \n",
    "4. Create final_movie_rating matrix with four columns i.e., 'Movie ID', 'Average rating', 'Number of ratings', and           'Standard deviation of ratings'\n",
    "\n",
    "\n",
    "Bonus Questions\n",
    "\n",
    "5. Display the movies rating-wise, highest to lowest\n",
    "\n",
    "6. Store the array in a file and save it (file handling in Numpy)"
   ]
  },
  {
   "cell_type": "code",
   "execution_count": null,
   "id": "4f241880",
   "metadata": {},
   "outputs": [],
   "source": [
    "#100*1000\n",
    "1. 8,7,-1,5,6,-1,0\n",
    "2. "
   ]
  }
 ],
 "metadata": {
  "kernelspec": {
   "display_name": "Python 3 (ipykernel)",
   "language": "python",
   "name": "python3"
  },
  "language_info": {
   "codemirror_mode": {
    "name": "ipython",
    "version": 3
   },
   "file_extension": ".py",
   "mimetype": "text/x-python",
   "name": "python",
   "nbconvert_exporter": "python",
   "pygments_lexer": "ipython3",
   "version": "3.9.12"
  }
 },
 "nbformat": 4,
 "nbformat_minor": 5
}
